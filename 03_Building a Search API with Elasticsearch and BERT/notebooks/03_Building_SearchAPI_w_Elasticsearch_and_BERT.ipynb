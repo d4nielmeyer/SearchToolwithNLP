{
 "cells": [
  {
   "cell_type": "markdown",
   "metadata": {
    "id": "a2jji3LQ0LAp"
   },
   "source": [
    "# **Milestone 3:**\n",
    "Semantic Search with ML and BERT\n"
   ]
  },
  {
   "cell_type": "code",
   "execution_count": 1,
   "metadata": {
    "id": "BIfNBiQ4cJQ-"
   },
   "outputs": [
    {
     "name": "stdout",
     "output_type": "stream",
     "text": [
      "Requirement already satisfied: transformers in /home/d4niel92/miniconda3/lib/python3.9/site-packages (4.15.0)\n",
      "Requirement already satisfied: tqdm>=4.27 in /home/d4niel92/miniconda3/lib/python3.9/site-packages (from transformers) (4.62.3)\n",
      "Requirement already satisfied: tokenizers<0.11,>=0.10.1 in /home/d4niel92/miniconda3/lib/python3.9/site-packages (from transformers) (0.10.3)\n",
      "Requirement already satisfied: pyyaml>=5.1 in /home/d4niel92/miniconda3/lib/python3.9/site-packages (from transformers) (6.0)\n",
      "Requirement already satisfied: regex!=2019.12.17 in /home/d4niel92/miniconda3/lib/python3.9/site-packages (from transformers) (2021.11.10)\n",
      "Requirement already satisfied: requests in /home/d4niel92/miniconda3/lib/python3.9/site-packages (from transformers) (2.27.1)\n",
      "Requirement already satisfied: huggingface-hub<1.0,>=0.1.0 in /home/d4niel92/miniconda3/lib/python3.9/site-packages (from transformers) (0.4.0)\n",
      "Requirement already satisfied: filelock in /home/d4niel92/miniconda3/lib/python3.9/site-packages (from transformers) (3.4.2)\n",
      "Requirement already satisfied: sacremoses in /home/d4niel92/miniconda3/lib/python3.9/site-packages (from transformers) (0.0.47)\n",
      "Requirement already satisfied: numpy>=1.17 in /home/d4niel92/miniconda3/lib/python3.9/site-packages (from transformers) (1.21.2)\n",
      "Requirement already satisfied: packaging>=20.0 in /home/d4niel92/miniconda3/lib/python3.9/site-packages (from transformers) (21.3)\n",
      "Requirement already satisfied: typing-extensions>=3.7.4.3 in /home/d4niel92/miniconda3/lib/python3.9/site-packages (from huggingface-hub<1.0,>=0.1.0->transformers) (4.0.1)\n",
      "Requirement already satisfied: pyparsing!=3.0.5,>=2.0.2 in /home/d4niel92/miniconda3/lib/python3.9/site-packages (from packaging>=20.0->transformers) (3.0.4)\n",
      "Requirement already satisfied: certifi>=2017.4.17 in /home/d4niel92/miniconda3/lib/python3.9/site-packages (from requests->transformers) (2021.10.8)\n",
      "Requirement already satisfied: idna<4,>=2.5 in /home/d4niel92/miniconda3/lib/python3.9/site-packages (from requests->transformers) (3.3)\n",
      "Requirement already satisfied: charset-normalizer~=2.0.0 in /home/d4niel92/miniconda3/lib/python3.9/site-packages (from requests->transformers) (2.0.4)\n",
      "Requirement already satisfied: urllib3<1.27,>=1.21.1 in /home/d4niel92/miniconda3/lib/python3.9/site-packages (from requests->transformers) (1.26.7)\n",
      "Requirement already satisfied: click in /home/d4niel92/miniconda3/lib/python3.9/site-packages (from sacremoses->transformers) (8.0.3)\n",
      "Requirement already satisfied: six in /home/d4niel92/miniconda3/lib/python3.9/site-packages (from sacremoses->transformers) (1.16.0)\n",
      "Requirement already satisfied: joblib in /home/d4niel92/miniconda3/lib/python3.9/site-packages (from sacremoses->transformers) (1.1.0)\n",
      "Requirement already satisfied: sentence-transformers in /home/d4niel92/miniconda3/lib/python3.9/site-packages (2.1.0)\n",
      "Requirement already satisfied: huggingface-hub in /home/d4niel92/miniconda3/lib/python3.9/site-packages (from sentence-transformers) (0.4.0)\n",
      "Requirement already satisfied: sentencepiece in /home/d4niel92/miniconda3/lib/python3.9/site-packages (from sentence-transformers) (0.1.96)\n",
      "Requirement already satisfied: nltk in /home/d4niel92/miniconda3/lib/python3.9/site-packages (from sentence-transformers) (3.6.7)\n",
      "Requirement already satisfied: torch>=1.6.0 in /home/d4niel92/miniconda3/lib/python3.9/site-packages (from sentence-transformers) (1.10.1)\n",
      "Requirement already satisfied: transformers<5.0.0,>=4.6.0 in /home/d4niel92/miniconda3/lib/python3.9/site-packages (from sentence-transformers) (4.15.0)\n",
      "Requirement already satisfied: scikit-learn in /home/d4niel92/miniconda3/lib/python3.9/site-packages (from sentence-transformers) (1.0.2)\n",
      "Requirement already satisfied: scipy in /home/d4niel92/miniconda3/lib/python3.9/site-packages (from sentence-transformers) (1.7.3)\n",
      "Requirement already satisfied: tqdm in /home/d4niel92/miniconda3/lib/python3.9/site-packages (from sentence-transformers) (4.62.3)\n",
      "Requirement already satisfied: numpy in /home/d4niel92/miniconda3/lib/python3.9/site-packages (from sentence-transformers) (1.21.2)\n",
      "Requirement already satisfied: tokenizers>=0.10.3 in /home/d4niel92/miniconda3/lib/python3.9/site-packages (from sentence-transformers) (0.10.3)\n",
      "Requirement already satisfied: torchvision in /home/d4niel92/miniconda3/lib/python3.9/site-packages (from sentence-transformers) (0.11.2)\n",
      "Requirement already satisfied: typing-extensions in /home/d4niel92/miniconda3/lib/python3.9/site-packages (from torch>=1.6.0->sentence-transformers) (4.0.1)\n",
      "Requirement already satisfied: sacremoses in /home/d4niel92/miniconda3/lib/python3.9/site-packages (from transformers<5.0.0,>=4.6.0->sentence-transformers) (0.0.47)\n",
      "Requirement already satisfied: pyyaml>=5.1 in /home/d4niel92/miniconda3/lib/python3.9/site-packages (from transformers<5.0.0,>=4.6.0->sentence-transformers) (6.0)\n",
      "Requirement already satisfied: requests in /home/d4niel92/miniconda3/lib/python3.9/site-packages (from transformers<5.0.0,>=4.6.0->sentence-transformers) (2.27.1)\n",
      "Requirement already satisfied: packaging>=20.0 in /home/d4niel92/miniconda3/lib/python3.9/site-packages (from transformers<5.0.0,>=4.6.0->sentence-transformers) (21.3)\n",
      "Requirement already satisfied: filelock in /home/d4niel92/miniconda3/lib/python3.9/site-packages (from transformers<5.0.0,>=4.6.0->sentence-transformers) (3.4.2)\n",
      "Requirement already satisfied: regex!=2019.12.17 in /home/d4niel92/miniconda3/lib/python3.9/site-packages (from transformers<5.0.0,>=4.6.0->sentence-transformers) (2021.11.10)\n",
      "Requirement already satisfied: pyparsing!=3.0.5,>=2.0.2 in /home/d4niel92/miniconda3/lib/python3.9/site-packages (from packaging>=20.0->transformers<5.0.0,>=4.6.0->sentence-transformers) (3.0.4)\n",
      "Requirement already satisfied: joblib in /home/d4niel92/miniconda3/lib/python3.9/site-packages (from nltk->sentence-transformers) (1.1.0)\n",
      "Requirement already satisfied: click in /home/d4niel92/miniconda3/lib/python3.9/site-packages (from nltk->sentence-transformers) (8.0.3)\n",
      "Requirement already satisfied: certifi>=2017.4.17 in /home/d4niel92/miniconda3/lib/python3.9/site-packages (from requests->transformers<5.0.0,>=4.6.0->sentence-transformers) (2021.10.8)\n",
      "Requirement already satisfied: idna<4,>=2.5 in /home/d4niel92/miniconda3/lib/python3.9/site-packages (from requests->transformers<5.0.0,>=4.6.0->sentence-transformers) (3.3)\n",
      "Requirement already satisfied: urllib3<1.27,>=1.21.1 in /home/d4niel92/miniconda3/lib/python3.9/site-packages (from requests->transformers<5.0.0,>=4.6.0->sentence-transformers) (1.26.7)\n",
      "Requirement already satisfied: charset-normalizer~=2.0.0 in /home/d4niel92/miniconda3/lib/python3.9/site-packages (from requests->transformers<5.0.0,>=4.6.0->sentence-transformers) (2.0.4)\n",
      "Requirement already satisfied: six in /home/d4niel92/miniconda3/lib/python3.9/site-packages (from sacremoses->transformers<5.0.0,>=4.6.0->sentence-transformers) (1.16.0)\n",
      "Requirement already satisfied: threadpoolctl>=2.0.0 in /home/d4niel92/miniconda3/lib/python3.9/site-packages (from scikit-learn->sentence-transformers) (2.2.0)\n",
      "Requirement already satisfied: pillow!=8.3.0,>=5.3.0 in /home/d4niel92/miniconda3/lib/python3.9/site-packages (from torchvision->sentence-transformers) (8.4.0)\n",
      "Requirement already satisfied: elasticsearch in /home/d4niel92/miniconda3/lib/python3.9/site-packages (7.16.2)\n",
      "Requirement already satisfied: certifi in /home/d4niel92/miniconda3/lib/python3.9/site-packages (from elasticsearch) (2021.10.8)\n",
      "Requirement already satisfied: urllib3<2,>=1.21.1 in /home/d4niel92/miniconda3/lib/python3.9/site-packages (from elasticsearch) (1.26.7)\n"
     ]
    }
   ],
   "source": [
    "!pip install transformers\n",
    "!pip install -U sentence-transformers\n",
    "!pip install elasticsearch"
   ]
  },
  {
   "cell_type": "markdown",
   "metadata": {
    "id": "nDLDjeBwrxDk"
   },
   "source": [
    "### **Importing the required modules**"
   ]
  },
  {
   "cell_type": "code",
   "execution_count": 2,
   "metadata": {
    "id": "KF2VkBMxzqmr"
   },
   "outputs": [],
   "source": [
    "# import libraries\n",
    "import json\n",
    "import torch\n",
    "import numpy as np\n",
    "from elasticsearch import Elasticsearch, helpers\n",
    "from transformers import AutoModel, AutoTokenizer, pipeline\n",
    "from sentence_transformers import SentenceTransformer, util\n",
    "from pprint import pprint"
   ]
  },
  {
   "cell_type": "markdown",
   "metadata": {
    "id": "Ou6WJYn28B_B"
   },
   "source": [
    "### **Getting the data**"
   ]
  },
  {
   "cell_type": "code",
   "execution_count": 3,
   "metadata": {
    "id": "dVzHTT4Y8YBx"
   },
   "outputs": [],
   "source": [
    "DATA_DIR = '/mnt/c/Users/Daniel/elasticsearch/'"
   ]
  },
  {
   "cell_type": "code",
   "execution_count": 4,
   "metadata": {
    "id": "Jlya41XkXNSj",
    "scrolled": true
   },
   "outputs": [],
   "source": [
    "# load the json file\n",
    "with open(DATA_DIR + '03_data.json', 'r') as outfile:\n",
    "    data = json.load(outfile)"
   ]
  },
  {
   "cell_type": "code",
   "execution_count": 5,
   "metadata": {
    "colab": {
     "base_uri": "https://localhost:8080/"
    },
    "id": "ge-pmp01t_ax",
    "outputId": "0e3e9bbb-cc84-46fe-c63a-2ca2386b21dc"
   },
   "outputs": [
    {
     "data": {
      "text/plain": [
       "[{'section_title': 'Summary',\n",
       "  'text': 'Pandemic,Summary\\nA pandemic (from Greek πᾶν, pan, \"all\" and δῆμος, demos, \"people\") is an epidemic of an infectious disease that has spread across a large region, for instance multiple continents or worldwide, affecting a substantial number of people. A widespread endemic disease with a stable number of infected people is not a pandemic. Widespread endemic diseases with a stable number of infected people such as recurrences of seasonal influenza are generally excluded as they occur simultaneously in large regions of the globe rather than being spread worldwide.\\nThroughout human history, there have been a number of pandemics of diseases such as smallpox and tuberculosis. The most fatal pandemic in recorded history was the Black Death (also known as The Plague), which killed an estimated 75–200 million people in the 14th century. The term was not used yet but was for later pandemics including the 1918 influenza pandemic (Spanish flu). Current pandemics include COVID-19 (SARS-CoV-2) and HIV/AIDS.',\n",
       "  'main_section': 'Summary',\n",
       "  'article_title': 'Pandemic',\n",
       "  'source_url': 'https://en.wikipedia.org/wiki/Pandemic',\n",
       "  'page_id': 24255,\n",
       "  'tags': 'Pandemic,Summary',\n",
       "  'section_number': 0},\n",
       " {'section_title': 'Definition',\n",
       "  'text': 'Pandemic,Definition\\nA pandemic is an epidemic occurring on a scale that crosses international boundaries, usually affecting people on a worldwide scale. A disease or condition is not a pandemic merely because it is widespread or kills many people; it must also be infectious. For instance, cancer is responsible for many deaths but is not considered a pandemic because the disease is neither infectious nor contagious.',\n",
       "  'main_section': 'Definition',\n",
       "  'article_title': 'Pandemic',\n",
       "  'source_url': 'https://en.wikipedia.org/wiki/Pandemic',\n",
       "  'page_id': 24255,\n",
       "  'tags': 'Pandemic,Definition',\n",
       "  'section_number': 1}]"
      ]
     },
     "execution_count": 5,
     "metadata": {},
     "output_type": "execute_result"
    }
   ],
   "source": [
    "# print sample sentences\n",
    "g = (d for d in data)\n",
    "[next(g) for i in range(2)]"
   ]
  },
  {
   "cell_type": "code",
   "execution_count": 6,
   "metadata": {
    "colab": {
     "base_uri": "https://localhost:8080/"
    },
    "id": "hop1XvWc1mow",
    "outputId": "217dda26-bcdd-4620-850f-d43cccab6cf4"
   },
   "outputs": [
    {
     "name": "stdout",
     "output_type": "stream",
     "text": [
      "401\n"
     ]
    }
   ],
   "source": [
    "print(len(data))"
   ]
  },
  {
   "cell_type": "markdown",
   "metadata": {
    "id": "IF-hGN80XNSk"
   },
   "source": [
    "#### **Create Elasticsearch index**"
   ]
  },
  {
   "cell_type": "code",
   "execution_count": 7,
   "metadata": {
    "colab": {
     "base_uri": "https://localhost:8080/"
    },
    "id": "IOFVl5wPtadG",
    "outputId": "ca0cf2c6-35d0-404c-ada7-032c7c42761d"
   },
   "outputs": [
    {
     "name": "stdout",
     "output_type": "stream",
     "text": [
      "{\n",
      "  \"name\" : \"45b7ae5ec761\",\n",
      "  \"cluster_name\" : \"docker-cluster\",\n",
      "  \"cluster_uuid\" : \"hZVmxIutQiGGDeXFD_KWCg\",\n",
      "  \"version\" : {\n",
      "    \"number\" : \"7.16.2\",\n",
      "    \"build_flavor\" : \"default\",\n",
      "    \"build_type\" : \"docker\",\n",
      "    \"build_hash\" : \"2b937c44140b6559905130a8650c64dbd0879cfb\",\n",
      "    \"build_date\" : \"2021-12-18T19:42:46.604893745Z\",\n",
      "    \"build_snapshot\" : false,\n",
      "    \"lucene_version\" : \"8.10.1\",\n",
      "    \"minimum_wire_compatibility_version\" : \"6.8.0\",\n",
      "    \"minimum_index_compatibility_version\" : \"6.0.0-beta1\"\n",
      "  },\n",
      "  \"tagline\" : \"You Know, for Search\"\n",
      "}\n"
     ]
    }
   ],
   "source": [
    "# check if the elasticsearch container is running\n",
    "!curl http://localhost:9200/"
   ]
  },
  {
   "cell_type": "code",
   "execution_count": 8,
   "metadata": {
    "id": "ZyXcbrvAA2B_"
   },
   "outputs": [],
   "source": [
    "# instantiate elasticsearch client\n",
    "client = Elasticsearch()"
   ]
  },
  {
   "cell_type": "code",
   "execution_count": 9,
   "metadata": {
    "id": "EXuZcfUTA95V"
   },
   "outputs": [
    {
     "name": "stderr",
     "output_type": "stream",
     "text": [
      "/home/d4niel92/miniconda3/lib/python3.9/site-packages/elasticsearch/connection/base.py:200: ElasticsearchWarning: Elasticsearch built-in security features are not enabled. Without authentication, your cluster could be accessible to anyone. See https://www.elastic.co/guide/en/elasticsearch/reference/7.16/security-minimal-setup.html to enable security.\n",
      "  warnings.warn(message, category=ElasticsearchWarning)\n"
     ]
    }
   ],
   "source": [
    "# use helpers' bulk API to index list of elasticsearch docs\n",
    "response = helpers.bulk(client, data, index='pandemics')"
   ]
  },
  {
   "cell_type": "code",
   "execution_count": 10,
   "metadata": {
    "id": "Mlpc0LgnBYc6"
   },
   "outputs": [
    {
     "name": "stderr",
     "output_type": "stream",
     "text": [
      "/tmp/ipykernel_20691/3852563500.py:2: DeprecationWarning: Using positional arguments for APIs is deprecated and will be disabled in 8.0.0. Instead use only keyword arguments for all APIs. See https://github.com/elastic/elasticsearch-py/issues/1698 for more information\n",
      "  client.cat.count(\"_all\", params={\"format\": \"json\"})\n"
     ]
    },
    {
     "data": {
      "text/plain": [
       "[{'epoch': '1641987825', 'timestamp': '11:43:45', 'count': '0'}]"
      ]
     },
     "execution_count": 10,
     "metadata": {},
     "output_type": "execute_result"
    }
   ],
   "source": [
    "# count documents in all indices\n",
    "client.cat.count(\"_all\", params={\"format\": \"json\"})"
   ]
  },
  {
   "cell_type": "code",
   "execution_count": 11,
   "metadata": {
    "id": "dTU2SsrYBmLk"
   },
   "outputs": [
    {
     "name": "stderr",
     "output_type": "stream",
     "text": [
      "/tmp/ipykernel_20691/966010936.py:2: DeprecationWarning: Using positional arguments for APIs is deprecated and will be disabled in 8.0.0. Instead use only keyword arguments for all APIs. See https://github.com/elastic/elasticsearch-py/issues/1698 for more information\n",
      "  client.indices.get_alias(\"_all\")\n"
     ]
    },
    {
     "data": {
      "text/plain": [
       "{'pandemics': {'aliases': {}}}"
      ]
     },
     "execution_count": 11,
     "metadata": {},
     "output_type": "execute_result"
    }
   ],
   "source": [
    "# check currently available indices\n",
    "client.indices.get_alias(\"_all\")"
   ]
  },
  {
   "cell_type": "code",
   "execution_count": 12,
   "metadata": {
    "id": "bdInO9TVByfV"
   },
   "outputs": [
    {
     "name": "stderr",
     "output_type": "stream",
     "text": [
      "/tmp/ipykernel_20691/4085913714.py:2: DeprecationWarning: Using positional arguments for APIs is deprecated and will be disabled in 8.0.0. Instead use only keyword arguments for all APIs. See https://github.com/elastic/elasticsearch-py/issues/1698 for more information\n",
      "  client.cat.count(['pandemics'], params={\"format\": \"json\"})\n"
     ]
    },
    {
     "data": {
      "text/plain": [
       "[{'epoch': '1641987825', 'timestamp': '11:43:45', 'count': '0'}]"
      ]
     },
     "execution_count": 12,
     "metadata": {},
     "output_type": "execute_result"
    }
   ],
   "source": [
    "# count documents in specific index\n",
    "client.cat.count(['pandemics'], params={\"format\": \"json\"})"
   ]
  }
 ],
 "metadata": {
  "colab": {
   "collapsed_sections": [],
   "name": "03_Building_SearchAPI_w_Elasticsearch_and_BERT.ipynb",
   "provenance": []
  },
  "kernelspec": {
   "display_name": "Python 3 (ipykernel)",
   "language": "python",
   "name": "python3"
  },
  "language_info": {
   "codemirror_mode": {
    "name": "ipython",
    "version": 3
   },
   "file_extension": ".py",
   "mimetype": "text/x-python",
   "name": "python",
   "nbconvert_exporter": "python",
   "pygments_lexer": "ipython3",
   "version": "3.9.7"
  }
 },
 "nbformat": 4,
 "nbformat_minor": 4
}
