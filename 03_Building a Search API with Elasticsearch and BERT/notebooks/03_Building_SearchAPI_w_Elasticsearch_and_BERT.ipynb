{
 "cells": [
  {
   "cell_type": "markdown",
   "metadata": {
    "id": "a2jji3LQ0LAp"
   },
   "source": [
    "# **Milestone 3:**\n",
    "Semantic Search with ML and BERT\n"
   ]
  },
  {
   "cell_type": "code",
   "execution_count": 1,
   "metadata": {
    "id": "BIfNBiQ4cJQ-"
   },
   "outputs": [
    {
     "name": "stdout",
     "output_type": "stream",
     "text": [
      "Requirement already satisfied: transformers in /home/d4niel92/miniconda3/lib/python3.9/site-packages (4.15.0)\n",
      "Requirement already satisfied: huggingface-hub<1.0,>=0.1.0 in /home/d4niel92/miniconda3/lib/python3.9/site-packages (from transformers) (0.4.0)\n",
      "Requirement already satisfied: filelock in /home/d4niel92/miniconda3/lib/python3.9/site-packages (from transformers) (3.4.2)\n",
      "Requirement already satisfied: regex!=2019.12.17 in /home/d4niel92/miniconda3/lib/python3.9/site-packages (from transformers) (2021.11.10)\n",
      "Requirement already satisfied: sacremoses in /home/d4niel92/miniconda3/lib/python3.9/site-packages (from transformers) (0.0.47)\n",
      "Requirement already satisfied: tqdm>=4.27 in /home/d4niel92/miniconda3/lib/python3.9/site-packages (from transformers) (4.62.3)\n",
      "Requirement already satisfied: packaging>=20.0 in /home/d4niel92/miniconda3/lib/python3.9/site-packages (from transformers) (21.3)\n",
      "Requirement already satisfied: pyyaml>=5.1 in /home/d4niel92/miniconda3/lib/python3.9/site-packages (from transformers) (6.0)\n",
      "Requirement already satisfied: requests in /home/d4niel92/miniconda3/lib/python3.9/site-packages (from transformers) (2.27.1)\n",
      "Requirement already satisfied: numpy>=1.17 in /home/d4niel92/miniconda3/lib/python3.9/site-packages (from transformers) (1.21.2)\n",
      "Requirement already satisfied: tokenizers<0.11,>=0.10.1 in /home/d4niel92/miniconda3/lib/python3.9/site-packages (from transformers) (0.10.3)\n",
      "Requirement already satisfied: typing-extensions>=3.7.4.3 in /home/d4niel92/miniconda3/lib/python3.9/site-packages (from huggingface-hub<1.0,>=0.1.0->transformers) (4.0.1)\n",
      "Requirement already satisfied: pyparsing!=3.0.5,>=2.0.2 in /home/d4niel92/miniconda3/lib/python3.9/site-packages (from packaging>=20.0->transformers) (3.0.4)\n",
      "Requirement already satisfied: charset-normalizer~=2.0.0 in /home/d4niel92/miniconda3/lib/python3.9/site-packages (from requests->transformers) (2.0.4)\n",
      "Requirement already satisfied: certifi>=2017.4.17 in /home/d4niel92/miniconda3/lib/python3.9/site-packages (from requests->transformers) (2021.10.8)\n",
      "Requirement already satisfied: urllib3<1.27,>=1.21.1 in /home/d4niel92/miniconda3/lib/python3.9/site-packages (from requests->transformers) (1.26.7)\n",
      "Requirement already satisfied: idna<4,>=2.5 in /home/d4niel92/miniconda3/lib/python3.9/site-packages (from requests->transformers) (3.3)\n",
      "Requirement already satisfied: six in /home/d4niel92/miniconda3/lib/python3.9/site-packages (from sacremoses->transformers) (1.16.0)\n",
      "Requirement already satisfied: joblib in /home/d4niel92/miniconda3/lib/python3.9/site-packages (from sacremoses->transformers) (1.1.0)\n",
      "Requirement already satisfied: click in /home/d4niel92/miniconda3/lib/python3.9/site-packages (from sacremoses->transformers) (8.0.3)\n",
      "Requirement already satisfied: sentence-transformers in /home/d4niel92/miniconda3/lib/python3.9/site-packages (2.1.0)\n",
      "Requirement already satisfied: transformers<5.0.0,>=4.6.0 in /home/d4niel92/miniconda3/lib/python3.9/site-packages (from sentence-transformers) (4.15.0)\n",
      "Requirement already satisfied: sentencepiece in /home/d4niel92/miniconda3/lib/python3.9/site-packages (from sentence-transformers) (0.1.96)\n",
      "Requirement already satisfied: torchvision in /home/d4niel92/miniconda3/lib/python3.9/site-packages (from sentence-transformers) (0.11.2)\n",
      "Requirement already satisfied: tokenizers>=0.10.3 in /home/d4niel92/miniconda3/lib/python3.9/site-packages (from sentence-transformers) (0.10.3)\n",
      "Requirement already satisfied: numpy in /home/d4niel92/miniconda3/lib/python3.9/site-packages (from sentence-transformers) (1.21.2)\n",
      "Requirement already satisfied: scipy in /home/d4niel92/miniconda3/lib/python3.9/site-packages (from sentence-transformers) (1.7.3)\n",
      "Requirement already satisfied: huggingface-hub in /home/d4niel92/miniconda3/lib/python3.9/site-packages (from sentence-transformers) (0.4.0)\n",
      "Requirement already satisfied: scikit-learn in /home/d4niel92/miniconda3/lib/python3.9/site-packages (from sentence-transformers) (1.0.2)\n",
      "Requirement already satisfied: nltk in /home/d4niel92/miniconda3/lib/python3.9/site-packages (from sentence-transformers) (3.6.7)\n",
      "Requirement already satisfied: tqdm in /home/d4niel92/miniconda3/lib/python3.9/site-packages (from sentence-transformers) (4.62.3)\n",
      "Requirement already satisfied: torch>=1.6.0 in /home/d4niel92/miniconda3/lib/python3.9/site-packages (from sentence-transformers) (1.10.1)\n",
      "Requirement already satisfied: typing-extensions in /home/d4niel92/miniconda3/lib/python3.9/site-packages (from torch>=1.6.0->sentence-transformers) (4.0.1)\n",
      "Requirement already satisfied: sacremoses in /home/d4niel92/miniconda3/lib/python3.9/site-packages (from transformers<5.0.0,>=4.6.0->sentence-transformers) (0.0.47)\n",
      "Requirement already satisfied: regex!=2019.12.17 in /home/d4niel92/miniconda3/lib/python3.9/site-packages (from transformers<5.0.0,>=4.6.0->sentence-transformers) (2021.11.10)\n",
      "Requirement already satisfied: requests in /home/d4niel92/miniconda3/lib/python3.9/site-packages (from transformers<5.0.0,>=4.6.0->sentence-transformers) (2.27.1)\n",
      "Requirement already satisfied: filelock in /home/d4niel92/miniconda3/lib/python3.9/site-packages (from transformers<5.0.0,>=4.6.0->sentence-transformers) (3.4.2)\n",
      "Requirement already satisfied: pyyaml>=5.1 in /home/d4niel92/miniconda3/lib/python3.9/site-packages (from transformers<5.0.0,>=4.6.0->sentence-transformers) (6.0)\n",
      "Requirement already satisfied: packaging>=20.0 in /home/d4niel92/miniconda3/lib/python3.9/site-packages (from transformers<5.0.0,>=4.6.0->sentence-transformers) (21.3)\n",
      "Requirement already satisfied: pyparsing!=3.0.5,>=2.0.2 in /home/d4niel92/miniconda3/lib/python3.9/site-packages (from packaging>=20.0->transformers<5.0.0,>=4.6.0->sentence-transformers) (3.0.4)\n",
      "Requirement already satisfied: joblib in /home/d4niel92/miniconda3/lib/python3.9/site-packages (from nltk->sentence-transformers) (1.1.0)\n",
      "Requirement already satisfied: click in /home/d4niel92/miniconda3/lib/python3.9/site-packages (from nltk->sentence-transformers) (8.0.3)\n",
      "Requirement already satisfied: idna<4,>=2.5 in /home/d4niel92/miniconda3/lib/python3.9/site-packages (from requests->transformers<5.0.0,>=4.6.0->sentence-transformers) (3.3)\n",
      "Requirement already satisfied: urllib3<1.27,>=1.21.1 in /home/d4niel92/miniconda3/lib/python3.9/site-packages (from requests->transformers<5.0.0,>=4.6.0->sentence-transformers) (1.26.7)\n",
      "Requirement already satisfied: certifi>=2017.4.17 in /home/d4niel92/miniconda3/lib/python3.9/site-packages (from requests->transformers<5.0.0,>=4.6.0->sentence-transformers) (2021.10.8)\n",
      "Requirement already satisfied: charset-normalizer~=2.0.0 in /home/d4niel92/miniconda3/lib/python3.9/site-packages (from requests->transformers<5.0.0,>=4.6.0->sentence-transformers) (2.0.4)\n",
      "Requirement already satisfied: six in /home/d4niel92/miniconda3/lib/python3.9/site-packages (from sacremoses->transformers<5.0.0,>=4.6.0->sentence-transformers) (1.16.0)\n",
      "Requirement already satisfied: threadpoolctl>=2.0.0 in /home/d4niel92/miniconda3/lib/python3.9/site-packages (from scikit-learn->sentence-transformers) (2.2.0)\n",
      "Requirement already satisfied: pillow!=8.3.0,>=5.3.0 in /home/d4niel92/miniconda3/lib/python3.9/site-packages (from torchvision->sentence-transformers) (8.4.0)\n",
      "Requirement already satisfied: elasticsearch in /home/d4niel92/miniconda3/lib/python3.9/site-packages (7.16.2)\n",
      "Requirement already satisfied: urllib3<2,>=1.21.1 in /home/d4niel92/miniconda3/lib/python3.9/site-packages (from elasticsearch) (1.26.7)\n",
      "Requirement already satisfied: certifi in /home/d4niel92/miniconda3/lib/python3.9/site-packages (from elasticsearch) (2021.10.8)\n"
     ]
    }
   ],
   "source": [
    "!pip install transformers\n",
    "!pip install -U sentence-transformers\n",
    "!pip install elasticsearch"
   ]
  },
  {
   "cell_type": "markdown",
   "metadata": {
    "id": "OCZ64HgIoKrE"
   },
   "source": [
    "### **Importing the require modules**"
   ]
  },
  {
   "cell_type": "code",
   "execution_count": 2,
   "metadata": {
    "id": "KF2VkBMxzqmr"
   },
   "outputs": [],
   "source": [
    "# import libraries\n",
    "import json\n",
    "import torch\n",
    "import numpy as np\n",
    "from elasticsearch import Elasticsearch, helpers\n",
    "from transformers import AutoModel, AutoTokenizer, pipeline\n",
    "from sentence_transformers import SentenceTransformer, util\n",
    "from pprint import pprint"
   ]
  },
  {
   "cell_type": "markdown",
   "metadata": {
    "id": "Ou6WJYn28B_B"
   },
   "source": [
    "### **Getting the data**"
   ]
  },
  {
   "cell_type": "code",
   "execution_count": 3,
   "metadata": {
    "id": "dVzHTT4Y8YBx"
   },
   "outputs": [],
   "source": [
    "DATA_DIR = '/mnt/c/Users/Daniel/elasticsearch/'"
   ]
  },
  {
   "cell_type": "code",
   "execution_count": 4,
   "metadata": {
    "id": "Jlya41XkXNSj",
    "scrolled": true
   },
   "outputs": [],
   "source": [
    "# load the json file\n",
    "with open(DATA_DIR + '03_data.json', 'r') as outfile:\n",
    "    data = json.load(outfile)"
   ]
  },
  {
   "cell_type": "code",
   "execution_count": 5,
   "metadata": {
    "colab": {
     "base_uri": "https://localhost:8080/"
    },
    "id": "ge-pmp01t_ax",
    "outputId": "0e3e9bbb-cc84-46fe-c63a-2ca2386b21dc"
   },
   "outputs": [
    {
     "data": {
      "text/plain": [
       "[{'section_title': 'Summary',\n",
       "  'text': 'Pandemic,Summary\\nA pandemic (from Greek πᾶν, pan, \"all\" and δῆμος, demos, \"people\") is an epidemic of an infectious disease that has spread across a large region, for instance multiple continents or worldwide, affecting a substantial number of people. A widespread endemic disease with a stable number of infected people is not a pandemic. Widespread endemic diseases with a stable number of infected people such as recurrences of seasonal influenza are generally excluded as they occur simultaneously in large regions of the globe rather than being spread worldwide.\\nThroughout human history, there have been a number of pandemics of diseases such as smallpox and tuberculosis. The most fatal pandemic in recorded history was the Black Death (also known as The Plague), which killed an estimated 75–200 million people in the 14th century. The term was not used yet but was for later pandemics including the 1918 influenza pandemic (Spanish flu). Current pandemics include COVID-19 (SARS-CoV-2) and HIV/AIDS.',\n",
       "  'main_section': 'Summary',\n",
       "  'article_title': 'Pandemic',\n",
       "  'source_url': 'https://en.wikipedia.org/wiki/Pandemic',\n",
       "  'page_id': 24255,\n",
       "  'tags': 'Pandemic,Summary',\n",
       "  'section_number': 0},\n",
       " {'section_title': 'Definition',\n",
       "  'text': 'Pandemic,Definition\\nA pandemic is an epidemic occurring on a scale that crosses international boundaries, usually affecting people on a worldwide scale. A disease or condition is not a pandemic merely because it is widespread or kills many people; it must also be infectious. For instance, cancer is responsible for many deaths but is not considered a pandemic because the disease is neither infectious nor contagious.',\n",
       "  'main_section': 'Definition',\n",
       "  'article_title': 'Pandemic',\n",
       "  'source_url': 'https://en.wikipedia.org/wiki/Pandemic',\n",
       "  'page_id': 24255,\n",
       "  'tags': 'Pandemic,Definition',\n",
       "  'section_number': 1}]"
      ]
     },
     "execution_count": 5,
     "metadata": {},
     "output_type": "execute_result"
    }
   ],
   "source": [
    "# print sample sentences\n",
    "g = (d for d in data)\n",
    "[next(g) for i in range(2)]"
   ]
  },
  {
   "cell_type": "code",
   "execution_count": 6,
   "metadata": {
    "colab": {
     "base_uri": "https://localhost:8080/"
    },
    "id": "hop1XvWc1mow",
    "outputId": "217dda26-bcdd-4620-850f-d43cccab6cf4"
   },
   "outputs": [
    {
     "name": "stdout",
     "output_type": "stream",
     "text": [
      "401\n"
     ]
    }
   ],
   "source": [
    "print(len(data))"
   ]
  },
  {
   "cell_type": "markdown",
   "metadata": {
    "id": "IF-hGN80XNSk"
   },
   "source": [
    "### **Create Elasticsearch index**"
   ]
  },
  {
   "cell_type": "code",
   "execution_count": 7,
   "metadata": {
    "colab": {
     "base_uri": "https://localhost:8080/"
    },
    "id": "IOFVl5wPtadG",
    "outputId": "ca0cf2c6-35d0-404c-ada7-032c7c42761d"
   },
   "outputs": [
    {
     "name": "stdout",
     "output_type": "stream",
     "text": [
      "{\r\n",
      "  \"name\" : \"7cd0a2ee72bb\",\r\n",
      "  \"cluster_name\" : \"docker-cluster\",\r\n",
      "  \"cluster_uuid\" : \"bTYK_9PUSNmnwTmfwgWikA\",\r\n",
      "  \"version\" : {\r\n",
      "    \"number\" : \"7.16.3\",\r\n",
      "    \"build_flavor\" : \"default\",\r\n",
      "    \"build_type\" : \"docker\",\r\n",
      "    \"build_hash\" : \"4e6e4eab2297e949ec994e688dad46290d018022\",\r\n",
      "    \"build_date\" : \"2022-01-06T23:43:02.825887787Z\",\r\n",
      "    \"build_snapshot\" : false,\r\n",
      "    \"lucene_version\" : \"8.10.1\",\r\n",
      "    \"minimum_wire_compatibility_version\" : \"6.8.0\",\r\n",
      "    \"minimum_index_compatibility_version\" : \"6.0.0-beta1\"\r\n",
      "  },\r\n",
      "  \"tagline\" : \"You Know, for Search\"\r\n",
      "}\r\n"
     ]
    }
   ],
   "source": [
    "# check if the elasticsearch container is running\n",
    "!curl http://localhost:9200/"
   ]
  },
  {
   "cell_type": "code",
   "execution_count": 8,
   "metadata": {
    "id": "ZyXcbrvAA2B_"
   },
   "outputs": [],
   "source": [
    "# instantiate elasticsearch client\n",
    "client = Elasticsearch()"
   ]
  },
  {
   "cell_type": "code",
   "execution_count": 9,
   "metadata": {
    "id": "EXuZcfUTA95V"
   },
   "outputs": [
    {
     "name": "stderr",
     "output_type": "stream",
     "text": [
      "/home/d4niel92/miniconda3/lib/python3.9/site-packages/elasticsearch/connection/base.py:200: ElasticsearchWarning: Elasticsearch built-in security features are not enabled. Without authentication, your cluster could be accessible to anyone. See https://www.elastic.co/guide/en/elasticsearch/reference/7.16/security-minimal-setup.html to enable security.\n",
      "  warnings.warn(message, category=ElasticsearchWarning)\n"
     ]
    }
   ],
   "source": [
    "# use helpers' bulk API to index list of elasticsearch docs\n",
    "response = helpers.bulk(client, data, index='pandemics')"
   ]
  },
  {
   "cell_type": "code",
   "execution_count": 10,
   "metadata": {
    "id": "Mlpc0LgnBYc6"
   },
   "outputs": [
    {
     "name": "stderr",
     "output_type": "stream",
     "text": [
      "/tmp/ipykernel_3007/3852563500.py:2: DeprecationWarning: Using positional arguments for APIs is deprecated and will be disabled in 8.0.0. Instead use only keyword arguments for all APIs. See https://github.com/elastic/elasticsearch-py/issues/1698 for more information\n",
      "  client.cat.count(\"_all\", params={\"format\": \"json\"})\n"
     ]
    },
    {
     "data": {
      "text/plain": [
       "[{'epoch': '1642494829', 'timestamp': '08:33:49', 'count': '802'}]"
      ]
     },
     "execution_count": 10,
     "metadata": {},
     "output_type": "execute_result"
    }
   ],
   "source": [
    "# count documents in all indices\n",
    "client.cat.count(\"_all\", params={\"format\": \"json\"})"
   ]
  },
  {
   "cell_type": "code",
   "execution_count": 11,
   "metadata": {
    "id": "dTU2SsrYBmLk"
   },
   "outputs": [
    {
     "name": "stderr",
     "output_type": "stream",
     "text": [
      "/tmp/ipykernel_3007/966010936.py:2: DeprecationWarning: Using positional arguments for APIs is deprecated and will be disabled in 8.0.0. Instead use only keyword arguments for all APIs. See https://github.com/elastic/elasticsearch-py/issues/1698 for more information\n",
      "  client.indices.get_alias(\"_all\")\n"
     ]
    },
    {
     "data": {
      "text/plain": [
       "{'pandemics': {'aliases': {}}}"
      ]
     },
     "execution_count": 11,
     "metadata": {},
     "output_type": "execute_result"
    }
   ],
   "source": [
    "# check currently available indices\n",
    "client.indices.get_alias(\"_all\")"
   ]
  },
  {
   "cell_type": "code",
   "execution_count": 12,
   "metadata": {
    "id": "bdInO9TVByfV"
   },
   "outputs": [
    {
     "name": "stderr",
     "output_type": "stream",
     "text": [
      "/tmp/ipykernel_3007/4085913714.py:2: DeprecationWarning: Using positional arguments for APIs is deprecated and will be disabled in 8.0.0. Instead use only keyword arguments for all APIs. See https://github.com/elastic/elasticsearch-py/issues/1698 for more information\n",
      "  client.cat.count(['pandemics'], params={\"format\": \"json\"})\n"
     ]
    },
    {
     "data": {
      "text/plain": [
       "[{'epoch': '1642494829', 'timestamp': '08:33:49', 'count': '802'}]"
      ]
     },
     "execution_count": 12,
     "metadata": {},
     "output_type": "execute_result"
    }
   ],
   "source": [
    "# count documents in specific index\n",
    "client.cat.count(['pandemics'], params={\"format\": \"json\"})"
   ]
  },
  {
   "cell_type": "markdown",
   "metadata": {},
   "source": [
    "#### **Match query**"
   ]
  },
  {
   "cell_type": "code",
   "execution_count": 13,
   "metadata": {},
   "outputs": [],
   "source": [
    "# create a query body and search a string (fuzzy query)\n",
    "question = \"spanish flu\"\n",
    "match_query_body = {\"query\": {\"match\": {\"text\": question}}}"
   ]
  },
  {
   "cell_type": "code",
   "execution_count": 14,
   "metadata": {},
   "outputs": [
    {
     "name": "stderr",
     "output_type": "stream",
     "text": [
      "/tmp/ipykernel_3007/1006523548.py:2: DeprecationWarning: The 'body' parameter is deprecated for the 'search' API and will be removed in a future version. Instead use API parameters directly. See https://github.com/elastic/elasticsearch-py/issues/1698 for more information\n",
      "  docs = client.search(body = match_query_body, index=\"pandemics\", size=15)\n"
     ]
    },
    {
     "name": "stdout",
     "output_type": "stream",
     "text": [
      "<class 'dict'>\n"
     ]
    },
    {
     "data": {
      "text/plain": [
       "{'took': 9,\n",
       " 'timed_out': False,\n",
       " '_shards': {'total': 1, 'successful': 1, 'skipped': 0, 'failed': 0},\n",
       " 'hits': {'total': {'value': 90, 'relation': 'eq'},\n",
       "  'max_score': 9.211748,\n",
       "  'hits': [{'_index': 'pandemics',\n",
       "    '_type': '_doc',\n",
       "    '_id': '109PbH4BXgbCtq49ip3V',\n",
       "    '_score': 9.211748,\n",
       "    '_ignored': ['text.keyword'],\n",
       "    '_source': {'section_title': 'Influenza',\n",
       "     'text': 'Pandemic,Notable outbreaks,Major outbreaks in countries,Influenza\\nThe Greek physician Hippocrates, the \"Father of Medicine\", first described influenza in 412 BC.\\nThe first influenza pandemic to be pathologically described occurred in 1510. Since the pandemic of 1580, influenza pandemics have occurred every 10 to 30 years.\\nThe 1889–1890 flu pandemic, also known as Russian Flu or Asiatic Flu, was first reported in May 1889 in Bukhara, Uzbekistan. By October, it had reached Tomsk and the Caucasus. It rapidly spread west and hit North America in December 1889, South America in February–April 1890, India in February–March 1890, and Australia in March–April 1890. The H3N8 and H2N2 subtypes of the Influenza A virus have each been identified as possible causes. It had a very high attack and mortality rate, causing around a million fatalities.\\nThe \"Spanish flu\", 1918–1919. First identified early in March 1918 in U.S. troops training at Camp Funston, Kansas. By October 1918, it had spread to become a worldwide pandemic on all continents, and eventually infected about one-third of the world\\'s population (or ≈500 million persons). Unusually deadly and virulent, it ended almost as quickly as it began, vanishing completely within 18 months. Within six months, some 50 million people were dead; some estimates put the total number of fatalities worldwide at over twice that number. About 17 million died in India, 675,000 in the United States, and 200,000 in the United Kingdom. The virus that caused Spanish flu was also implicated as a cause of encephalitis lethargica in children. The virus was recently reconstructed by scientists at the CDC studying remains preserved by the Alaskan permafrost. The H1N1 virus has a small but crucial structure that is similar to the Spanish flu.\\nThe \"Asian Flu\", 1957–58. A H2N2 virus first identified in China in late February 1957. It caused about two million deaths globally.\\nThe \"Hong Kong Flu\", 1968–69. A H3N2 virus first detected in Hong Kong in early 1968 and spread across the world, lasting until 1972. This pandemic killed approximately one million people worldwide.\\nThe \"Swine Flu\", 2009–10. An H1N1 virus first detected in Mexico in early 2009. Estimates for the mortality of this pandemic range from 150 to 500 thousand.',\n",
       "     'main_section': 'Notable outbreaks',\n",
       "     'article_title': 'Pandemic',\n",
       "     'source_url': 'https://en.wikipedia.org/wiki/Pandemic',\n",
       "     'page_id': 24255,\n",
       "     'tags': 'Pandemic,Notable outbreaks,Major outbreaks in countries,Influenza',\n",
       "     'section_number': 12}},\n",
       "   {'_index': 'pandemics',\n",
       "    '_type': '_doc',\n",
       "    '_id': 'aE9QbH4BXgbCtq49yp_j',\n",
       "    '_score': 9.211748,\n",
       "    '_ignored': ['text.keyword'],\n",
       "    '_source': {'section_title': 'Influenza',\n",
       "     'text': 'Pandemic,Notable outbreaks,Major outbreaks in countries,Influenza\\nThe Greek physician Hippocrates, the \"Father of Medicine\", first described influenza in 412 BC.\\nThe first influenza pandemic to be pathologically described occurred in 1510. Since the pandemic of 1580, influenza pandemics have occurred every 10 to 30 years.\\nThe 1889–1890 flu pandemic, also known as Russian Flu or Asiatic Flu, was first reported in May 1889 in Bukhara, Uzbekistan. By October, it had reached Tomsk and the Caucasus. It rapidly spread west and hit North America in December 1889, South America in February–April 1890, India in February–March 1890, and Australia in March–April 1890. The H3N8 and H2N2 subtypes of the Influenza A virus have each been identified as possible causes. It had a very high attack and mortality rate, causing around a million fatalities.\\nThe \"Spanish flu\", 1918–1919. First identified early in March 1918 in U.S. troops training at Camp Funston, Kansas. By October 1918, it had spread to become a worldwide pandemic on all continents, and eventually infected about one-third of the world\\'s population (or ≈500 million persons). Unusually deadly and virulent, it ended almost as quickly as it began, vanishing completely within 18 months. Within six months, some 50 million people were dead; some estimates put the total number of fatalities worldwide at over twice that number. About 17 million died in India, 675,000 in the United States, and 200,000 in the United Kingdom. The virus that caused Spanish flu was also implicated as a cause of encephalitis lethargica in children. The virus was recently reconstructed by scientists at the CDC studying remains preserved by the Alaskan permafrost. The H1N1 virus has a small but crucial structure that is similar to the Spanish flu.\\nThe \"Asian Flu\", 1957–58. A H2N2 virus first identified in China in late February 1957. It caused about two million deaths globally.\\nThe \"Hong Kong Flu\", 1968–69. A H3N2 virus first detected in Hong Kong in early 1968 and spread across the world, lasting until 1972. This pandemic killed approximately one million people worldwide.\\nThe \"Swine Flu\", 2009–10. An H1N1 virus first detected in Mexico in early 2009. Estimates for the mortality of this pandemic range from 150 to 500 thousand.',\n",
       "     'main_section': 'Notable outbreaks',\n",
       "     'article_title': 'Pandemic',\n",
       "     'source_url': 'https://en.wikipedia.org/wiki/Pandemic',\n",
       "     'page_id': 24255,\n",
       "     'tags': 'Pandemic,Notable outbreaks,Major outbreaks in countries,Influenza',\n",
       "     'section_number': 12}},\n",
       "   {'_index': 'pandemics',\n",
       "    '_type': '_doc',\n",
       "    '_id': 'fE9PbH4BXgbCtq49ip7Y',\n",
       "    '_score': 8.451626,\n",
       "    '_ignored': ['text.keyword'],\n",
       "    '_source': {'section_title': 'In popular culture',\n",
       "     'text': 'Disease X,In popular culture,Candidates\\nIn 2018, the Museum of London ran an exhibition titled \"Disease X: London\\'s next epidemic?\", hosted for the centenary of the Spanish flu epidemic from 1918.The term features in the title of several fiction books that involve global pandemic diseases, such as Disease  (2020), and Disease X: The Outbreak (2019).',\n",
       "     'main_section': 'In popular culture',\n",
       "     'article_title': 'Disease X',\n",
       "     'source_url': 'https://en.wikipedia.org/wiki/Disease_X',\n",
       "     'page_id': 56809815,\n",
       "     'tags': 'Disease X,In popular culture,Candidates',\n",
       "     'section_number': 9}},\n",
       "   {'_index': 'pandemics',\n",
       "    '_type': '_doc',\n",
       "    '_id': 'DU9QbH4BXgbCtq49yqDl',\n",
       "    '_score': 8.451626,\n",
       "    '_ignored': ['text.keyword'],\n",
       "    '_source': {'section_title': 'In popular culture',\n",
       "     'text': 'Disease X,In popular culture,Candidates\\nIn 2018, the Museum of London ran an exhibition titled \"Disease X: London\\'s next epidemic?\", hosted for the centenary of the Spanish flu epidemic from 1918.The term features in the title of several fiction books that involve global pandemic diseases, such as Disease  (2020), and Disease X: The Outbreak (2019).',\n",
       "     'main_section': 'In popular culture',\n",
       "     'article_title': 'Disease X',\n",
       "     'source_url': 'https://en.wikipedia.org/wiki/Disease_X',\n",
       "     'page_id': 56809815,\n",
       "     'tags': 'Disease X,In popular culture,Candidates',\n",
       "     'section_number': 9}},\n",
       "   {'_index': 'pandemics',\n",
       "    '_type': '_doc',\n",
       "    '_id': '_E9PbH4BXgbCtq49ip7a',\n",
       "    '_score': 7.5340695,\n",
       "    '_ignored': ['text.keyword'],\n",
       "    '_source': {'section_title': 'Summary',\n",
       "     'text': 'Swine influenza,Summary\\nSwine influenza is an infection caused by any one of several types of swine influenza viruses. Swine influenza virus (SIV) or swine-origin influenza virus (S-OIV) is any strain of the influenza family of viruses that is endemic in pigs. As of 2009, the known SIV strains include influenza C and the subtypes of  influenza A known as H1N1, H1N2, H2N1, H3N1, H3N2, and H2N3.\\nSwine influenza virus is common throughout pig populations worldwide. Transmission of the virus from pigs to humans is not common and does not always lead to human flu, often resulting only in the production of antibodies in the blood. If transmission does cause human flu, it is called zoonotic swine flu. People with regular exposure to pigs are at increased risk of swine flu infection.\\nAround the mid-20th century, identification of influenza subtypes became possible, allowing accurate diagnosis of transmission to humans. Since then, only 50 such transmissions have been confirmed. These strains of swine flu rarely pass from human to human. Symptoms of zoonotic swine flu in humans are similar to those of influenza and of influenza-like illness in general, namely chills, fever, sore throat, muscle pains, severe headache, coughing, weakness, shortness of breath, and general discomfort.\\nIt is estimated that in the 2009 flu pandemic 11–21% of the then global population (of about 6.8 billion), or around 700 million to 1.4 billion people, contracted the illness—more in absolute terms than the Spanish flu pandemic. There were 18,449 confirmed fatalities. However, in a 2012 study, the CDC estimated more than 284,000 possible fatalities worldwide, with range from 150,000 to 575,000.\\nIn August 2010, the World Health Organization declared the swine flu pandemic officially over.Subsequent cases of swine flu were reported in India in 2015, with over 31,156 positive test cases and 1,841 deaths up to March 2015.',\n",
       "     'main_section': 'Summary',\n",
       "     'article_title': 'Swine influenza',\n",
       "     'source_url': 'https://en.wikipedia.org/wiki/Swine_influenza',\n",
       "     'page_id': 1516915,\n",
       "     'tags': 'Swine influenza,Summary',\n",
       "     'section_number': 0}},\n",
       "   {'_index': 'pandemics',\n",
       "    '_type': '_doc',\n",
       "    '_id': 'jU9QbH4BXgbCtq49yqDn',\n",
       "    '_score': 7.5340695,\n",
       "    '_ignored': ['text.keyword'],\n",
       "    '_source': {'section_title': 'Summary',\n",
       "     'text': 'Swine influenza,Summary\\nSwine influenza is an infection caused by any one of several types of swine influenza viruses. Swine influenza virus (SIV) or swine-origin influenza virus (S-OIV) is any strain of the influenza family of viruses that is endemic in pigs. As of 2009, the known SIV strains include influenza C and the subtypes of  influenza A known as H1N1, H1N2, H2N1, H3N1, H3N2, and H2N3.\\nSwine influenza virus is common throughout pig populations worldwide. Transmission of the virus from pigs to humans is not common and does not always lead to human flu, often resulting only in the production of antibodies in the blood. If transmission does cause human flu, it is called zoonotic swine flu. People with regular exposure to pigs are at increased risk of swine flu infection.\\nAround the mid-20th century, identification of influenza subtypes became possible, allowing accurate diagnosis of transmission to humans. Since then, only 50 such transmissions have been confirmed. These strains of swine flu rarely pass from human to human. Symptoms of zoonotic swine flu in humans are similar to those of influenza and of influenza-like illness in general, namely chills, fever, sore throat, muscle pains, severe headache, coughing, weakness, shortness of breath, and general discomfort.\\nIt is estimated that in the 2009 flu pandemic 11–21% of the then global population (of about 6.8 billion), or around 700 million to 1.4 billion people, contracted the illness—more in absolute terms than the Spanish flu pandemic. There were 18,449 confirmed fatalities. However, in a 2012 study, the CDC estimated more than 284,000 possible fatalities worldwide, with range from 150,000 to 575,000.\\nIn August 2010, the World Health Organization declared the swine flu pandemic officially over.Subsequent cases of swine flu were reported in India in 2015, with over 31,156 positive test cases and 1,841 deaths up to March 2015.',\n",
       "     'main_section': 'Summary',\n",
       "     'article_title': 'Swine influenza',\n",
       "     'source_url': 'https://en.wikipedia.org/wiki/Swine_influenza',\n",
       "     'page_id': 1516915,\n",
       "     'tags': 'Swine influenza,Summary',\n",
       "     'section_number': 0}},\n",
       "   {'_index': 'pandemics',\n",
       "    '_type': '_doc',\n",
       "    '_id': '5E9PbH4BXgbCtq49ip3W',\n",
       "    '_score': 7.0495644,\n",
       "    '_ignored': ['text.keyword'],\n",
       "    '_source': {'section_title': 'H5N1 (Avian flu)',\n",
       "     'text': 'Pandemic,Concerns about future pandemics,Concerning diseases,H5N1 (Avian flu)\\nIn February 2004, avian influenza virus was detected in birds in Vietnam, increasing fears of the emergence of new variant strains. It is feared that if the avian influenza virus combines with a human influenza virus (in a bird or a human), the new subtype created could be both highly contagious and highly lethal in humans. Such a subtype could cause a global influenza pandemic, similar to the Spanish flu or the lower mortality pandemics such as the Asian Flu and the Hong Kong Flu.\\nFrom October 2004 to February 2005, some 3,700 test kits of the 1957 Asian Flu virus were accidentally spread around the world from a lab in the U.S.In May 2005, scientists urgently called upon nations to prepare for a global influenza pandemic that could strike as much as 20% of the world\\'s population.In October 2005, cases of the avian flu (the deadly strain H5N1) were identified in Turkey. EU Health Commissioner Markos Kyprianou said: \"We have received now confirmation that the virus found in Turkey is an avian flu H5N1 virus. There is a direct relationship with viruses found in Russia, Mongolia and China.\" Cases of bird flu were also identified shortly thereafter in Romania, and then Greece. Possible cases of the virus have also been found in Croatia, Bulgaria and the United Kingdom.By November 2007, numerous confirmed cases of the H5N1 strain had been identified across Europe. However, by the end of October, only 59 people had died as a result of H5N1, which was atypical of previous influenza pandemics.\\nAvian flu cannot be categorized as a \"pandemic\" because the virus cannot yet cause sustained and efficient human-to-human transmission. Cases so far are recognized to have been transmitted from bird to human, but as of December 2006 there had been few (if any) cases of proven human-to-human transmission. Regular influenza viruses establish infection by attaching to receptors in the throat and lungs, but the avian influenza virus can attach only to receptors located deep in the lungs of humans, requiring close, prolonged contact with infected patients, and thus limiting person-to-person transmission.',\n",
       "     'main_section': 'Concerns about future pandemics',\n",
       "     'article_title': 'Pandemic',\n",
       "     'source_url': 'https://en.wikipedia.org/wiki/Pandemic',\n",
       "     'page_id': 24255,\n",
       "     'tags': 'Pandemic,Concerns about future pandemics,Concerning diseases,H5N1 (Avian flu)',\n",
       "     'section_number': 30}},\n",
       "   {'_index': 'pandemics',\n",
       "    '_type': '_doc',\n",
       "    '_id': 'dU9QbH4BXgbCtq49yp_j',\n",
       "    '_score': 7.0495644,\n",
       "    '_ignored': ['text.keyword'],\n",
       "    '_source': {'section_title': 'H5N1 (Avian flu)',\n",
       "     'text': 'Pandemic,Concerns about future pandemics,Concerning diseases,H5N1 (Avian flu)\\nIn February 2004, avian influenza virus was detected in birds in Vietnam, increasing fears of the emergence of new variant strains. It is feared that if the avian influenza virus combines with a human influenza virus (in a bird or a human), the new subtype created could be both highly contagious and highly lethal in humans. Such a subtype could cause a global influenza pandemic, similar to the Spanish flu or the lower mortality pandemics such as the Asian Flu and the Hong Kong Flu.\\nFrom October 2004 to February 2005, some 3,700 test kits of the 1957 Asian Flu virus were accidentally spread around the world from a lab in the U.S.In May 2005, scientists urgently called upon nations to prepare for a global influenza pandemic that could strike as much as 20% of the world\\'s population.In October 2005, cases of the avian flu (the deadly strain H5N1) were identified in Turkey. EU Health Commissioner Markos Kyprianou said: \"We have received now confirmation that the virus found in Turkey is an avian flu H5N1 virus. There is a direct relationship with viruses found in Russia, Mongolia and China.\" Cases of bird flu were also identified shortly thereafter in Romania, and then Greece. Possible cases of the virus have also been found in Croatia, Bulgaria and the United Kingdom.By November 2007, numerous confirmed cases of the H5N1 strain had been identified across Europe. However, by the end of October, only 59 people had died as a result of H5N1, which was atypical of previous influenza pandemics.\\nAvian flu cannot be categorized as a \"pandemic\" because the virus cannot yet cause sustained and efficient human-to-human transmission. Cases so far are recognized to have been transmitted from bird to human, but as of December 2006 there had been few (if any) cases of proven human-to-human transmission. Regular influenza viruses establish infection by attaching to receptors in the throat and lungs, but the avian influenza virus can attach only to receptors located deep in the lungs of humans, requiring close, prolonged contact with infected patients, and thus limiting person-to-person transmission.',\n",
       "     'main_section': 'Concerns about future pandemics',\n",
       "     'article_title': 'Pandemic',\n",
       "     'source_url': 'https://en.wikipedia.org/wiki/Pandemic',\n",
       "     'page_id': 24255,\n",
       "     'tags': 'Pandemic,Concerns about future pandemics,Concerning diseases,H5N1 (Avian flu)',\n",
       "     'section_number': 30}},\n",
       "   {'_index': 'pandemics',\n",
       "    '_type': '_doc',\n",
       "    '_id': 'zk9PbH4BXgbCtq49ip3V',\n",
       "    '_score': 6.6956663,\n",
       "    '_ignored': ['text.keyword'],\n",
       "    '_source': {'section_title': 'Summary',\n",
       "     'text': 'Pandemic,Summary\\nA pandemic (from Greek πᾶν, pan, \"all\" and δῆμος, demos, \"people\") is an epidemic of an infectious disease that has spread across a large region, for instance multiple continents or worldwide, affecting a substantial number of people. A widespread endemic disease with a stable number of infected people is not a pandemic. Widespread endemic diseases with a stable number of infected people such as recurrences of seasonal influenza are generally excluded as they occur simultaneously in large regions of the globe rather than being spread worldwide.\\nThroughout human history, there have been a number of pandemics of diseases such as smallpox and tuberculosis. The most fatal pandemic in recorded history was the Black Death (also known as The Plague), which killed an estimated 75–200 million people in the 14th century. The term was not used yet but was for later pandemics including the 1918 influenza pandemic (Spanish flu). Current pandemics include COVID-19 (SARS-CoV-2) and HIV/AIDS.',\n",
       "     'main_section': 'Summary',\n",
       "     'article_title': 'Pandemic',\n",
       "     'source_url': 'https://en.wikipedia.org/wiki/Pandemic',\n",
       "     'page_id': 24255,\n",
       "     'tags': 'Pandemic,Summary',\n",
       "     'section_number': 0}},\n",
       "   {'_index': 'pandemics',\n",
       "    '_type': '_doc',\n",
       "    '_id': 'X09QbH4BXgbCtq49yp_j',\n",
       "    '_score': 6.6956663,\n",
       "    '_ignored': ['text.keyword'],\n",
       "    '_source': {'section_title': 'Summary',\n",
       "     'text': 'Pandemic,Summary\\nA pandemic (from Greek πᾶν, pan, \"all\" and δῆμος, demos, \"people\") is an epidemic of an infectious disease that has spread across a large region, for instance multiple continents or worldwide, affecting a substantial number of people. A widespread endemic disease with a stable number of infected people is not a pandemic. Widespread endemic diseases with a stable number of infected people such as recurrences of seasonal influenza are generally excluded as they occur simultaneously in large regions of the globe rather than being spread worldwide.\\nThroughout human history, there have been a number of pandemics of diseases such as smallpox and tuberculosis. The most fatal pandemic in recorded history was the Black Death (also known as The Plague), which killed an estimated 75–200 million people in the 14th century. The term was not used yet but was for later pandemics including the 1918 influenza pandemic (Spanish flu). Current pandemics include COVID-19 (SARS-CoV-2) and HIV/AIDS.',\n",
       "     'main_section': 'Summary',\n",
       "     'article_title': 'Pandemic',\n",
       "     'source_url': 'https://en.wikipedia.org/wiki/Pandemic',\n",
       "     'page_id': 24255,\n",
       "     'tags': 'Pandemic,Summary',\n",
       "     'section_number': 0}},\n",
       "   {'_index': 'pandemics',\n",
       "    '_type': '_doc',\n",
       "    '_id': 'y09PbH4BXgbCtq49ip7Z',\n",
       "    '_score': 6.230383,\n",
       "    '_ignored': ['text.keyword'],\n",
       "    '_source': {'section_title': 'Guidelines',\n",
       "     'text': 'Pandemic severity index,Guidelines\\nThe index focuses less on how likely a disease will spread worldwide – that is, become a pandemic – and more upon how severe the epidemic actually is.\\nThe main criterion used to measure pandemic severity will be case-fatality rate (CFR), the percentage of deaths out of the total reported cases of the disease.The actual implementation of PSI alerts was expected to occur after the World Health Organization (WHO) announces phase 6 influenza transmission (human to human) in the United States. This would probably result in immediate announcement of a PSI level 3–4 situation.The analogy of \"category\" levels were introduced to provide an understandable connection to hurricane classification schemes, with specific reference to the recent aftermath of Hurricane Katrina.\\nLike the Saffir–Simpson Hurricane Scale, the PSI ranges from 1 to 5, with Category 1 pandemics being most mild (equivalent to seasonal flu) and level 5 being reserved for the most severe \"worst-case\" scenario pandemics (such as the 1918 Spanish flu).\\n\\nThe report recommends four primary social distancing measures for slowing down a pandemic:\\n\\nIsolation and treatment of people who have suspected or confirmed cases of pandemic influenza\\nVoluntary home quarantine of household contacts of those with suspected or confirmed pandemic influenza\\nDismissing school classes and closing daycare centers\\nChanging work schedules and canceling large public gatheringsThese actions, when implemented, can have an overall effect of reducing the number of new cases of the disease; but they can carry potentially adverse consequences in terms of community and social disruption. The measures should have the most noticeable impact if implemented uniformly by organizations and governments across the US.',\n",
       "     'main_section': 'Guidelines',\n",
       "     'article_title': 'Pandemic severity index',\n",
       "     'source_url': 'https://en.wikipedia.org/wiki/Pandemic_severity_index',\n",
       "     'page_id': 9291245,\n",
       "     'tags': 'Pandemic severity index,Guidelines',\n",
       "     'section_number': 3}},\n",
       "   {'_index': 'pandemics',\n",
       "    '_type': '_doc',\n",
       "    '_id': 'XE9QbH4BXgbCtq49yqDm',\n",
       "    '_score': 6.230383,\n",
       "    '_ignored': ['text.keyword'],\n",
       "    '_source': {'section_title': 'Guidelines',\n",
       "     'text': 'Pandemic severity index,Guidelines\\nThe index focuses less on how likely a disease will spread worldwide – that is, become a pandemic – and more upon how severe the epidemic actually is.\\nThe main criterion used to measure pandemic severity will be case-fatality rate (CFR), the percentage of deaths out of the total reported cases of the disease.The actual implementation of PSI alerts was expected to occur after the World Health Organization (WHO) announces phase 6 influenza transmission (human to human) in the United States. This would probably result in immediate announcement of a PSI level 3–4 situation.The analogy of \"category\" levels were introduced to provide an understandable connection to hurricane classification schemes, with specific reference to the recent aftermath of Hurricane Katrina.\\nLike the Saffir–Simpson Hurricane Scale, the PSI ranges from 1 to 5, with Category 1 pandemics being most mild (equivalent to seasonal flu) and level 5 being reserved for the most severe \"worst-case\" scenario pandemics (such as the 1918 Spanish flu).\\n\\nThe report recommends four primary social distancing measures for slowing down a pandemic:\\n\\nIsolation and treatment of people who have suspected or confirmed cases of pandemic influenza\\nVoluntary home quarantine of household contacts of those with suspected or confirmed pandemic influenza\\nDismissing school classes and closing daycare centers\\nChanging work schedules and canceling large public gatheringsThese actions, when implemented, can have an overall effect of reducing the number of new cases of the disease; but they can carry potentially adverse consequences in terms of community and social disruption. The measures should have the most noticeable impact if implemented uniformly by organizations and governments across the US.',\n",
       "     'main_section': 'Guidelines',\n",
       "     'article_title': 'Pandemic severity index',\n",
       "     'source_url': 'https://en.wikipedia.org/wiki/Pandemic_severity_index',\n",
       "     'page_id': 9291245,\n",
       "     'tags': 'Pandemic severity index,Guidelines',\n",
       "     'section_number': 3}},\n",
       "   {'_index': 'pandemics',\n",
       "    '_type': '_doc',\n",
       "    '_id': '5E9PbH4BXgbCtq49ip7Z',\n",
       "    '_score': 5.7074823,\n",
       "    '_ignored': ['text.keyword'],\n",
       "    '_source': {'section_title': 'Later',\n",
       "     'text': '1929–1930 psittacosis pandemic,North America,Africa,Later\\n43 of the 74 foci in the U.S. were traced to contact with Amazon parrots. Links were traced to Japan, Caribbean, Germany, Central America and South America. Between November 1929 and May 1930, the U.S. recorded 169 cases, of which 33 died. New York was the centre of the East Coast bird trade. However, the principal ports of entry for Australian budgerigars was San Francisco and Los Angeles. Later, it was discovered that the main source was domestic lovebirds raised in hundreds of independent Californian aviaries by breeders who were supplementing their incomes following the recent Wall Street Crash. The winter of 1929 was also witnessing an influenza epidemic and there were fears of a recurrence of Spanish flu,which added to the depressive effects. In this context, peddlers travelled door-to-door with “lovebirds” for housewives and widows. As a result, most victims in the U.S. were women. The realisation and connections of the various outbreaks may not have become apparent had it not been for the press. Likewise, the \"hysteria\" and heightened public concern surrounding the pandemic may not have occurred had it not been for headlines such as “Killed By A Pet Parrot.”The establishment of the National Institutes of Health is directly linked to the outbreak that occurred in Maryland. Its story was retold in Paul de Kruif\\'s, Men Against Death (1933).',\n",
       "     'main_section': 'North America',\n",
       "     'article_title': '1929–1930 psittacosis pandemic',\n",
       "     'source_url': 'https://en.wikipedia.org/wiki/1929%E2%80%931930_psittacosis_pandemic',\n",
       "     'page_id': 60428423,\n",
       "     'tags': '1929–1930 psittacosis pandemic,North America,Africa,Later',\n",
       "     'section_number': 12}},\n",
       "   {'_index': 'pandemics',\n",
       "    '_type': '_doc',\n",
       "    '_id': 'dU9QbH4BXgbCtq49yqDm',\n",
       "    '_score': 5.7074823,\n",
       "    '_ignored': ['text.keyword'],\n",
       "    '_source': {'section_title': 'Later',\n",
       "     'text': '1929–1930 psittacosis pandemic,North America,Africa,Later\\n43 of the 74 foci in the U.S. were traced to contact with Amazon parrots. Links were traced to Japan, Caribbean, Germany, Central America and South America. Between November 1929 and May 1930, the U.S. recorded 169 cases, of which 33 died. New York was the centre of the East Coast bird trade. However, the principal ports of entry for Australian budgerigars was San Francisco and Los Angeles. Later, it was discovered that the main source was domestic lovebirds raised in hundreds of independent Californian aviaries by breeders who were supplementing their incomes following the recent Wall Street Crash. The winter of 1929 was also witnessing an influenza epidemic and there were fears of a recurrence of Spanish flu,which added to the depressive effects. In this context, peddlers travelled door-to-door with “lovebirds” for housewives and widows. As a result, most victims in the U.S. were women. The realisation and connections of the various outbreaks may not have become apparent had it not been for the press. Likewise, the \"hysteria\" and heightened public concern surrounding the pandemic may not have occurred had it not been for headlines such as “Killed By A Pet Parrot.”The establishment of the National Institutes of Health is directly linked to the outbreak that occurred in Maryland. Its story was retold in Paul de Kruif\\'s, Men Against Death (1933).',\n",
       "     'main_section': 'North America',\n",
       "     'article_title': '1929–1930 psittacosis pandemic',\n",
       "     'source_url': 'https://en.wikipedia.org/wiki/1929%E2%80%931930_psittacosis_pandemic',\n",
       "     'page_id': 60428423,\n",
       "     'tags': '1929–1930 psittacosis pandemic,North America,Africa,Later',\n",
       "     'section_number': 12}},\n",
       "   {'_index': 'pandemics',\n",
       "    '_type': '_doc',\n",
       "    '_id': '2E9PbH4BXgbCtq49ip3V',\n",
       "    '_score': 4.6456594,\n",
       "    '_ignored': ['text.keyword'],\n",
       "    '_source': {'section_title': 'Typhus',\n",
       "     'text': 'Pandemic,Notable outbreaks,Major outbreaks in countries,Typhus\\nTyphus is sometimes called \"camp fever\" because of its pattern of flaring up in times of strife. (It is also known as \"gaol fever\" and \"ship fever\", for its habits of spreading wildly in cramped quarters, such as jails and ships.) Emerging during the Crusades, it had its first impact in Europe in 1489, in Spain. During fighting between the Christian Spaniards and the Muslims in Granada, the Spanish lost 3,000 to war casualties, and 20,000 to typhus. In 1528, the French lost 18,000 troops in Italy, and lost supremacy in Italy to the Spanish. In 1542, 30,000 soldiers died of typhus while fighting the Ottomans in the Balkans.\\nDuring the Thirty Years\\' War (1618–1648), about eight million Germans were killed by bubonic plague and typhus. The disease also played a major role in the destruction of Napoleon\\'s Grande Armée in Russia in 1812. During the retreat from Moscow, more French military personnel died of typhus than were killed by the Russians. Of the 450,000 soldiers who crossed the Neman on 25 June 1812, fewer than 40,000 returned. More military personnel were killed from 1500 to 1914 by typhus than from military action. In early 1813, Napoleon raised a new army of 500,000 to replace his Russian losses. In the campaign of that year, more than 219,000 of Napoleon\\'s soldiers died of typhus. Typhus played a major factor in the Great Famine of Ireland. During World War I, typhus epidemics killed more than 150,000 in Serbia. There were about 25 million infections and 3 million deaths from epidemic typhus in Russia from 1918 to 1922. Typhus also killed numerous prisoners in the Nazi concentration camps and Soviet prisoner of war camps during World War II. More than 3.5 million Soviet POWs died out of the 5.7 million in Nazi custody.',\n",
       "     'main_section': 'Notable outbreaks',\n",
       "     'article_title': 'Pandemic',\n",
       "     'source_url': 'https://en.wikipedia.org/wiki/Pandemic',\n",
       "     'page_id': 24255,\n",
       "     'tags': 'Pandemic,Notable outbreaks,Major outbreaks in countries,Typhus',\n",
       "     'section_number': 13}}]}}"
      ]
     },
     "execution_count": 14,
     "metadata": {},
     "output_type": "execute_result"
    }
   ],
   "source": [
    "# submit the search query to elasticsearch\n",
    "docs = client.search(body = match_query_body, index=\"pandemics\", size=15)\n",
    "\n",
    "print(type(docs))\n",
    "docs"
   ]
  },
  {
   "cell_type": "code",
   "execution_count": 15,
   "metadata": {},
   "outputs": [],
   "source": [
    "# print the three top results\n",
    "def top_three_results(docs, responses):\n",
    "    for doc in docs[\"hits\"][\"hits\"][:3]:\n",
    "        article_title = doc['_source']['article_title']\n",
    "        section_title = doc['_source']['section_title']\n",
    "        score = doc['_score']\n",
    "        idx = doc['_index']\n",
    "        text = doc['_source']['text']\n",
    "        url = doc['_source']['source_url']\n",
    "\n",
    "        responses.append({'article_title': article_title,\n",
    "                         'section_title': section_title,\n",
    "                         'text': text,\n",
    "                          'url': url,\n",
    "                          'score': score,\n",
    "                         })\n",
    "    return responses"
   ]
  },
  {
   "cell_type": "code",
   "execution_count": 16,
   "metadata": {},
   "outputs": [
    {
     "name": "stdout",
     "output_type": "stream",
     "text": [
      "[{'article_title': 'Pandemic',\n",
      "  'score': 9.211748,\n",
      "  'section_title': 'Influenza',\n",
      "  'text': 'Pandemic,Notable outbreaks,Major outbreaks in countries,Influenza\\n'\n",
      "          'The Greek physician Hippocrates, the \"Father of Medicine\", first '\n",
      "          'described influenza in 412 BC.\\n'\n",
      "          'The first influenza pandemic to be pathologically described '\n",
      "          'occurred in 1510. Since the pandemic of 1580, influenza pandemics '\n",
      "          'have occurred every 10 to 30 years.\\n'\n",
      "          'The 1889–1890 flu pandemic, also known as Russian Flu or Asiatic '\n",
      "          'Flu, was first reported in May 1889 in Bukhara, Uzbekistan. By '\n",
      "          'October, it had reached Tomsk and the Caucasus. It rapidly spread '\n",
      "          'west and hit North America in December 1889, South America in '\n",
      "          'February–April 1890, India in February–March 1890, and Australia in '\n",
      "          'March–April 1890. The H3N8 and H2N2 subtypes of the Influenza A '\n",
      "          'virus have each been identified as possible causes. It had a very '\n",
      "          'high attack and mortality rate, causing around a million '\n",
      "          'fatalities.\\n'\n",
      "          'The \"Spanish flu\", 1918–1919. First identified early in March 1918 '\n",
      "          'in U.S. troops training at Camp Funston, Kansas. By October 1918, '\n",
      "          'it had spread to become a worldwide pandemic on all continents, and '\n",
      "          \"eventually infected about one-third of the world's population (or \"\n",
      "          '≈500 million persons). Unusually deadly and virulent, it ended '\n",
      "          'almost as quickly as it began, vanishing completely within 18 '\n",
      "          'months. Within six months, some 50 million people were dead; some '\n",
      "          'estimates put the total number of fatalities worldwide at over '\n",
      "          'twice that number. About 17 million died in India, 675,000 in the '\n",
      "          'United States, and 200,000 in the United Kingdom. The virus that '\n",
      "          'caused Spanish flu was also implicated as a cause of encephalitis '\n",
      "          'lethargica in children. The virus was recently reconstructed by '\n",
      "          'scientists at the CDC studying remains preserved by the Alaskan '\n",
      "          'permafrost. The H1N1 virus has a small but crucial structure that '\n",
      "          'is similar to the Spanish flu.\\n'\n",
      "          'The \"Asian Flu\", 1957–58. A H2N2 virus first identified in China in '\n",
      "          'late February 1957. It caused about two million deaths globally.\\n'\n",
      "          'The \"Hong Kong Flu\", 1968–69. A H3N2 virus first detected in Hong '\n",
      "          'Kong in early 1968 and spread across the world, lasting until 1972. '\n",
      "          'This pandemic killed approximately one million people worldwide.\\n'\n",
      "          'The \"Swine Flu\", 2009–10. An H1N1 virus first detected in Mexico in '\n",
      "          'early 2009. Estimates for the mortality of this pandemic range from '\n",
      "          '150 to 500 thousand.',\n",
      "  'url': 'https://en.wikipedia.org/wiki/Pandemic'},\n",
      " {'article_title': 'Pandemic',\n",
      "  'score': 9.211748,\n",
      "  'section_title': 'Influenza',\n",
      "  'text': 'Pandemic,Notable outbreaks,Major outbreaks in countries,Influenza\\n'\n",
      "          'The Greek physician Hippocrates, the \"Father of Medicine\", first '\n",
      "          'described influenza in 412 BC.\\n'\n",
      "          'The first influenza pandemic to be pathologically described '\n",
      "          'occurred in 1510. Since the pandemic of 1580, influenza pandemics '\n",
      "          'have occurred every 10 to 30 years.\\n'\n",
      "          'The 1889–1890 flu pandemic, also known as Russian Flu or Asiatic '\n",
      "          'Flu, was first reported in May 1889 in Bukhara, Uzbekistan. By '\n",
      "          'October, it had reached Tomsk and the Caucasus. It rapidly spread '\n",
      "          'west and hit North America in December 1889, South America in '\n",
      "          'February–April 1890, India in February–March 1890, and Australia in '\n",
      "          'March–April 1890. The H3N8 and H2N2 subtypes of the Influenza A '\n",
      "          'virus have each been identified as possible causes. It had a very '\n",
      "          'high attack and mortality rate, causing around a million '\n",
      "          'fatalities.\\n'\n",
      "          'The \"Spanish flu\", 1918–1919. First identified early in March 1918 '\n",
      "          'in U.S. troops training at Camp Funston, Kansas. By October 1918, '\n",
      "          'it had spread to become a worldwide pandemic on all continents, and '\n",
      "          \"eventually infected about one-third of the world's population (or \"\n",
      "          '≈500 million persons). Unusually deadly and virulent, it ended '\n",
      "          'almost as quickly as it began, vanishing completely within 18 '\n",
      "          'months. Within six months, some 50 million people were dead; some '\n",
      "          'estimates put the total number of fatalities worldwide at over '\n",
      "          'twice that number. About 17 million died in India, 675,000 in the '\n",
      "          'United States, and 200,000 in the United Kingdom. The virus that '\n",
      "          'caused Spanish flu was also implicated as a cause of encephalitis '\n",
      "          'lethargica in children. The virus was recently reconstructed by '\n",
      "          'scientists at the CDC studying remains preserved by the Alaskan '\n",
      "          'permafrost. The H1N1 virus has a small but crucial structure that '\n",
      "          'is similar to the Spanish flu.\\n'\n",
      "          'The \"Asian Flu\", 1957–58. A H2N2 virus first identified in China in '\n",
      "          'late February 1957. It caused about two million deaths globally.\\n'\n",
      "          'The \"Hong Kong Flu\", 1968–69. A H3N2 virus first detected in Hong '\n",
      "          'Kong in early 1968 and spread across the world, lasting until 1972. '\n",
      "          'This pandemic killed approximately one million people worldwide.\\n'\n",
      "          'The \"Swine Flu\", 2009–10. An H1N1 virus first detected in Mexico in '\n",
      "          'early 2009. Estimates for the mortality of this pandemic range from '\n",
      "          '150 to 500 thousand.',\n",
      "  'url': 'https://en.wikipedia.org/wiki/Pandemic'},\n",
      " {'article_title': 'Disease X',\n",
      "  'score': 8.451626,\n",
      "  'section_title': 'In popular culture',\n",
      "  'text': 'Disease X,In popular culture,Candidates\\n'\n",
      "          'In 2018, the Museum of London ran an exhibition titled \"Disease X: '\n",
      "          'London\\'s next epidemic?\", hosted for the centenary of the Spanish '\n",
      "          'flu epidemic from 1918.The term features in the title of several '\n",
      "          'fiction books that involve global pandemic diseases, such as '\n",
      "          'Disease  (2020), and Disease X: The Outbreak (2019).',\n",
      "  'url': 'https://en.wikipedia.org/wiki/Disease_X'}]\n"
     ]
    }
   ],
   "source": [
    "responses = []\n",
    "pprint(top_three_results(docs=docs, responses=responses))"
   ]
  },
  {
   "cell_type": "markdown",
   "metadata": {},
   "source": [
    "#### **Term query**"
   ]
  },
  {
   "cell_type": "code",
   "execution_count": 17,
   "metadata": {},
   "outputs": [],
   "source": [
    "# create a query body and search for a perfect match\n",
    "## note that you need to use the keyword version of the field if your search query contains more that one word.\n",
    "term_question = \"Zoonotic viruses\"\n",
    "term_query_body = {\"query\": {\"term\": {\"section_title.keyword\": term_question}}}"
   ]
  },
  {
   "cell_type": "code",
   "execution_count": 18,
   "metadata": {},
   "outputs": [
    {
     "name": "stdout",
     "output_type": "stream",
     "text": [
      "<class 'dict'>\n"
     ]
    },
    {
     "name": "stderr",
     "output_type": "stream",
     "text": [
      "/tmp/ipykernel_3007/367153364.py:2: DeprecationWarning: The 'body' parameter is deprecated for the 'search' API and will be removed in a future version. Instead use API parameters directly. See https://github.com/elastic/elasticsearch-py/issues/1698 for more information\n",
      "  term_docs = client.search(body = term_query_body, index=\"pandemics\", size=5)\n"
     ]
    },
    {
     "data": {
      "text/plain": [
       "{'took': 3,\n",
       " 'timed_out': False,\n",
       " '_shards': {'total': 1, 'successful': 1, 'skipped': 0, 'failed': 0},\n",
       " 'hits': {'total': {'value': 2, 'relation': 'eq'},\n",
       "  'max_score': 5.772064,\n",
       "  'hits': [{'_index': 'pandemics',\n",
       "    '_type': '_doc',\n",
       "    '_id': 'd09PbH4BXgbCtq49ip7Y',\n",
       "    '_score': 5.772064,\n",
       "    '_ignored': ['text.keyword'],\n",
       "    '_source': {'section_title': 'Zoonotic viruses',\n",
       "     'text': 'Disease X,Candidates,Zoonotic viruses\\nOn the addition of Disease X in 2018, the WHO said it could come from many sources citing haemorrhagic fevers and the more recent non-polio enterovirus. However, Røttingen speculated that Disease X would be more likely come from zoonotic transmission (an animal virus that jumps to humans), saying: \"It\\'s a natural process and it is vital that we are aware and prepare. It is probably the greatest risk\". WHO special advisor Professor Marion Koopmans, also noted that the rate at which zoonotic diseases were appearing was accelerating, saying: \"The intensity of animal and human contact is becoming much greater as the world develops. This makes it more likely new diseases will emerge but also modern travel and trade make it much more likely they will spread\".',\n",
       "     'main_section': 'Candidates',\n",
       "     'article_title': 'Disease X',\n",
       "     'source_url': 'https://en.wikipedia.org/wiki/Disease_X',\n",
       "     'page_id': 56809815,\n",
       "     'tags': 'Disease X,Candidates,Zoonotic viruses',\n",
       "     'section_number': 4}},\n",
       "   {'_index': 'pandemics',\n",
       "    '_type': '_doc',\n",
       "    '_id': 'CE9QbH4BXgbCtq49yqDl',\n",
       "    '_score': 5.772064,\n",
       "    '_ignored': ['text.keyword'],\n",
       "    '_source': {'section_title': 'Zoonotic viruses',\n",
       "     'text': 'Disease X,Candidates,Zoonotic viruses\\nOn the addition of Disease X in 2018, the WHO said it could come from many sources citing haemorrhagic fevers and the more recent non-polio enterovirus. However, Røttingen speculated that Disease X would be more likely come from zoonotic transmission (an animal virus that jumps to humans), saying: \"It\\'s a natural process and it is vital that we are aware and prepare. It is probably the greatest risk\". WHO special advisor Professor Marion Koopmans, also noted that the rate at which zoonotic diseases were appearing was accelerating, saying: \"The intensity of animal and human contact is becoming much greater as the world develops. This makes it more likely new diseases will emerge but also modern travel and trade make it much more likely they will spread\".',\n",
       "     'main_section': 'Candidates',\n",
       "     'article_title': 'Disease X',\n",
       "     'source_url': 'https://en.wikipedia.org/wiki/Disease_X',\n",
       "     'page_id': 56809815,\n",
       "     'tags': 'Disease X,Candidates,Zoonotic viruses',\n",
       "     'section_number': 4}}]}}"
      ]
     },
     "execution_count": 18,
     "metadata": {},
     "output_type": "execute_result"
    }
   ],
   "source": [
    "# submit the search query to elasticsearch\n",
    "term_docs = client.search(body = term_query_body, index=\"pandemics\", size=5)\n",
    "\n",
    "print(type(term_docs))\n",
    "term_docs"
   ]
  },
  {
   "cell_type": "code",
   "execution_count": 19,
   "metadata": {},
   "outputs": [
    {
     "name": "stdout",
     "output_type": "stream",
     "text": [
      "[{'article_title': 'Disease X',\n",
      "  'score': 5.772064,\n",
      "  'section_title': 'Zoonotic viruses',\n",
      "  'text': 'Disease X,Candidates,Zoonotic viruses\\n'\n",
      "          'On the addition of Disease X in 2018, the WHO said it could come '\n",
      "          'from many sources citing haemorrhagic fevers and the more recent '\n",
      "          'non-polio enterovirus. However, Røttingen speculated that Disease X '\n",
      "          'would be more likely come from zoonotic transmission (an animal '\n",
      "          'virus that jumps to humans), saying: \"It\\'s a natural process and '\n",
      "          'it is vital that we are aware and prepare. It is probably the '\n",
      "          'greatest risk\". WHO special advisor Professor Marion Koopmans, also '\n",
      "          'noted that the rate at which zoonotic diseases were appearing was '\n",
      "          'accelerating, saying: \"The intensity of animal and human contact is '\n",
      "          'becoming much greater as the world develops. This makes it more '\n",
      "          'likely new diseases will emerge but also modern travel and trade '\n",
      "          'make it much more likely they will spread\".',\n",
      "  'url': 'https://en.wikipedia.org/wiki/Disease_X'},\n",
      " {'article_title': 'Disease X',\n",
      "  'score': 5.772064,\n",
      "  'section_title': 'Zoonotic viruses',\n",
      "  'text': 'Disease X,Candidates,Zoonotic viruses\\n'\n",
      "          'On the addition of Disease X in 2018, the WHO said it could come '\n",
      "          'from many sources citing haemorrhagic fevers and the more recent '\n",
      "          'non-polio enterovirus. However, Røttingen speculated that Disease X '\n",
      "          'would be more likely come from zoonotic transmission (an animal '\n",
      "          'virus that jumps to humans), saying: \"It\\'s a natural process and '\n",
      "          'it is vital that we are aware and prepare. It is probably the '\n",
      "          'greatest risk\". WHO special advisor Professor Marion Koopmans, also '\n",
      "          'noted that the rate at which zoonotic diseases were appearing was '\n",
      "          'accelerating, saying: \"The intensity of animal and human contact is '\n",
      "          'becoming much greater as the world develops. This makes it more '\n",
      "          'likely new diseases will emerge but also modern travel and trade '\n",
      "          'make it much more likely they will spread\".',\n",
      "  'url': 'https://en.wikipedia.org/wiki/Disease_X'}]\n"
     ]
    }
   ],
   "source": [
    "# print the three top results\n",
    "term_responses = []\n",
    "pprint(top_three_results(term_docs, responses=term_responses))"
   ]
  },
  {
   "cell_type": "markdown",
   "metadata": {},
   "source": [
    "#### **Boolean query**"
   ]
  },
  {
   "cell_type": "code",
   "execution_count": 20,
   "metadata": {},
   "outputs": [
    {
     "name": "stderr",
     "output_type": "stream",
     "text": [
      "/tmp/ipykernel_3007/2648580917.py:18: DeprecationWarning: The 'body' parameter is deprecated for the 'search' API and will be removed in a future version. Instead use API parameters directly. See https://github.com/elastic/elasticsearch-py/issues/1698 for more information\n",
      "  bool_docs = client.search(body = bool_query_body, index=\"pandemics\", size=5)\n"
     ]
    }
   ],
   "source": [
    "# exclude sections from the search results\n",
    "bool_question = \"world health organization\"\n",
    "exclude_sections = \"External links\"\n",
    "bool_query_body = {\n",
    "  \"query\": {\n",
    "    \"bool\": {\n",
    "        \"should\": \n",
    "        { \"match\": {\"text\": bool_question}},\n",
    "        \"must_not\": {\n",
    "            \"term\" : { \"section_title.keyword\" : exclude_sections }\n",
    "      },\n",
    "    }\n",
    "  }\n",
    "}\n",
    "\n",
    "\n",
    "# submit a search query to ElasticSearch\n",
    "bool_docs = client.search(body = bool_query_body, index=\"pandemics\", size=5)"
   ]
  },
  {
   "cell_type": "code",
   "execution_count": 21,
   "metadata": {},
   "outputs": [
    {
     "name": "stdout",
     "output_type": "stream",
     "text": [
      "<class 'dict'>\n"
     ]
    },
    {
     "name": "stderr",
     "output_type": "stream",
     "text": [
      "/tmp/ipykernel_3007/1584265501.py:2: DeprecationWarning: The 'body' parameter is deprecated for the 'search' API and will be removed in a future version. Instead use API parameters directly. See https://github.com/elastic/elasticsearch-py/issues/1698 for more information\n",
      "  bool_docs = client.search(body = bool_query_body, index=\"pandemics\", size=5)\n"
     ]
    },
    {
     "data": {
      "text/plain": [
       "{'took': 11,\n",
       " 'timed_out': False,\n",
       " '_shards': {'total': 1, 'successful': 1, 'skipped': 0, 'failed': 0},\n",
       " 'hits': {'total': {'value': 316, 'relation': 'eq'},\n",
       "  'max_score': 7.7866364,\n",
       "  'hits': [{'_index': 'pandemics',\n",
       "    '_type': '_doc',\n",
       "    '_id': 'f09PbH4BXgbCtq49ip7Y',\n",
       "    '_score': 7.7866364,\n",
       "    '_ignored': ['text.keyword'],\n",
       "    '_source': {'section_title': 'Summary',\n",
       "     'text': 'Johns Hopkins Center for Health Security,Summary\\nThe Johns Hopkins Center for Health Security (abbreviated CHS; previously the UPMC Center for Health Security, the Center for Biosecurity of UPMC, and the Johns Hopkins Center for Civilian Biodefense Strategies) is an independent, nonprofit organization of the Johns Hopkins Bloomberg School of Public Health, and part of the Environmental Health and Engineering department. It is concerned with the areas of health consequences from epidemics and disasters as well as averting biological weapons development, and implications of biosecurity for the bioeconomy. It is a think tank that does policy research and gives policy recommendations to the United States government as well as the World Health Organization and the UN Biological Weapons Convention.',\n",
       "     'main_section': 'Summary',\n",
       "     'article_title': 'Johns Hopkins Center for Health Security',\n",
       "     'source_url': 'https://en.wikipedia.org/wiki/Johns_Hopkins_Center_for_Health_Security',\n",
       "     'page_id': 11008433,\n",
       "     'tags': 'Johns Hopkins Center for Health Security,Summary',\n",
       "     'section_number': 0}},\n",
       "   {'_index': 'pandemics',\n",
       "    '_type': '_doc',\n",
       "    '_id': 'EE9QbH4BXgbCtq49yqDl',\n",
       "    '_score': 7.7866364,\n",
       "    '_ignored': ['text.keyword'],\n",
       "    '_source': {'section_title': 'Summary',\n",
       "     'text': 'Johns Hopkins Center for Health Security,Summary\\nThe Johns Hopkins Center for Health Security (abbreviated CHS; previously the UPMC Center for Health Security, the Center for Biosecurity of UPMC, and the Johns Hopkins Center for Civilian Biodefense Strategies) is an independent, nonprofit organization of the Johns Hopkins Bloomberg School of Public Health, and part of the Environmental Health and Engineering department. It is concerned with the areas of health consequences from epidemics and disasters as well as averting biological weapons development, and implications of biosecurity for the bioeconomy. It is a think tank that does policy research and gives policy recommendations to the United States government as well as the World Health Organization and the UN Biological Weapons Convention.',\n",
       "     'main_section': 'Summary',\n",
       "     'article_title': 'Johns Hopkins Center for Health Security',\n",
       "     'source_url': 'https://en.wikipedia.org/wiki/Johns_Hopkins_Center_for_Health_Security',\n",
       "     'page_id': 11008433,\n",
       "     'tags': 'Johns Hopkins Center for Health Security,Summary',\n",
       "     'section_number': 0}},\n",
       "   {'_index': 'pandemics',\n",
       "    '_type': '_doc',\n",
       "    '_id': '6E9PbH4BXgbCtq49ip7a',\n",
       "    '_score': 7.6135826,\n",
       "    '_source': {'section_title': 'Further reading',\n",
       "     'text': '1929–1930 psittacosis pandemic,Further reading,References\\nAntonin Morange (1895). De la psittacose ou infection spéciale déterminée par les perruches. Médecine de Paris.\\nWeekly Epidemiological Record. World Health Organization; IRIS',\n",
       "     'main_section': 'Further reading',\n",
       "     'article_title': '1929–1930 psittacosis pandemic',\n",
       "     'source_url': 'https://en.wikipedia.org/wiki/1929%E2%80%931930_psittacosis_pandemic',\n",
       "     'page_id': 60428423,\n",
       "     'tags': '1929–1930 psittacosis pandemic,Further reading,References',\n",
       "     'section_number': 18}},\n",
       "   {'_index': 'pandemics',\n",
       "    '_type': '_doc',\n",
       "    '_id': 'eU9QbH4BXgbCtq49yqDm',\n",
       "    '_score': 7.6135826,\n",
       "    '_source': {'section_title': 'Further reading',\n",
       "     'text': '1929–1930 psittacosis pandemic,Further reading,References\\nAntonin Morange (1895). De la psittacose ou infection spéciale déterminée par les perruches. Médecine de Paris.\\nWeekly Epidemiological Record. World Health Organization; IRIS',\n",
       "     'main_section': 'Further reading',\n",
       "     'article_title': '1929–1930 psittacosis pandemic',\n",
       "     'source_url': 'https://en.wikipedia.org/wiki/1929%E2%80%931930_psittacosis_pandemic',\n",
       "     'page_id': 60428423,\n",
       "     'tags': '1929–1930 psittacosis pandemic,Further reading,References',\n",
       "     'section_number': 18}},\n",
       "   {'_index': 'pandemics',\n",
       "    '_type': '_doc',\n",
       "    '_id': 'bU9PbH4BXgbCtq49ip7Y',\n",
       "    '_score': 7.272416,\n",
       "    '_ignored': ['text.keyword'],\n",
       "    '_source': {'section_title': 'Data and graphs',\n",
       "     'text': 'COVID-19 pandemic,External links,Data and graphs\\nCoronavirus disease (COVID-2019) situation reports and map by the World Health Organization\\nCoronavirus Resource Center, map, and historical data by Johns Hopkins University\\nHistorical data about COVID-19 cases published by the European Centre for Disease Prevention and Control (ECDC)\\nWorld Travel Restrictions based on WFP data\\nCoronavirus Observer based on Johns Hopkins University data\\nCOVID-19 coronavirus pandemic published by Worldometer\\nCoronavirus Disease (COVID-19) Statistics and Research published by Our World in Data\\nCOVID-19 Projections for many countries published by Institute for Health Metrics and Evaluation\\nSpreadsheets: Country comparisons\\nSpreadsheets: Historical data with additional computations\\nEpidemic Calculator\\nStat News COVID-19 Tracker',\n",
       "     'main_section': 'External links',\n",
       "     'article_title': 'COVID-19 pandemic',\n",
       "     'source_url': 'https://en.wikipedia.org/wiki/COVID-19_pandemic',\n",
       "     'page_id': 62750956,\n",
       "     'tags': 'COVID-19 pandemic,External links,Data and graphs',\n",
       "     'section_number': 81}}]}}"
      ]
     },
     "execution_count": 21,
     "metadata": {},
     "output_type": "execute_result"
    }
   ],
   "source": [
    "# submit the search query to elasticsearch\n",
    "bool_docs = client.search(body = bool_query_body, index=\"pandemics\", size=5)\n",
    "\n",
    "print(type(bool_docs))\n",
    "bool_docs"
   ]
  },
  {
   "cell_type": "code",
   "execution_count": 22,
   "metadata": {},
   "outputs": [
    {
     "name": "stdout",
     "output_type": "stream",
     "text": [
      "[{'article_title': 'Johns Hopkins Center for Health Security',\n",
      "  'score': 7.7866364,\n",
      "  'section_title': 'Summary',\n",
      "  'text': 'Johns Hopkins Center for Health Security,Summary\\n'\n",
      "          'The Johns Hopkins Center for Health Security (abbreviated CHS; '\n",
      "          'previously the UPMC Center for Health Security, the Center for '\n",
      "          'Biosecurity of UPMC, and the Johns Hopkins Center for Civilian '\n",
      "          'Biodefense Strategies) is an independent, nonprofit organization of '\n",
      "          'the Johns Hopkins Bloomberg School of Public Health, and part of '\n",
      "          'the Environmental Health and Engineering department. It is '\n",
      "          'concerned with the areas of health consequences from epidemics and '\n",
      "          'disasters as well as averting biological weapons development, and '\n",
      "          'implications of biosecurity for the bioeconomy. It is a think tank '\n",
      "          'that does policy research and gives policy recommendations to the '\n",
      "          'United States government as well as the World Health Organization '\n",
      "          'and the UN Biological Weapons Convention.',\n",
      "  'url': 'https://en.wikipedia.org/wiki/Johns_Hopkins_Center_for_Health_Security'},\n",
      " {'article_title': 'Johns Hopkins Center for Health Security',\n",
      "  'score': 7.7866364,\n",
      "  'section_title': 'Summary',\n",
      "  'text': 'Johns Hopkins Center for Health Security,Summary\\n'\n",
      "          'The Johns Hopkins Center for Health Security (abbreviated CHS; '\n",
      "          'previously the UPMC Center for Health Security, the Center for '\n",
      "          'Biosecurity of UPMC, and the Johns Hopkins Center for Civilian '\n",
      "          'Biodefense Strategies) is an independent, nonprofit organization of '\n",
      "          'the Johns Hopkins Bloomberg School of Public Health, and part of '\n",
      "          'the Environmental Health and Engineering department. It is '\n",
      "          'concerned with the areas of health consequences from epidemics and '\n",
      "          'disasters as well as averting biological weapons development, and '\n",
      "          'implications of biosecurity for the bioeconomy. It is a think tank '\n",
      "          'that does policy research and gives policy recommendations to the '\n",
      "          'United States government as well as the World Health Organization '\n",
      "          'and the UN Biological Weapons Convention.',\n",
      "  'url': 'https://en.wikipedia.org/wiki/Johns_Hopkins_Center_for_Health_Security'},\n",
      " {'article_title': '1929–1930 psittacosis pandemic',\n",
      "  'score': 7.6135826,\n",
      "  'section_title': 'Further reading',\n",
      "  'text': '1929–1930 psittacosis pandemic,Further reading,References\\n'\n",
      "          'Antonin Morange (1895). De la psittacose ou infection spéciale '\n",
      "          'déterminée par les perruches. Médecine de Paris.\\n'\n",
      "          'Weekly Epidemiological Record. World Health Organization; IRIS',\n",
      "  'url': 'https://en.wikipedia.org/wiki/1929%E2%80%931930_psittacosis_pandemic'}]\n"
     ]
    }
   ],
   "source": [
    "# print the three top results\n",
    "bool_responses = []\n",
    "pprint(top_three_results(bool_docs, responses=bool_responses))"
   ]
  },
  {
   "cell_type": "markdown",
   "metadata": {},
   "source": [
    "#### **Field boosting**"
   ]
  },
  {
   "cell_type": "code",
   "execution_count": 23,
   "metadata": {},
   "outputs": [],
   "source": [
    "# boost title fields by a factor of 3\n",
    "boost_question = \"covid-19 pandemic\"\n",
    "boost_query_body = {\n",
    "    \"query\": {\n",
    "        \"multi_match\": {\n",
    "            \"query\": boost_question,\n",
    "            \"fields\": [ \"article_title^3\", \"section_title^3\" ] \n",
    "        }\n",
    "    }\n",
    "}"
   ]
  },
  {
   "cell_type": "code",
   "execution_count": 24,
   "metadata": {},
   "outputs": [
    {
     "name": "stdout",
     "output_type": "stream",
     "text": [
      "<class 'dict'>\n"
     ]
    },
    {
     "name": "stderr",
     "output_type": "stream",
     "text": [
      "/tmp/ipykernel_3007/1784758995.py:2: DeprecationWarning: The 'body' parameter is deprecated for the 'search' API and will be removed in a future version. Instead use API parameters directly. See https://github.com/elastic/elasticsearch-py/issues/1698 for more information\n",
      "  boost_docs = client.search(body = boost_query_body, index=\"pandemics\", size=5)\n"
     ]
    },
    {
     "data": {
      "text/plain": [
       "{'took': 20,\n",
       " 'timed_out': False,\n",
       " '_shards': {'total': 1, 'successful': 1, 'skipped': 0, 'failed': 0},\n",
       " 'hits': {'total': {'value': 262, 'relation': 'eq'},\n",
       "  'max_score': 27.882988,\n",
       "  'hits': [{'_index': 'pandemics',\n",
       "    '_type': '_doc',\n",
       "    '_id': '1E9PbH4BXgbCtq49ip3V',\n",
       "    '_score': 27.882988,\n",
       "    '_ignored': ['text.keyword'],\n",
       "    '_source': {'section_title': 'COVID-19',\n",
       "     'text': 'Pandemic,Current pandemics,COVID-19\\nA new strain of coronavirus was first identified in the city of Wuhan, Hubei province, China, in late December 2019. It has caused a cluster of cases of an acute respiratory disease, which is referred to as coronavirus disease 2019 (COVID-19). According to media reports, more than 200 countries and territories have been affected by COVID-19, with major outbreaks occurring in Brazil, Russia, India, Mexico, Peru, South Africa, Western Europe and the United States. On 11 March 2020, the World Health Organization characterized the spread of COVID-19 as a pandemic. As of 16 November 2020, the number of people infected with COVID-19 has reached 54,978,057 worldwide, of whom 38,243,617 have recovered. The death toll is 1,326,860. It is believed that these figures are understated as testing did not commence in the initial stages of the outbreak and many people infected by the virus have no or only mild symptoms and may not have been tested. Similarly, the number of recoveries may also be understated as tests are required before cases are officially recognised as recovered, and fatalities are sometimes attributed to other conditions. This was especially the case in large urban areas where a non-trivial number of patients died while in their private residences. It was later discovered that asymptomatic hypoxia due to COVID-19 pulmonary disease may be responsible for many such cases.',\n",
       "     'main_section': 'Current pandemics',\n",
       "     'article_title': 'Pandemic',\n",
       "     'source_url': 'https://en.wikipedia.org/wiki/Pandemic',\n",
       "     'page_id': 24255,\n",
       "     'tags': 'Pandemic,Current pandemics,COVID-19',\n",
       "     'section_number': 8}},\n",
       "   {'_index': 'pandemics',\n",
       "    '_type': '_doc',\n",
       "    '_id': '7U9PbH4BXgbCtq49ip7a',\n",
       "    '_score': 27.882988,\n",
       "    '_ignored': ['text.keyword'],\n",
       "    '_source': {'section_title': 'COVID-19',\n",
       "     'text': 'Science diplomacy and pandemics,COVID-19\\nOn December 31, 2019, authorities in Wuhan, China reported the first cases of an unknown pneumonia to the World Health Organization (WHO). Shortly after that, on January 4, 2020, the WHO reported on social media that there had been a group of pneumonia cases in Wuhan, China but that no deaths had been reported. The unknown pneumonia was a novel coronavirus, which they later named COVID-19. WHO quickly realized that it was a serious problem and issues between science and diplomacy on the topic of COVID-19 became evident. The Chinese government did not alert the WHO about the full extent of the seriousness of the outbreak.By the time the WHO realized that the problem was serious, the false information of a low mortality rate and its low risk to non-senior citizens had already spread very rapidly. The United States and the WHO tried to send scientists to help China fight COVID-19; however, China refused the help. China did eventually share the genome sequence of COVID-19 with the global community and later accepted another offer from the WHO to send a team of scientists to help. The lack of communication and the slow transmission of information between science and government caused failures to slow the spread of the virus in its early stages. To further complicate this stage, when scientists did give information or guidance, governments did not take it into proper consideration. As a result, by not acting fast enough, many people were infected and local economies suffered due to the slow decision to act in unison. The overall impact on society would have been less detrimental if governments had acted in collaboration with each other and scientists.Some progress has been made among the scientific community itself in creating transparency, so local scientists in each region have access to the information they need to fight COVID-19. For example, the global scientific community began making efforts to communicate and share relevant information to help combat COVID-19 without delay. The WHO reported that a global research roadmap has been created in March 2020 to fight COVID-19. Scientists are publishing research findings before they are peer-reviewed and sharing other discoveries without delay. Scientists and clinicians are working to fight the epidemic by sharing data through information sharing technologies using bioRxiv, medRxiv, ChemRxiv, and arXiv, which allows them to share information in real time. These tools are helping biopharma research and development, academic labs, government regulators, and the clinical community to speed up the process of testing new pathways to treating COVID-19 patients more efficiently. As one researcher explains, “We are experiencing a shift towards Open Science at a speed that was previously unthinkable. It began with the publication of the genetic sequence of COVID-19 by Chinese scientists in early January 2020 via GenBank – an open-access DNA database operated by the US National Center for Biotechnology Information”Additionally, The World Economic Forum has partnered with the WHO to mobilize and help supply the needed resources required to fight COVID-19 itself and the economic impact it is having. With the sharing of this information around the world by scientific communities, each individual country is better equipped with the knowledge they need to combat the pandemic and investigate possible treatments, testing, and vaccines. In the most current WHO published table of COVID-19 vaccines, there are 124 candidates that are in different stages of vaccine development.',\n",
       "     'main_section': 'COVID-19',\n",
       "     'article_title': 'Science diplomacy and pandemics',\n",
       "     'source_url': 'https://en.wikipedia.org/wiki/Science_diplomacy_and_pandemics',\n",
       "     'page_id': 63936969,\n",
       "     'tags': 'Science diplomacy and pandemics,COVID-19',\n",
       "     'section_number': 4}},\n",
       "   {'_index': 'pandemics',\n",
       "    '_type': '_doc',\n",
       "    '_id': 'ZU9QbH4BXgbCtq49yp_j',\n",
       "    '_score': 27.882988,\n",
       "    '_ignored': ['text.keyword'],\n",
       "    '_source': {'section_title': 'COVID-19',\n",
       "     'text': 'Pandemic,Current pandemics,COVID-19\\nA new strain of coronavirus was first identified in the city of Wuhan, Hubei province, China, in late December 2019. It has caused a cluster of cases of an acute respiratory disease, which is referred to as coronavirus disease 2019 (COVID-19). According to media reports, more than 200 countries and territories have been affected by COVID-19, with major outbreaks occurring in Brazil, Russia, India, Mexico, Peru, South Africa, Western Europe and the United States. On 11 March 2020, the World Health Organization characterized the spread of COVID-19 as a pandemic. As of 16 November 2020, the number of people infected with COVID-19 has reached 54,978,057 worldwide, of whom 38,243,617 have recovered. The death toll is 1,326,860. It is believed that these figures are understated as testing did not commence in the initial stages of the outbreak and many people infected by the virus have no or only mild symptoms and may not have been tested. Similarly, the number of recoveries may also be understated as tests are required before cases are officially recognised as recovered, and fatalities are sometimes attributed to other conditions. This was especially the case in large urban areas where a non-trivial number of patients died while in their private residences. It was later discovered that asymptomatic hypoxia due to COVID-19 pulmonary disease may be responsible for many such cases.',\n",
       "     'main_section': 'Current pandemics',\n",
       "     'article_title': 'Pandemic',\n",
       "     'source_url': 'https://en.wikipedia.org/wiki/Pandemic',\n",
       "     'page_id': 24255,\n",
       "     'tags': 'Pandemic,Current pandemics,COVID-19',\n",
       "     'section_number': 8}},\n",
       "   {'_index': 'pandemics',\n",
       "    '_type': '_doc',\n",
       "    '_id': 'fk9QbH4BXgbCtq49yqDm',\n",
       "    '_score': 27.882988,\n",
       "    '_ignored': ['text.keyword'],\n",
       "    '_source': {'section_title': 'COVID-19',\n",
       "     'text': 'Science diplomacy and pandemics,COVID-19\\nOn December 31, 2019, authorities in Wuhan, China reported the first cases of an unknown pneumonia to the World Health Organization (WHO). Shortly after that, on January 4, 2020, the WHO reported on social media that there had been a group of pneumonia cases in Wuhan, China but that no deaths had been reported. The unknown pneumonia was a novel coronavirus, which they later named COVID-19. WHO quickly realized that it was a serious problem and issues between science and diplomacy on the topic of COVID-19 became evident. The Chinese government did not alert the WHO about the full extent of the seriousness of the outbreak.By the time the WHO realized that the problem was serious, the false information of a low mortality rate and its low risk to non-senior citizens had already spread very rapidly. The United States and the WHO tried to send scientists to help China fight COVID-19; however, China refused the help. China did eventually share the genome sequence of COVID-19 with the global community and later accepted another offer from the WHO to send a team of scientists to help. The lack of communication and the slow transmission of information between science and government caused failures to slow the spread of the virus in its early stages. To further complicate this stage, when scientists did give information or guidance, governments did not take it into proper consideration. As a result, by not acting fast enough, many people were infected and local economies suffered due to the slow decision to act in unison. The overall impact on society would have been less detrimental if governments had acted in collaboration with each other and scientists.Some progress has been made among the scientific community itself in creating transparency, so local scientists in each region have access to the information they need to fight COVID-19. For example, the global scientific community began making efforts to communicate and share relevant information to help combat COVID-19 without delay. The WHO reported that a global research roadmap has been created in March 2020 to fight COVID-19. Scientists are publishing research findings before they are peer-reviewed and sharing other discoveries without delay. Scientists and clinicians are working to fight the epidemic by sharing data through information sharing technologies using bioRxiv, medRxiv, ChemRxiv, and arXiv, which allows them to share information in real time. These tools are helping biopharma research and development, academic labs, government regulators, and the clinical community to speed up the process of testing new pathways to treating COVID-19 patients more efficiently. As one researcher explains, “We are experiencing a shift towards Open Science at a speed that was previously unthinkable. It began with the publication of the genetic sequence of COVID-19 by Chinese scientists in early January 2020 via GenBank – an open-access DNA database operated by the US National Center for Biotechnology Information”Additionally, The World Economic Forum has partnered with the WHO to mobilize and help supply the needed resources required to fight COVID-19 itself and the economic impact it is having. With the sharing of this information around the world by scientific communities, each individual country is better equipped with the knowledge they need to combat the pandemic and investigate possible treatments, testing, and vaccines. In the most current WHO published table of COVID-19 vaccines, there are 124 candidates that are in different stages of vaccine development.',\n",
       "     'main_section': 'COVID-19',\n",
       "     'article_title': 'Science diplomacy and pandemics',\n",
       "     'source_url': 'https://en.wikipedia.org/wiki/Science_diplomacy_and_pandemics',\n",
       "     'page_id': 63936969,\n",
       "     'tags': 'Science diplomacy and pandemics,COVID-19',\n",
       "     'section_number': 4}},\n",
       "   {'_index': 'pandemics',\n",
       "    '_type': '_doc',\n",
       "    '_id': 'eU9PbH4BXgbCtq49ip7Y',\n",
       "    '_score': 19.969978,\n",
       "    '_ignored': ['text.keyword'],\n",
       "    '_source': {'section_title': 'COVID-19 (2019–2020)',\n",
       "     'text': 'Disease X,Candidates,COVID-19 (2019–2020)\\nFrom the outset of the COVID-19 pandemic, experts have speculated whether COVID-19 met the criteria to be Disease X. In early February 2020, Chinese virologist Shi Zhengli from the Wuhan Institute of Virology, wrote that the first Disease X is from a coronavirus. Later that month, Marion Koopmans, Head of Viroscience at Erasmus University Medical Center in Rotterdam, and a member of the WHO\\'s R&D Blueprint Special Advisory Group, wrote in scientific journal Cell, \"Whether it will be contained or not, this outbreak is rapidly becoming the first true pandemic challenge that fits the disease X category\". At the same time, Peter Daszak, also a member of the WHO\\'s R&D Blueprint, wrote in an opinion piece in the New York Times saying: \"In a nutshell, Covid-19 is Disease X\".',\n",
       "     'main_section': 'Candidates',\n",
       "     'article_title': 'Disease X',\n",
       "     'source_url': 'https://en.wikipedia.org/wiki/Disease_X',\n",
       "     'page_id': 56809815,\n",
       "     'tags': 'Disease X,Candidates,COVID-19 (2019–2020)',\n",
       "     'section_number': 6}}]}}"
      ]
     },
     "execution_count": 24,
     "metadata": {},
     "output_type": "execute_result"
    }
   ],
   "source": [
    "# submit the search query to elasticsearch\n",
    "boost_docs = client.search(body = boost_query_body, index=\"pandemics\", size=5)\n",
    "\n",
    "print(type(boost_docs))\n",
    "boost_docs"
   ]
  },
  {
   "cell_type": "code",
   "execution_count": 25,
   "metadata": {},
   "outputs": [
    {
     "name": "stdout",
     "output_type": "stream",
     "text": [
      "[{'article_title': 'Pandemic',\n",
      "  'score': 27.882988,\n",
      "  'section_title': 'COVID-19',\n",
      "  'text': 'Pandemic,Current pandemics,COVID-19\\n'\n",
      "          'A new strain of coronavirus was first identified in the city of '\n",
      "          'Wuhan, Hubei province, China, in late December 2019. It has caused '\n",
      "          'a cluster of cases of an acute respiratory disease, which is '\n",
      "          'referred to as coronavirus disease 2019 (COVID-19). According to '\n",
      "          'media reports, more than 200 countries and territories have been '\n",
      "          'affected by COVID-19, with major outbreaks occurring in Brazil, '\n",
      "          'Russia, India, Mexico, Peru, South Africa, Western Europe and the '\n",
      "          'United States. On 11 March 2020, the World Health Organization '\n",
      "          'characterized the spread of COVID-19 as a pandemic. As of 16 '\n",
      "          'November 2020, the number of people infected with COVID-19 has '\n",
      "          'reached 54,978,057 worldwide, of whom 38,243,617 have recovered. '\n",
      "          'The death toll is 1,326,860. It is believed that these figures are '\n",
      "          'understated as testing did not commence in the initial stages of '\n",
      "          'the outbreak and many people infected by the virus have no or only '\n",
      "          'mild symptoms and may not have been tested. Similarly, the number '\n",
      "          'of recoveries may also be understated as tests are required before '\n",
      "          'cases are officially recognised as recovered, and fatalities are '\n",
      "          'sometimes attributed to other conditions. This was especially the '\n",
      "          'case in large urban areas where a non-trivial number of patients '\n",
      "          'died while in their private residences. It was later discovered '\n",
      "          'that asymptomatic hypoxia due to COVID-19 pulmonary disease may be '\n",
      "          'responsible for many such cases.',\n",
      "  'url': 'https://en.wikipedia.org/wiki/Pandemic'},\n",
      " {'article_title': 'Science diplomacy and pandemics',\n",
      "  'score': 27.882988,\n",
      "  'section_title': 'COVID-19',\n",
      "  'text': 'Science diplomacy and pandemics,COVID-19\\n'\n",
      "          'On December 31, 2019, authorities in Wuhan, China reported the '\n",
      "          'first cases of an unknown pneumonia to the World Health '\n",
      "          'Organization (WHO). Shortly after that, on January 4, 2020, the WHO '\n",
      "          'reported on social media that there had been a group of pneumonia '\n",
      "          'cases in Wuhan, China but that no deaths had been reported. The '\n",
      "          'unknown pneumonia was a novel coronavirus, which they later named '\n",
      "          'COVID-19. WHO quickly realized that it was a serious problem and '\n",
      "          'issues between science and diplomacy on the topic of COVID-19 '\n",
      "          'became evident. The Chinese government did not alert the WHO about '\n",
      "          'the full extent of the seriousness of the outbreak.By the time the '\n",
      "          'WHO realized that the problem was serious, the false information of '\n",
      "          'a low mortality rate and its low risk to non-senior citizens had '\n",
      "          'already spread very rapidly. The United States and the WHO tried to '\n",
      "          'send scientists to help China fight COVID-19; however, China '\n",
      "          'refused the help. China did eventually share the genome sequence of '\n",
      "          'COVID-19 with the global community and later accepted another offer '\n",
      "          'from the WHO to send a team of scientists to help. The lack of '\n",
      "          'communication and the slow transmission of information between '\n",
      "          'science and government caused failures to slow the spread of the '\n",
      "          'virus in its early stages. To further complicate this stage, when '\n",
      "          'scientists did give information or guidance, governments did not '\n",
      "          'take it into proper consideration. As a result, by not acting fast '\n",
      "          'enough, many people were infected and local economies suffered due '\n",
      "          'to the slow decision to act in unison. The overall impact on '\n",
      "          'society would have been less detrimental if governments had acted '\n",
      "          'in collaboration with each other and scientists.Some progress has '\n",
      "          'been made among the scientific community itself in creating '\n",
      "          'transparency, so local scientists in each region have access to the '\n",
      "          'information they need to fight COVID-19. For example, the global '\n",
      "          'scientific community began making efforts to communicate and share '\n",
      "          'relevant information to help combat COVID-19 without delay. The WHO '\n",
      "          'reported that a global research roadmap has been created in March '\n",
      "          '2020 to fight COVID-19. Scientists are publishing research findings '\n",
      "          'before they are peer-reviewed and sharing other discoveries without '\n",
      "          'delay. Scientists and clinicians are working to fight the epidemic '\n",
      "          'by sharing data through information sharing technologies using '\n",
      "          'bioRxiv, medRxiv, ChemRxiv, and arXiv, which allows them to share '\n",
      "          'information in real time. These tools are helping biopharma '\n",
      "          'research and development, academic labs, government regulators, and '\n",
      "          'the clinical community to speed up the process of testing new '\n",
      "          'pathways to treating COVID-19 patients more efficiently. As one '\n",
      "          'researcher explains, “We are experiencing a shift towards Open '\n",
      "          'Science at a speed that was previously unthinkable. It began with '\n",
      "          'the publication of the genetic sequence of COVID-19 by Chinese '\n",
      "          'scientists in early January 2020 via GenBank – an open-access DNA '\n",
      "          'database operated by the US National Center for Biotechnology '\n",
      "          'Information”Additionally, The World Economic Forum has partnered '\n",
      "          'with the WHO to mobilize and help supply the needed resources '\n",
      "          'required to fight COVID-19 itself and the economic impact it is '\n",
      "          'having. With the sharing of this information around the world by '\n",
      "          'scientific communities, each individual country is better equipped '\n",
      "          'with the knowledge they need to combat the pandemic and investigate '\n",
      "          'possible treatments, testing, and vaccines. In the most current WHO '\n",
      "          'published table of COVID-19 vaccines, there are 124 candidates that '\n",
      "          'are in different stages of vaccine development.',\n",
      "  'url': 'https://en.wikipedia.org/wiki/Science_diplomacy_and_pandemics'},\n",
      " {'article_title': 'Pandemic',\n",
      "  'score': 27.882988,\n",
      "  'section_title': 'COVID-19',\n",
      "  'text': 'Pandemic,Current pandemics,COVID-19\\n'\n",
      "          'A new strain of coronavirus was first identified in the city of '\n",
      "          'Wuhan, Hubei province, China, in late December 2019. It has caused '\n",
      "          'a cluster of cases of an acute respiratory disease, which is '\n",
      "          'referred to as coronavirus disease 2019 (COVID-19). According to '\n",
      "          'media reports, more than 200 countries and territories have been '\n",
      "          'affected by COVID-19, with major outbreaks occurring in Brazil, '\n",
      "          'Russia, India, Mexico, Peru, South Africa, Western Europe and the '\n",
      "          'United States. On 11 March 2020, the World Health Organization '\n",
      "          'characterized the spread of COVID-19 as a pandemic. As of 16 '\n",
      "          'November 2020, the number of people infected with COVID-19 has '\n",
      "          'reached 54,978,057 worldwide, of whom 38,243,617 have recovered. '\n",
      "          'The death toll is 1,326,860. It is believed that these figures are '\n",
      "          'understated as testing did not commence in the initial stages of '\n",
      "          'the outbreak and many people infected by the virus have no or only '\n",
      "          'mild symptoms and may not have been tested. Similarly, the number '\n",
      "          'of recoveries may also be understated as tests are required before '\n",
      "          'cases are officially recognised as recovered, and fatalities are '\n",
      "          'sometimes attributed to other conditions. This was especially the '\n",
      "          'case in large urban areas where a non-trivial number of patients '\n",
      "          'died while in their private residences. It was later discovered '\n",
      "          'that asymptomatic hypoxia due to COVID-19 pulmonary disease may be '\n",
      "          'responsible for many such cases.',\n",
      "  'url': 'https://en.wikipedia.org/wiki/Pandemic'}]\n"
     ]
    }
   ],
   "source": [
    "# print the three top results\n",
    "boost_responses = []\n",
    "pprint(top_three_results(boost_docs, responses=boost_responses))"
   ]
  },
  {
   "cell_type": "markdown",
   "metadata": {},
   "source": [
    "#### **Highlights**"
   ]
  },
  {
   "cell_type": "code",
   "execution_count": 26,
   "metadata": {},
   "outputs": [],
   "source": [
    "# create a query body and a search string (...)\n",
    "hl_question = \"genetic mutations\"\n",
    "hl_query_body = {\n",
    "    \"query\": {\n",
    "        \"match\": { \"text\": hl_question }\n",
    "    },\n",
    "    \"highlight\": {\n",
    "        \"fields\": {\"text\": {\"number_of_fragments\" : 1, 'fragment_size':256}\n",
    "                  }\n",
    "    }\n",
    "}"
   ]
  },
  {
   "cell_type": "code",
   "execution_count": 27,
   "metadata": {},
   "outputs": [
    {
     "name": "stderr",
     "output_type": "stream",
     "text": [
      "/tmp/ipykernel_3007/4021062749.py:2: DeprecationWarning: The 'body' parameter is deprecated for the 'search' API and will be removed in a future version. Instead use API parameters directly. See https://github.com/elastic/elasticsearch-py/issues/1698 for more information\n",
      "  hl_docs = client.search(body = hl_query_body, index=\"pandemics\", size=5)\n"
     ]
    },
    {
     "name": "stdout",
     "output_type": "stream",
     "text": [
      "<class 'dict'>\n"
     ]
    },
    {
     "data": {
      "text/plain": [
       "{'took': 93,\n",
       " 'timed_out': False,\n",
       " '_shards': {'total': 1, 'successful': 1, 'skipped': 0, 'failed': 0},\n",
       " 'hits': {'total': {'value': 56, 'relation': 'eq'},\n",
       "  'max_score': 8.6320095,\n",
       "  'hits': [{'_index': 'pandemics',\n",
       "    '_type': '_doc',\n",
       "    '_id': 'QU9PbH4BXgbCtq49ip_b',\n",
       "    '_score': 8.6320095,\n",
       "    '_ignored': ['text.keyword'],\n",
       "    '_source': {'section_title': 'Genetic mutation',\n",
       "     'text': 'Virus,Microbiology,Genetic mutation\\nViruses undergo genetic change by several mechanisms. These include a process called antigenic drift where individual bases in the DNA or RNA mutate to other bases. Most of these point mutations are \"silent\"—they do not change the protein that the gene encodes—but others can confer evolutionary advantages such as resistance to antiviral drugs. Antigenic shift occurs when there is a major change in the genome of the virus. This can be a result of recombination or reassortment. When this happens with influenza viruses, pandemics might result. RNA viruses often exist as quasispecies or swarms of viruses of the same species but with slightly different genome nucleoside sequences. Such quasispecies are a prime target for natural selection.Segmented genomes confer evolutionary advantages; different strains of a virus with a segmented genome can shuffle and combine genes and produce progeny viruses (or offspring) that have unique characteristics. This is called reassortment or \\'viral sex\\'.Genetic recombination is the process by which a strand of DNA is broken and then joined to the end of a different DNA molecule. This can occur when viruses infect cells simultaneously and studies of viral evolution have shown that recombination has been rampant in the species studied. Recombination is common to both RNA and DNA viruses.',\n",
       "     'main_section': 'Microbiology',\n",
       "     'article_title': 'Virus',\n",
       "     'source_url': 'https://en.wikipedia.org/wiki/Virus',\n",
       "     'page_id': 19167679,\n",
       "     'tags': 'Virus,Microbiology,Genetic mutation',\n",
       "     'section_number': 10},\n",
       "    'highlight': {'text': ['Virus,Microbiology,<em>Genetic</em> mutation\\nViruses undergo <em>genetic</em> change by several mechanisms. These include a process called antigenic drift where individual bases in the DNA or RNA mutate to other bases.']}},\n",
       "   {'_index': 'pandemics',\n",
       "    '_type': '_doc',\n",
       "    '_id': '0k9QbH4BXgbCtq49yqDn',\n",
       "    '_score': 8.6320095,\n",
       "    '_ignored': ['text.keyword'],\n",
       "    '_source': {'section_title': 'Genetic mutation',\n",
       "     'text': 'Virus,Microbiology,Genetic mutation\\nViruses undergo genetic change by several mechanisms. These include a process called antigenic drift where individual bases in the DNA or RNA mutate to other bases. Most of these point mutations are \"silent\"—they do not change the protein that the gene encodes—but others can confer evolutionary advantages such as resistance to antiviral drugs. Antigenic shift occurs when there is a major change in the genome of the virus. This can be a result of recombination or reassortment. When this happens with influenza viruses, pandemics might result. RNA viruses often exist as quasispecies or swarms of viruses of the same species but with slightly different genome nucleoside sequences. Such quasispecies are a prime target for natural selection.Segmented genomes confer evolutionary advantages; different strains of a virus with a segmented genome can shuffle and combine genes and produce progeny viruses (or offspring) that have unique characteristics. This is called reassortment or \\'viral sex\\'.Genetic recombination is the process by which a strand of DNA is broken and then joined to the end of a different DNA molecule. This can occur when viruses infect cells simultaneously and studies of viral evolution have shown that recombination has been rampant in the species studied. Recombination is common to both RNA and DNA viruses.',\n",
       "     'main_section': 'Microbiology',\n",
       "     'article_title': 'Virus',\n",
       "     'source_url': 'https://en.wikipedia.org/wiki/Virus',\n",
       "     'page_id': 19167679,\n",
       "     'tags': 'Virus,Microbiology,Genetic mutation',\n",
       "     'section_number': 10},\n",
       "    'highlight': {'text': ['Virus,Microbiology,<em>Genetic</em> mutation\\nViruses undergo <em>genetic</em> change by several mechanisms. These include a process called antigenic drift where individual bases in the DNA or RNA mutate to other bases.']}},\n",
       "   {'_index': 'pandemics',\n",
       "    '_type': '_doc',\n",
       "    '_id': '4E9PbH4BXgbCtq49ip3W',\n",
       "    '_score': 8.105148,\n",
       "    '_ignored': ['text.keyword'],\n",
       "    '_source': {'section_title': 'Viral hemorrhagic fevers',\n",
       "     'text': 'Pandemic,Concerns about future pandemics,Concerning diseases,Viral hemorrhagic fevers\\nViral hemorrhagic fevers such as Ebola virus disease, Lassa fever, Rift Valley fever, Marburg virus disease, Bolivian hemorrhagic fever and Crimean-Congo hemorrhagic fever are highly contagious and deadly diseases, with the theoretical potential to become pandemics. Their ability to spread efficiently enough to cause a pandemic is limited, however, as transmission of these viruses requires close contact with the infected vector, and the vector has only a short time before death or serious illness. Furthermore, the short time between a vector becoming infectious and the onset of symptoms allows medical professionals to quickly quarantine vectors, and prevent them from carrying the pathogen elsewhere. Genetic mutations could occur, which could elevate their potential for causing widespread harm; thus close observation by contagious disease specialists is merited.',\n",
       "     'main_section': 'Concerns about future pandemics',\n",
       "     'article_title': 'Pandemic',\n",
       "     'source_url': 'https://en.wikipedia.org/wiki/Pandemic',\n",
       "     'page_id': 24255,\n",
       "     'tags': 'Pandemic,Concerns about future pandemics,Concerning diseases,Viral hemorrhagic fevers',\n",
       "     'section_number': 26},\n",
       "    'highlight': {'text': ['<em>Genetic</em> <em>mutations</em> could occur, which could elevate their potential for causing widespread harm; thus close observation by contagious disease specialists is merited.']}},\n",
       "   {'_index': 'pandemics',\n",
       "    '_type': '_doc',\n",
       "    '_id': 'cU9QbH4BXgbCtq49yp_j',\n",
       "    '_score': 8.105148,\n",
       "    '_ignored': ['text.keyword'],\n",
       "    '_source': {'section_title': 'Viral hemorrhagic fevers',\n",
       "     'text': 'Pandemic,Concerns about future pandemics,Concerning diseases,Viral hemorrhagic fevers\\nViral hemorrhagic fevers such as Ebola virus disease, Lassa fever, Rift Valley fever, Marburg virus disease, Bolivian hemorrhagic fever and Crimean-Congo hemorrhagic fever are highly contagious and deadly diseases, with the theoretical potential to become pandemics. Their ability to spread efficiently enough to cause a pandemic is limited, however, as transmission of these viruses requires close contact with the infected vector, and the vector has only a short time before death or serious illness. Furthermore, the short time between a vector becoming infectious and the onset of symptoms allows medical professionals to quickly quarantine vectors, and prevent them from carrying the pathogen elsewhere. Genetic mutations could occur, which could elevate their potential for causing widespread harm; thus close observation by contagious disease specialists is merited.',\n",
       "     'main_section': 'Concerns about future pandemics',\n",
       "     'article_title': 'Pandemic',\n",
       "     'source_url': 'https://en.wikipedia.org/wiki/Pandemic',\n",
       "     'page_id': 24255,\n",
       "     'tags': 'Pandemic,Concerns about future pandemics,Concerning diseases,Viral hemorrhagic fevers',\n",
       "     'section_number': 26},\n",
       "    'highlight': {'text': ['<em>Genetic</em> <em>mutations</em> could occur, which could elevate their potential for causing widespread harm; thus close observation by contagious disease specialists is merited.']}},\n",
       "   {'_index': 'pandemics',\n",
       "    '_type': '_doc',\n",
       "    '_id': 'PE9PbH4BXgbCtq49ip_b',\n",
       "    '_score': 7.317696,\n",
       "    '_ignored': ['text.keyword'],\n",
       "    '_source': {'section_title': 'Life properties',\n",
       "     'text': 'Virus,Microbiology,Life properties\\nScientific opinions differ on whether viruses are a form of life or organic structures that interact with living organisms. They have been described as \"organisms at the edge of life\", since they resemble organisms in that they possess genes, evolve by natural selection, and reproduce by creating multiple copies of themselves through self-assembly. Although they have genes, they do not have a cellular structure, which is often seen as the basic unit of life. Viruses do not have their own metabolism and require a host cell to make new products. They therefore cannot naturally reproduce outside a host cell—although bacterial species such as rickettsia and chlamydia are considered living organisms despite the same limitation. Accepted forms of life use cell division to reproduce, whereas viruses spontaneously assemble within cells. They differ from autonomous growth of crystals as they inherit genetic mutations while being subject to natural selection. Virus self-assembly within host cells has implications for the study of the origin of life, as it lends further credence to the hypothesis that life could have started as self-assembling organic molecules.',\n",
       "     'main_section': 'Microbiology',\n",
       "     'article_title': 'Virus',\n",
       "     'source_url': 'https://en.wikipedia.org/wiki/Virus',\n",
       "     'page_id': 19167679,\n",
       "     'tags': 'Virus,Microbiology,Life properties',\n",
       "     'section_number': 5},\n",
       "    'highlight': {'text': ['They differ from autonomous growth of crystals as they inherit <em>genetic</em> <em>mutations</em> while being subject to natural selection.']}}]}}"
      ]
     },
     "execution_count": 27,
     "metadata": {},
     "output_type": "execute_result"
    }
   ],
   "source": [
    "# submit the search query to elasticsearch\n",
    "hl_docs = client.search(body = hl_query_body, index=\"pandemics\", size=5)\n",
    "\n",
    "print(type(hl_docs))\n",
    "hl_docs"
   ]
  },
  {
   "cell_type": "code",
   "execution_count": 28,
   "metadata": {},
   "outputs": [
    {
     "name": "stdout",
     "output_type": "stream",
     "text": [
      "[{'article_title': 'Virus',\n",
      "  'score': 8.6320095,\n",
      "  'section_title': 'Genetic mutation',\n",
      "  'text': 'Virus,Microbiology,Genetic mutation\\n'\n",
      "          'Viruses undergo genetic change by several mechanisms. These include '\n",
      "          'a process called antigenic drift where individual bases in the DNA '\n",
      "          'or RNA mutate to other bases. Most of these point mutations are '\n",
      "          '\"silent\"—they do not change the protein that the gene encodes—but '\n",
      "          'others can confer evolutionary advantages such as resistance to '\n",
      "          'antiviral drugs. Antigenic shift occurs when there is a major '\n",
      "          'change in the genome of the virus. This can be a result of '\n",
      "          'recombination or reassortment. When this happens with influenza '\n",
      "          'viruses, pandemics might result. RNA viruses often exist as '\n",
      "          'quasispecies or swarms of viruses of the same species but with '\n",
      "          'slightly different genome nucleoside sequences. Such quasispecies '\n",
      "          'are a prime target for natural selection.Segmented genomes confer '\n",
      "          'evolutionary advantages; different strains of a virus with a '\n",
      "          'segmented genome can shuffle and combine genes and produce progeny '\n",
      "          'viruses (or offspring) that have unique characteristics. This is '\n",
      "          \"called reassortment or 'viral sex'.Genetic recombination is the \"\n",
      "          'process by which a strand of DNA is broken and then joined to the '\n",
      "          'end of a different DNA molecule. This can occur when viruses infect '\n",
      "          'cells simultaneously and studies of viral evolution have shown that '\n",
      "          'recombination has been rampant in the species studied. '\n",
      "          'Recombination is common to both RNA and DNA viruses.',\n",
      "  'url': 'https://en.wikipedia.org/wiki/Virus'},\n",
      " {'article_title': 'Virus',\n",
      "  'score': 8.6320095,\n",
      "  'section_title': 'Genetic mutation',\n",
      "  'text': 'Virus,Microbiology,Genetic mutation\\n'\n",
      "          'Viruses undergo genetic change by several mechanisms. These include '\n",
      "          'a process called antigenic drift where individual bases in the DNA '\n",
      "          'or RNA mutate to other bases. Most of these point mutations are '\n",
      "          '\"silent\"—they do not change the protein that the gene encodes—but '\n",
      "          'others can confer evolutionary advantages such as resistance to '\n",
      "          'antiviral drugs. Antigenic shift occurs when there is a major '\n",
      "          'change in the genome of the virus. This can be a result of '\n",
      "          'recombination or reassortment. When this happens with influenza '\n",
      "          'viruses, pandemics might result. RNA viruses often exist as '\n",
      "          'quasispecies or swarms of viruses of the same species but with '\n",
      "          'slightly different genome nucleoside sequences. Such quasispecies '\n",
      "          'are a prime target for natural selection.Segmented genomes confer '\n",
      "          'evolutionary advantages; different strains of a virus with a '\n",
      "          'segmented genome can shuffle and combine genes and produce progeny '\n",
      "          'viruses (or offspring) that have unique characteristics. This is '\n",
      "          \"called reassortment or 'viral sex'.Genetic recombination is the \"\n",
      "          'process by which a strand of DNA is broken and then joined to the '\n",
      "          'end of a different DNA molecule. This can occur when viruses infect '\n",
      "          'cells simultaneously and studies of viral evolution have shown that '\n",
      "          'recombination has been rampant in the species studied. '\n",
      "          'Recombination is common to both RNA and DNA viruses.',\n",
      "  'url': 'https://en.wikipedia.org/wiki/Virus'},\n",
      " {'article_title': 'Pandemic',\n",
      "  'score': 8.105148,\n",
      "  'section_title': 'Viral hemorrhagic fevers',\n",
      "  'text': 'Pandemic,Concerns about future pandemics,Concerning diseases,Viral '\n",
      "          'hemorrhagic fevers\\n'\n",
      "          'Viral hemorrhagic fevers such as Ebola virus disease, Lassa fever, '\n",
      "          'Rift Valley fever, Marburg virus disease, Bolivian hemorrhagic '\n",
      "          'fever and Crimean-Congo hemorrhagic fever are highly contagious and '\n",
      "          'deadly diseases, with the theoretical potential to become '\n",
      "          'pandemics. Their ability to spread efficiently enough to cause a '\n",
      "          'pandemic is limited, however, as transmission of these viruses '\n",
      "          'requires close contact with the infected vector, and the vector has '\n",
      "          'only a short time before death or serious illness. Furthermore, the '\n",
      "          'short time between a vector becoming infectious and the onset of '\n",
      "          'symptoms allows medical professionals to quickly quarantine '\n",
      "          'vectors, and prevent them from carrying the pathogen elsewhere. '\n",
      "          'Genetic mutations could occur, which could elevate their potential '\n",
      "          'for causing widespread harm; thus close observation by contagious '\n",
      "          'disease specialists is merited.',\n",
      "  'url': 'https://en.wikipedia.org/wiki/Pandemic'}]\n"
     ]
    }
   ],
   "source": [
    "# print the three top results\n",
    "hl_responses = []\n",
    "pprint(top_three_results(hl_docs, responses=hl_responses))"
   ]
  }
 ],
 "metadata": {
  "colab": {
   "collapsed_sections": [],
   "name": "03_Building_SearchAPI_w_Elasticsearch_and_BERT.ipynb",
   "provenance": []
  },
  "kernelspec": {
   "display_name": "Python 3 (ipykernel)",
   "language": "python",
   "name": "python3"
  },
  "language_info": {
   "codemirror_mode": {
    "name": "ipython",
    "version": 3
   },
   "file_extension": ".py",
   "mimetype": "text/x-python",
   "name": "python",
   "nbconvert_exporter": "python",
   "pygments_lexer": "ipython3",
   "version": "3.9.7"
  }
 },
 "nbformat": 4,
 "nbformat_minor": 2
}
