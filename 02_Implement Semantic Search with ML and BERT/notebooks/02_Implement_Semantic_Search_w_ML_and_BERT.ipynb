{
  "nbformat": 4,
  "nbformat_minor": 0,
  "metadata": {
    "kernelspec": {
      "display_name": "Python 3",
      "name": "python3"
    },
    "language_info": {
      "name": "python"
    },
    "colab": {
      "name": "02_Implement_Semantic_Search_w_ML_and_BERT.ipynb",
      "provenance": [],
      "collapsed_sections": []
    }
  },
  "cells": [
    {
      "cell_type": "markdown",
      "metadata": {
        "id": "a2jji3LQ0LAp"
      },
      "source": [
        "# **Milestone 2:**\n",
        "Semantic Search with ML and BERT\n"
      ]
    },
    {
      "cell_type": "code",
      "source": [
        "!pip install faiss-cpu\n",
        "!pip install transformers\n",
        "!pip install -U sentence-transformers"
      ],
      "metadata": {
        "colab": {
          "base_uri": "https://localhost:8080/"
        },
        "id": "BIfNBiQ4cJQ-",
        "outputId": "dda8b173-ac5b-4893-d24d-17d3381be8a9"
      },
      "execution_count": 50,
      "outputs": [
        {
          "output_type": "stream",
          "name": "stdout",
          "text": [
            "Requirement already satisfied: faiss-cpu in /usr/local/lib/python3.7/dist-packages (1.7.1.post3)\n",
            "Requirement already satisfied: transformers in /usr/local/lib/python3.7/dist-packages (4.15.0)\n",
            "Requirement already satisfied: sacremoses in /usr/local/lib/python3.7/dist-packages (from transformers) (0.0.46)\n",
            "Requirement already satisfied: pyyaml>=5.1 in /usr/local/lib/python3.7/dist-packages (from transformers) (6.0)\n",
            "Requirement already satisfied: filelock in /usr/local/lib/python3.7/dist-packages (from transformers) (3.4.0)\n",
            "Requirement already satisfied: packaging>=20.0 in /usr/local/lib/python3.7/dist-packages (from transformers) (21.3)\n",
            "Requirement already satisfied: numpy>=1.17 in /usr/local/lib/python3.7/dist-packages (from transformers) (1.19.5)\n",
            "Requirement already satisfied: regex!=2019.12.17 in /usr/local/lib/python3.7/dist-packages (from transformers) (2019.12.20)\n",
            "Requirement already satisfied: tqdm>=4.27 in /usr/local/lib/python3.7/dist-packages (from transformers) (4.62.3)\n",
            "Requirement already satisfied: huggingface-hub<1.0,>=0.1.0 in /usr/local/lib/python3.7/dist-packages (from transformers) (0.2.1)\n",
            "Requirement already satisfied: requests in /usr/local/lib/python3.7/dist-packages (from transformers) (2.23.0)\n",
            "Requirement already satisfied: tokenizers<0.11,>=0.10.1 in /usr/local/lib/python3.7/dist-packages (from transformers) (0.10.3)\n",
            "Requirement already satisfied: importlib-metadata in /usr/local/lib/python3.7/dist-packages (from transformers) (4.8.2)\n",
            "Requirement already satisfied: typing-extensions>=3.7.4.3 in /usr/local/lib/python3.7/dist-packages (from huggingface-hub<1.0,>=0.1.0->transformers) (3.10.0.2)\n",
            "Requirement already satisfied: pyparsing!=3.0.5,>=2.0.2 in /usr/local/lib/python3.7/dist-packages (from packaging>=20.0->transformers) (3.0.6)\n",
            "Requirement already satisfied: zipp>=0.5 in /usr/local/lib/python3.7/dist-packages (from importlib-metadata->transformers) (3.6.0)\n",
            "Requirement already satisfied: idna<3,>=2.5 in /usr/local/lib/python3.7/dist-packages (from requests->transformers) (2.10)\n",
            "Requirement already satisfied: certifi>=2017.4.17 in /usr/local/lib/python3.7/dist-packages (from requests->transformers) (2021.10.8)\n",
            "Requirement already satisfied: chardet<4,>=3.0.2 in /usr/local/lib/python3.7/dist-packages (from requests->transformers) (3.0.4)\n",
            "Requirement already satisfied: urllib3!=1.25.0,!=1.25.1,<1.26,>=1.21.1 in /usr/local/lib/python3.7/dist-packages (from requests->transformers) (1.24.3)\n",
            "Requirement already satisfied: click in /usr/local/lib/python3.7/dist-packages (from sacremoses->transformers) (7.1.2)\n",
            "Requirement already satisfied: six in /usr/local/lib/python3.7/dist-packages (from sacremoses->transformers) (1.15.0)\n",
            "Requirement already satisfied: joblib in /usr/local/lib/python3.7/dist-packages (from sacremoses->transformers) (1.1.0)\n",
            "Requirement already satisfied: sentence-transformers in /usr/local/lib/python3.7/dist-packages (2.1.0)\n",
            "Requirement already satisfied: scipy in /usr/local/lib/python3.7/dist-packages (from sentence-transformers) (1.4.1)\n",
            "Requirement already satisfied: nltk in /usr/local/lib/python3.7/dist-packages (from sentence-transformers) (3.2.5)\n",
            "Requirement already satisfied: tokenizers>=0.10.3 in /usr/local/lib/python3.7/dist-packages (from sentence-transformers) (0.10.3)\n",
            "Requirement already satisfied: tqdm in /usr/local/lib/python3.7/dist-packages (from sentence-transformers) (4.62.3)\n",
            "Requirement already satisfied: torchvision in /usr/local/lib/python3.7/dist-packages (from sentence-transformers) (0.11.1+cu111)\n",
            "Requirement already satisfied: scikit-learn in /usr/local/lib/python3.7/dist-packages (from sentence-transformers) (1.0.1)\n",
            "Requirement already satisfied: huggingface-hub in /usr/local/lib/python3.7/dist-packages (from sentence-transformers) (0.2.1)\n",
            "Requirement already satisfied: numpy in /usr/local/lib/python3.7/dist-packages (from sentence-transformers) (1.19.5)\n",
            "Requirement already satisfied: transformers<5.0.0,>=4.6.0 in /usr/local/lib/python3.7/dist-packages (from sentence-transformers) (4.15.0)\n",
            "Requirement already satisfied: torch>=1.6.0 in /usr/local/lib/python3.7/dist-packages (from sentence-transformers) (1.10.0+cu111)\n",
            "Requirement already satisfied: sentencepiece in /usr/local/lib/python3.7/dist-packages (from sentence-transformers) (0.1.96)\n",
            "Requirement already satisfied: typing-extensions in /usr/local/lib/python3.7/dist-packages (from torch>=1.6.0->sentence-transformers) (3.10.0.2)\n",
            "Requirement already satisfied: packaging>=20.0 in /usr/local/lib/python3.7/dist-packages (from transformers<5.0.0,>=4.6.0->sentence-transformers) (21.3)\n",
            "Requirement already satisfied: importlib-metadata in /usr/local/lib/python3.7/dist-packages (from transformers<5.0.0,>=4.6.0->sentence-transformers) (4.8.2)\n",
            "Requirement already satisfied: regex!=2019.12.17 in /usr/local/lib/python3.7/dist-packages (from transformers<5.0.0,>=4.6.0->sentence-transformers) (2019.12.20)\n",
            "Requirement already satisfied: sacremoses in /usr/local/lib/python3.7/dist-packages (from transformers<5.0.0,>=4.6.0->sentence-transformers) (0.0.46)\n",
            "Requirement already satisfied: pyyaml>=5.1 in /usr/local/lib/python3.7/dist-packages (from transformers<5.0.0,>=4.6.0->sentence-transformers) (6.0)\n",
            "Requirement already satisfied: requests in /usr/local/lib/python3.7/dist-packages (from transformers<5.0.0,>=4.6.0->sentence-transformers) (2.23.0)\n",
            "Requirement already satisfied: filelock in /usr/local/lib/python3.7/dist-packages (from transformers<5.0.0,>=4.6.0->sentence-transformers) (3.4.0)\n",
            "Requirement already satisfied: pyparsing!=3.0.5,>=2.0.2 in /usr/local/lib/python3.7/dist-packages (from packaging>=20.0->transformers<5.0.0,>=4.6.0->sentence-transformers) (3.0.6)\n",
            "Requirement already satisfied: zipp>=0.5 in /usr/local/lib/python3.7/dist-packages (from importlib-metadata->transformers<5.0.0,>=4.6.0->sentence-transformers) (3.6.0)\n",
            "Requirement already satisfied: six in /usr/local/lib/python3.7/dist-packages (from nltk->sentence-transformers) (1.15.0)\n",
            "Requirement already satisfied: idna<3,>=2.5 in /usr/local/lib/python3.7/dist-packages (from requests->transformers<5.0.0,>=4.6.0->sentence-transformers) (2.10)\n",
            "Requirement already satisfied: urllib3!=1.25.0,!=1.25.1,<1.26,>=1.21.1 in /usr/local/lib/python3.7/dist-packages (from requests->transformers<5.0.0,>=4.6.0->sentence-transformers) (1.24.3)\n",
            "Requirement already satisfied: chardet<4,>=3.0.2 in /usr/local/lib/python3.7/dist-packages (from requests->transformers<5.0.0,>=4.6.0->sentence-transformers) (3.0.4)\n",
            "Requirement already satisfied: certifi>=2017.4.17 in /usr/local/lib/python3.7/dist-packages (from requests->transformers<5.0.0,>=4.6.0->sentence-transformers) (2021.10.8)\n",
            "Requirement already satisfied: joblib in /usr/local/lib/python3.7/dist-packages (from sacremoses->transformers<5.0.0,>=4.6.0->sentence-transformers) (1.1.0)\n",
            "Requirement already satisfied: click in /usr/local/lib/python3.7/dist-packages (from sacremoses->transformers<5.0.0,>=4.6.0->sentence-transformers) (7.1.2)\n",
            "Requirement already satisfied: threadpoolctl>=2.0.0 in /usr/local/lib/python3.7/dist-packages (from scikit-learn->sentence-transformers) (3.0.0)\n",
            "Requirement already satisfied: pillow!=8.3.0,>=5.3.0 in /usr/local/lib/python3.7/dist-packages (from torchvision->sentence-transformers) (7.1.2)\n"
          ]
        }
      ]
    },
    {
      "cell_type": "markdown",
      "metadata": {
        "id": "OCZ64HgIoKrE"
      },
      "source": [
        "### **Setting up the environment**"
      ]
    },
    {
      "cell_type": "code",
      "metadata": {
        "id": "vC5NiKQsnE0X",
        "colab": {
          "base_uri": "https://localhost:8080/"
        },
        "outputId": "8c02823c-5b89-4082-cfc6-5aa061d20543"
      },
      "source": [
        "from google.colab import drive\n",
        "drive.mount('/content/drive', force_remount=True)"
      ],
      "execution_count": 1,
      "outputs": [
        {
          "output_type": "stream",
          "name": "stdout",
          "text": [
            "Mounted at /content/drive\n"
          ]
        }
      ]
    },
    {
      "cell_type": "markdown",
      "metadata": {
        "id": "nDLDjeBwrxDk"
      },
      "source": [
        "###**Importing the required modules**"
      ]
    },
    {
      "cell_type": "code",
      "metadata": {
        "id": "KF2VkBMxzqmr"
      },
      "source": [
        "# import libraries\n",
        "import json\n",
        "import torch\n",
        "import numpy as np\n",
        "import faiss\n",
        "from transformers import AutoModel, AutoTokenizer\n",
        "from sentence_transformers import SentenceTransformer, util\n",
        "from pprint import pprint"
      ],
      "execution_count": 2,
      "outputs": []
    },
    {
      "cell_type": "markdown",
      "source": [
        "### **BERT**"
      ],
      "metadata": {
        "id": "xoKJOkMF3OLp"
      }
    },
    {
      "cell_type": "markdown",
      "metadata": {
        "id": "Ou6WJYn28B_B"
      },
      "source": [
        "#### **Getting the data**"
      ]
    },
    {
      "cell_type": "code",
      "metadata": {
        "id": "dVzHTT4Y8YBx"
      },
      "source": [
        "DATA_DIR = '/content/drive/MyDrive/SearchToolwNLP/02_Implement Semantic Search with ML and BERT/data/'"
      ],
      "execution_count": 3,
      "outputs": []
    },
    {
      "cell_type": "code",
      "metadata": {
        "scrolled": true,
        "id": "Jlya41XkXNSj"
      },
      "source": [
        "# load the json file\n",
        "with open(DATA_DIR + 'data_01.json', 'r') as outfile:\n",
        "    sentences = json.load(outfile)"
      ],
      "execution_count": 4,
      "outputs": []
    },
    {
      "cell_type": "code",
      "source": [
        "# print sample sentences\n",
        "g = (s for s in sentences)\n",
        "[next(g) for i in range(2)]"
      ],
      "metadata": {
        "colab": {
          "base_uri": "https://localhost:8080/"
        },
        "id": "ge-pmp01t_ax",
        "outputId": "4e8a6b26-5109-4a77-fdc5-3e89a8c1d5b4"
      },
      "execution_count": 5,
      "outputs": [
        {
          "output_type": "execute_result",
          "data": {
            "text/plain": [
              "['A pandemic is an epidemic of an infectious disease that has spread across a large region, for instance multiple continents or worldwide, affecting a substantial number of people.',\n",
              " 'The most fatal pandemic in recorded history was the Black Death (also known as The Plague), which killed an estimated 75–200 million people in the 14th century.']"
            ]
          },
          "metadata": {},
          "execution_count": 5
        }
      ]
    },
    {
      "cell_type": "code",
      "source": [
        "print(len(sentences))"
      ],
      "metadata": {
        "colab": {
          "base_uri": "https://localhost:8080/"
        },
        "id": "hop1XvWc1mow",
        "outputId": "75a37ff6-6d20-42b9-cd92-13b48bcb4bb7"
      },
      "execution_count": 6,
      "outputs": [
        {
          "output_type": "stream",
          "name": "stdout",
          "text": [
            "11\n"
          ]
        }
      ]
    },
    {
      "cell_type": "markdown",
      "metadata": {
        "id": "IF-hGN80XNSk"
      },
      "source": [
        "#### **Vectorizing the dataset**"
      ]
    },
    {
      "cell_type": "code",
      "metadata": {
        "colab": {
          "base_uri": "https://localhost:8080/"
        },
        "id": "IOFVl5wPtadG",
        "outputId": "1c4a1ab4-18d0-4cc3-c8d6-a5ababf92c23"
      },
      "source": [
        "# load the BERT tokenizer and model\n",
        "tokenizer = AutoTokenizer.from_pretrained(\"distilbert-base-uncased\")\n",
        "model = AutoModel.from_pretrained(\"distilbert-base-uncased\")"
      ],
      "execution_count": 7,
      "outputs": [
        {
          "output_type": "stream",
          "name": "stderr",
          "text": [
            "Some weights of the model checkpoint at distilbert-base-uncased were not used when initializing DistilBertModel: ['vocab_layer_norm.weight', 'vocab_transform.bias', 'vocab_transform.weight', 'vocab_layer_norm.bias', 'vocab_projector.weight', 'vocab_projector.bias']\n",
            "- This IS expected if you are initializing DistilBertModel from the checkpoint of a model trained on another task or with another architecture (e.g. initializing a BertForSequenceClassification model from a BertForPreTraining model).\n",
            "- This IS NOT expected if you are initializing DistilBertModel from the checkpoint of a model that you expect to be exactly identical (initializing a BertForSequenceClassification model from a BertForSequenceClassification model).\n"
          ]
        }
      ]
    },
    {
      "cell_type": "code",
      "metadata": {
        "id": "kSaJ7eiuvFC5"
      },
      "source": [
        "# function that vectorizes the text\n",
        "def encode(doc):\n",
        "  tokens = tokenizer(doc, return_tensors='pt')\n",
        "  emb = model(**tokens)[0].detach().squeeze()\n",
        "  return torch.mean(emb, dim=0)"
      ],
      "execution_count": 8,
      "outputs": []
    },
    {
      "cell_type": "code",
      "metadata": {
        "id": "zlrZ6cSidPlm"
      },
      "source": [
        "# vectorize the documents\n",
        "%%capture\n",
        "b_emb = [encode(d) for d in sentences]"
      ],
      "execution_count": 9,
      "outputs": []
    },
    {
      "cell_type": "code",
      "source": [
        "print(b_emb[0][:50])"
      ],
      "metadata": {
        "colab": {
          "base_uri": "https://localhost:8080/"
        },
        "id": "4BdKrfzDvknm",
        "outputId": "7f6e527e-2aff-4a82-d590-d7079b14da37"
      },
      "execution_count": 10,
      "outputs": [
        {
          "output_type": "stream",
          "name": "stdout",
          "text": [
            "tensor([ 0.0486,  0.0974, -0.0493, -0.2006,  0.2463, -0.2616,  0.2512,  0.9330,\n",
            "        -0.1771, -0.0981, -0.3161, -0.8144, -0.4257,  0.9705,  0.0080,  0.5728,\n",
            "         0.3163,  0.1127, -0.5386,  0.5193, -0.1393, -0.1869, -0.0203,  0.6890,\n",
            "         0.0840, -0.3651, -0.0831,  0.1566, -0.0449, -0.3126,  0.6875,  0.0942,\n",
            "        -0.1704, -0.1667, -0.0444,  0.2498, -0.0677, -0.2164, -0.2832,  0.0593,\n",
            "        -0.7061, -0.4712, -0.0615,  0.2580,  0.0127, -0.2020,  0.1321,  0.4225,\n",
            "        -0.0172,  0.2383])\n"
          ]
        }
      ]
    },
    {
      "cell_type": "markdown",
      "metadata": {
        "id": "dll9Km9zCx_r"
      },
      "source": [
        "#### **Building a faiss index**"
      ]
    },
    {
      "cell_type": "code",
      "metadata": {
        "id": "R5psHLOkCx_s"
      },
      "source": [
        "# create a flat faiss index for the BERT model\n",
        "index_b = faiss.IndexIDMap(faiss.IndexFlatIP(768))\n",
        "# add the vectors into the index\n",
        "index_b.add_with_ids(np.array([e.numpy() for e in b_emb]), # convert to numpy array\n",
        "                   np.array(range(0, len(sentences)))) # IDs from 0 to len(sentences)"
      ],
      "execution_count": 11,
      "outputs": []
    },
    {
      "cell_type": "markdown",
      "metadata": {
        "id": "vo8J7LN6Cx_s"
      },
      "source": [
        "#### **Searching the index**"
      ]
    },
    {
      "cell_type": "code",
      "metadata": {
        "id": "zHuePAYBCx_s"
      },
      "source": [
        "# function to search faiss\n",
        "def search_b(query, k=5):\n",
        "  query_encoded = encode(query).unsqueeze(dim=0).numpy()\n",
        "  top_k = index_b.search(query_encoded, k)\n",
        "  scores = top_k[0][0]\n",
        "  results = [sentences[_id] for _id in top_k[1][0]]\n",
        "  return list(zip(results, scores))"
      ],
      "execution_count": 12,
      "outputs": []
    },
    {
      "cell_type": "code",
      "source": [
        "# test a query\n",
        "pprint(search_b(\"how many people died from black death?\", k=5))"
      ],
      "metadata": {
        "colab": {
          "base_uri": "https://localhost:8080/"
        },
        "outputId": "1a6a4e37-eae3-4e3e-9f1b-2e1ba21bb9c7",
        "id": "xOCKbA3sCx_s"
      },
      "execution_count": 13,
      "outputs": [
        {
          "output_type": "stream",
          "name": "stdout",
          "text": [
            "[('As of 2018, approximately 37.9 million people are infected with HIV '\n",
            "  'globally.',\n",
            "  53.436695),\n",
            " ('A pandemic is an epidemic of an infectious disease that has spread across a '\n",
            "  'large region, for instance multiple continents or worldwide, affecting a '\n",
            "  'substantial number of people.',\n",
            "  51.632618),\n",
            " ('The death toll of Spanish Flu is estimated to have been somewhere between '\n",
            "  '17 million and 50 million, and possibly as high as 100 million, making it '\n",
            "  'one of the deadliest pandemics in human history.',\n",
            "  51.374493),\n",
            " ('The most fatal pandemic in recorded history was the Black Death (also known '\n",
            "  'as The Plague), which killed an estimated 75–200 million people in the 14th '\n",
            "  'century.',\n",
            "  50.724808),\n",
            " ('The Spanish flu, also known as the 1918 flu pandemic, was an unusually '\n",
            "  'deadly influenza pandemic caused by the H1N1 influenza A virus.',\n",
            "  48.253498)]\n"
          ]
        }
      ]
    },
    {
      "cell_type": "markdown",
      "source": [
        "### **Sentence BERT**"
      ],
      "metadata": {
        "id": "KGxQnqRD4KUu"
      }
    },
    {
      "cell_type": "markdown",
      "metadata": {
        "id": "8Ef3LUbG7LL7"
      },
      "source": [
        "#### **Getting the data**"
      ]
    },
    {
      "cell_type": "code",
      "metadata": {
        "id": "qQD748_y7LL7"
      },
      "source": [
        "DATA_DIR = '/content/drive/MyDrive/SearchToolwNLP/02_Implement Semantic Search with ML and BERT/data/'"
      ],
      "execution_count": 15,
      "outputs": []
    },
    {
      "cell_type": "code",
      "metadata": {
        "scrolled": true,
        "id": "vGv1zy1C7LL7"
      },
      "source": [
        "# load the json file\n",
        "with open(DATA_DIR + 'data_02.json', 'r') as outfile:\n",
        "    documents = json.load(outfile)"
      ],
      "execution_count": 14,
      "outputs": []
    },
    {
      "cell_type": "code",
      "source": [
        "# print sample documents\n",
        "gg = (d for d in documents)\n",
        "[next(gg) for i in range(2)]"
      ],
      "metadata": {
        "colab": {
          "base_uri": "https://localhost:8080/"
        },
        "outputId": "508a79ab-d18f-43c1-a6b8-4c369de6e667",
        "id": "Dx5vsqZS7LL8"
      },
      "execution_count": 15,
      "outputs": [
        {
          "output_type": "execute_result",
          "data": {
            "text/plain": [
              "[{'text': 'A pandemic (from Greek πᾶν, pan, \"all\" and δῆμος, demos, \"people\") is an epidemic of an infectious disease that has spread across a large region, for instance multiple continents or worldwide, affecting a substantial number of people. A widespread endemic disease with a stable number of infected people is not a pandemic. Widespread endemic diseases with a stable number of infected people such as recurrences of seasonal influenza are generally excluded as they occur simultaneously in large regions of the globe rather than being spread worldwide.\\nThroughout human history, there have been a number of pandemics of diseases such as smallpox and tuberculosis. The most fatal pandemic in recorded history was the Black Death (also known as The Plague), which killed an estimated 75–200 million people in the 14th century. The term was not used yet but was for later pandemics including the 1918 influenza pandemic (Spanish flu). Current pandemics include COVID-19 (SARS-CoV-2) and HIV/AIDS.',\n",
              "  'title': 'Pandemic',\n",
              "  'url': 'https://en.wikipedia.org/wiki/Pandemic'},\n",
              " {'text': 'HIV/AIDS, or Human Immunodeficiency Virus, is considered by some authors a global pandemic. However, the WHO currently uses the term \\'global epidemic\\' to describe HIV. As of 2018, approximately 37.9 million people are infected with HIV globally.There were about 770,000 deaths from AIDS in 2018.The 2015 Global Burden of Disease Study, in a report published in The Lancet, estimated that the global incidence of HIV infection peaked in 1997 at 3.3 million per year. Global incidence fell rapidly from 1997 to 2005, to about 2.6 million per year, but remained stable from 2005 to 2015.Sub-Saharan Africa is the region most affected. In 2018, an estimated 61% of new HIV infections occurred in this region. Prevalence ratios are \"In western and central Europe and North America, low and declining incidence of HIV and mortality among people infected with HIV over the last 17 years has seen the incidence:prevalence ratio fall from 0.06 in 2000 to 0.03 in 2017. Strong and steady reductions in new HIV infections and mortality among people infected with HIV in eastern and southern Africa has pushed the ratio down from 0.11 in 2000 to 0.04 in 2017. Progress has been more gradual in Asia and the Pacific (0.05 in 2017), Latin America (0.06 in 2017), the Caribbean (0.05 in 2017) and western and central Africa (0.06 in 2017). The incidence:prevalence ratios of the Middle East and North Africa (0.08 in 2017) and eastern Europe and central Asia (0.09 in 2017)\". South Africa has the largest population of people with HIV of any country in the world, at 7.06 million  as of 2017. In Tanzania, HIV/AIDS was reported to have a prevalence of 4.5% among Tanzanian adults aged 15–49 in 2017.South & South-East Asia (a region with about 2 billion people as of 2010, over 30% of the global population) has an estimated 4 million cases (12% of all people infected with HIV), with about 250,000 deaths in 2010. Approximately 2.5 million of these cases are in India, where however the prevalence is only about 0.3% (somewhat higher than that found in Western and Central Europe or Canada). Prevalence is lowest in East Asia at 0.1%.In 2017, approximately 1 million people in the United States had HIV; 14% did not realize that they were infected.In 2017, 93,385 people (64,472 men and 28,877 women) living with diagnosed HIV infection received HIV care in the UK and 428 deaths. 42,739 (nearly 50%) of those are gay or bisexual, a small segment of the overall population. \\nIn Australia, as of 2017, there were about 27,545 cases. \\nIn Canada as of 2016, there were about 63,110 cases.A reconstruction of its genetic history shows that the HIV pandemic almost certainly originated in Kinshasa, the capital of the Democratic Republic of the Congo, around 1920. AIDS was first recognized in 1981, in 1983 the HIV virus was discovered and identified as the cause of AIDS, and by 2009 AIDS caused nearly 30 million deaths.',\n",
              "  'title': 'Epidemiology of HIV/AIDS',\n",
              "  'url': 'https://en.wikipedia.org/wiki/Epidemiology_of_HIV/AIDS'}]"
            ]
          },
          "metadata": {},
          "execution_count": 15
        }
      ]
    },
    {
      "cell_type": "code",
      "source": [
        "print(len(documents))"
      ],
      "metadata": {
        "colab": {
          "base_uri": "https://localhost:8080/"
        },
        "outputId": "38994241-bcae-440e-8f0a-1d26df826f5b",
        "id": "zv7uULFI7LL8"
      },
      "execution_count": 16,
      "outputs": [
        {
          "output_type": "stream",
          "name": "stdout",
          "text": [
            "26\n"
          ]
        }
      ]
    },
    {
      "cell_type": "markdown",
      "metadata": {
        "id": "F6LSNkVL4KU0"
      },
      "source": [
        "#### **Vectorizing the dataset**"
      ]
    },
    {
      "cell_type": "code",
      "metadata": {
        "id": "JGRfbqJx4KU0"
      },
      "source": [
        "# load the SBERT model\n",
        "# 'distilbert-base-nli-stsb-mean-tokens' performs great in semantic textual similarity tasks and it's quite faster than BERT as it is considerably smaller\n",
        "sb_model = SentenceTransformer(\"distilbert-base-nli-stsb-mean-tokens\")"
      ],
      "execution_count": 17,
      "outputs": []
    },
    {
      "cell_type": "code",
      "metadata": {
        "id": "jyKB13eZ4KU1"
      },
      "source": [
        "# vectorize the documents\n",
        "%%capture\n",
        "sb_emb = sb_model.encode([d['text'] for d in documents], convert_to_tensor=True)"
      ],
      "execution_count": 18,
      "outputs": []
    },
    {
      "cell_type": "code",
      "source": [
        "print(sb_emb[0][:50])"
      ],
      "metadata": {
        "colab": {
          "base_uri": "https://localhost:8080/"
        },
        "outputId": "63b9fb44-1ee3-4835-fe24-28f05483f407",
        "id": "SsFxbI6Q4KU1"
      },
      "execution_count": 19,
      "outputs": [
        {
          "output_type": "stream",
          "name": "stdout",
          "text": [
            "tensor([ 0.2995, -0.7021, -0.4336, -0.0191, -0.2439,  0.5708,  0.0871, -0.3716,\n",
            "        -0.1410, -1.0819,  0.1625, -0.3774, -1.0932,  0.3509,  0.5480,  0.0126,\n",
            "         0.7217,  0.2254, -0.4995,  0.1995, -0.4766,  0.1005,  0.2127,  0.2675,\n",
            "        -1.4378, -0.0797,  0.2499, -0.0476,  1.0231, -0.5252,  0.4197,  0.3438,\n",
            "        -0.1554, -0.9829, -0.4632, -0.1334, -0.1556,  0.7530,  0.1263,  0.1310,\n",
            "         0.0292, -0.6407, -0.0671, -0.3750,  0.1365,  0.4260, -0.4883,  0.6365,\n",
            "        -0.2857,  0.2323])\n"
          ]
        }
      ]
    },
    {
      "cell_type": "markdown",
      "metadata": {
        "id": "owXXULdKqSaz"
      },
      "source": [
        "### **Building a faiss index**"
      ]
    },
    {
      "cell_type": "code",
      "metadata": {
        "id": "iLivFG1vXNSl"
      },
      "source": [
        "# create a flat faiss index for the SBERT model\n",
        "index_sb = faiss.IndexIDMap(faiss.IndexFlatIP(768))\n",
        "# add the vectors into the index\n",
        "index_sb.add_with_ids(np.array([e.numpy() for e in sb_emb]), # convert to numpy array\n",
        "                   np.array(range(0, len(documents)))) # IDs from 0 to len(documents)"
      ],
      "execution_count": 20,
      "outputs": []
    },
    {
      "cell_type": "markdown",
      "metadata": {
        "id": "QTuUsyFAwSHh"
      },
      "source": [
        "### **Searching the index**"
      ]
    },
    {
      "cell_type": "code",
      "metadata": {
        "id": "jwCvC-1dXNSo"
      },
      "source": [
        "# function to search faiss\n",
        "def search_sb(query, k=5):\n",
        "  query_encoded = sb_model.encode([query])\n",
        "  top_k = index_sb.search(query_encoded, k)\n",
        "  scores = top_k[0][0]\n",
        "  results = [documents[_id] for _id in top_k[1][0]]\n",
        "  return list(zip(results, scores))"
      ],
      "execution_count": 21,
      "outputs": []
    },
    {
      "cell_type": "code",
      "source": [
        "# test a query\n",
        "pprint(search_sb(\"how many people died from black death?\", k=5))"
      ],
      "metadata": {
        "colab": {
          "base_uri": "https://localhost:8080/"
        },
        "id": "KjLATpuo0uVv",
        "outputId": "fe6b3438-9015-4441-d0ef-502a0b3ca0d4"
      },
      "execution_count": 22,
      "outputs": [
        {
          "output_type": "stream",
          "name": "stdout",
          "text": [
            "[({'text': 'A pandemic (from Greek πᾶν, pan, \"all\" and δῆμος, demos, \"people\") '\n",
            "           'is an epidemic of an infectious disease that has spread across a '\n",
            "           'large region, for instance multiple continents or worldwide, '\n",
            "           'affecting a substantial number of people. A widespread endemic '\n",
            "           'disease with a stable number of infected people is not a pandemic. '\n",
            "           'Widespread endemic diseases with a stable number of infected '\n",
            "           'people such as recurrences of seasonal influenza are generally '\n",
            "           'excluded as they occur simultaneously in large regions of the '\n",
            "           'globe rather than being spread worldwide.\\n'\n",
            "           'Throughout human history, there have been a number of pandemics of '\n",
            "           'diseases such as smallpox and tuberculosis. The most fatal '\n",
            "           'pandemic in recorded history was the Black Death (also known as '\n",
            "           'The Plague), which killed an estimated 75–200 million people in '\n",
            "           'the 14th century. The term was not used yet but was for later '\n",
            "           'pandemics including the 1918 influenza pandemic (Spanish flu). '\n",
            "           'Current pandemics include COVID-19 (SARS-CoV-2) and HIV/AIDS.',\n",
            "   'title': 'Pandemic',\n",
            "   'url': 'https://en.wikipedia.org/wiki/Pandemic'},\n",
            "  42.197643),\n",
            " ({'text': 'The Spanish flu, also known as the 1918 flu pandemic, was an '\n",
            "           'unusually deadly influenza pandemic caused by the H1N1 influenza A '\n",
            "           'virus. Lasting from February 1918 to April 1920, it infected 500 '\n",
            "           \"million people – about a third of the world's population at the \"\n",
            "           'time – in four successive waves. The death toll is typically '\n",
            "           'estimated to have been somewhere between 17 million and 50 '\n",
            "           'million, and possibly as high as 100 million, making it one of the '\n",
            "           'deadliest pandemics in human history.The first observations of '\n",
            "           'illness and mortality were documented in the United States (in '\n",
            "           'Fort Riley, Haskell County, Kansas as well as in New York City), '\n",
            "           'France (Brest), Germany and the United Kingdom. To maintain '\n",
            "           'morale, World War I censors minimized these early reports. '\n",
            "           \"Newspapers were free to report the epidemic's effects in neutral \"\n",
            "           'Spain, such as the grave illness of King Alfonso XIII, and these '\n",
            "           'stories created a false impression of Spain as especially hard '\n",
            "           'hit. This gave rise to the name \"Spanish\" flu. Historical and '\n",
            "           'epidemiological data are inadequate to identify with certainty the '\n",
            "           \"pandemic's geographic origin, with varying views as to its \"\n",
            "           'location.\\n'\n",
            "           'Most influenza outbreaks disproportionately kill the very young '\n",
            "           'and the very old, with a higher survival rate for those in '\n",
            "           'between, but the Spanish flu pandemic resulted in a '\n",
            "           'higher-than-expected mortality rate for young adults. Scientists '\n",
            "           'offer several possible explanations for the high mortality rate of '\n",
            "           'the 1918 influenza pandemic. Some analyses have shown the virus to '\n",
            "           'be particularly deadly because it triggers a cytokine storm, which '\n",
            "           'ravages the stronger immune system of young adults. In contrast, a '\n",
            "           '2007 analysis of medical journals from the period of the pandemic '\n",
            "           'found that the viral infection was no more aggressive than '\n",
            "           'previous influenza strains. Instead, malnourishment, overcrowded '\n",
            "           'medical camps and hospitals, and poor hygiene, all exacerbated by '\n",
            "           'the recent war, promoted bacterial superinfection. This '\n",
            "           'superinfection killed most of the victims, typically after a '\n",
            "           'somewhat prolonged death bed.The 1918 Spanish flu was the first of '\n",
            "           'two pandemics caused by H1N1 influenza A virus; the second was the '\n",
            "           '2009 swine flu pandemic.',\n",
            "   'title': 'Spanish flu',\n",
            "   'url': 'https://en.wikipedia.org/wiki/Spanish_flu'},\n",
            "  40.847942),\n",
            " ({'text': 'Pandemic prevention is the organization and management of '\n",
            "           'preventive measures against pandemics. Those include measures to '\n",
            "           'reduce causes of new infectious diseases and measures to prevent '\n",
            "           'outbreaks and epidemics from becoming pandemics.\\n'\n",
            "           'It is not to be mistaken for pandemic preparedness or pandemic '\n",
            "           'mitigation which largely seek to mitigate the magnitude of '\n",
            "           'negative effects of pandemics and may overlap with pandemic '\n",
            "           'prevention in some respects.',\n",
            "   'title': 'Pandemic prevention',\n",
            "   'url': 'https://en.wikipedia.org/wiki/Pandemic_prevention'},\n",
            "  39.416725),\n",
            " ({'text': 'Human immunodeficiency virus infection and acquired immune '\n",
            "           'deficiency syndrome (HIV/AIDS) is a spectrum of conditions caused '\n",
            "           'by infection with the human immunodeficiency virus (HIV). '\n",
            "           'Following initial infection a person may not notice any symptoms, '\n",
            "           'or may experience a brief period of influenza-like illness. '\n",
            "           'Typically, this is followed by a prolonged period with no '\n",
            "           'symptoms. If the infection progresses, it interferes more with the '\n",
            "           'immune system, increasing the risk of developing common infections '\n",
            "           'such as tuberculosis, as well as other opportunistic infections, '\n",
            "           'and tumors which are otherwise rare in people who have normal '\n",
            "           'immune function. These late symptoms of infection are referred to '\n",
            "           'as acquired immunodeficiency syndrome (AIDS). This stage is often '\n",
            "           'also associated with unintended weight loss.HIV is spread '\n",
            "           'primarily by unprotected sex (including anal and oral sex), '\n",
            "           'contaminated blood transfusions, hypodermic needles, and from '\n",
            "           'mother to child during pregnancy, delivery, or breastfeeding. Some '\n",
            "           'bodily fluids, such as saliva, sweat and tears, do not transmit '\n",
            "           'the virus. HIV is a member of the group of viruses known as '\n",
            "           'retroviruses.Methods of prevention include safe sex, needle '\n",
            "           'exchange programs, treating those who are infected, and pre- & '\n",
            "           'post-exposure prophylaxis. Disease in a baby can often be '\n",
            "           'prevented by giving both the mother and child antiretroviral '\n",
            "           'medication. There is no cure or vaccine; however, antiretroviral '\n",
            "           'treatment can slow the course of the disease and may lead to a '\n",
            "           'near-normal life expectancy. Treatment is recommended as soon as '\n",
            "           'the diagnosis is made. Without treatment, the average survival '\n",
            "           'time after infection is 11 years.In 2018, about 37.9 million '\n",
            "           'people were living with HIV and it resulted in 770,000 deaths. An '\n",
            "           'estimated 20.6 million of these live in eastern and southern '\n",
            "           'Africa. Between the time that AIDS was identified (in the early '\n",
            "           '1980s) and 2018, the disease caused an estimated 32 million deaths '\n",
            "           'worldwide. HIV/AIDS is considered a pandemic—a disease outbreak '\n",
            "           'which is present over a large area and is actively spreading.HIV '\n",
            "           'made the jump from other primates to humans in west-central Africa '\n",
            "           'in the early-to-mid 20th century. AIDS was first recognized by the '\n",
            "           'United States Centers for Disease Control and Prevention (CDC) in '\n",
            "           '1981 and its cause—HIV infection—was identified in the early part '\n",
            "           'of the decade.\\n'\n",
            "           'HIV/AIDS has had a large impact on society, both as an illness and '\n",
            "           'as a source of discrimination. The disease also has large economic '\n",
            "           'impacts. There are many misconceptions about HIV/AIDS, such as the '\n",
            "           'belief that it can be transmitted by casual non-sexual contact. '\n",
            "           'The disease has become subject to many controversies involving '\n",
            "           \"religion, including the Catholic Church's position not to support \"\n",
            "           'condom use as prevention. It has attracted international medical '\n",
            "           'and political attention as well as large-scale funding since it '\n",
            "           'was identified in the 1980s.',\n",
            "   'title': 'HIV/AIDS',\n",
            "   'url': 'https://en.wikipedia.org/wiki/HIV/AIDS'},\n",
            "  38.646893),\n",
            " ({'text': 'The 1929–1930 psittacosis pandemic, also known as the psittacosis '\n",
            "           'outbreak of 1929–1930 and the great parrot fever pandemic, was a '\n",
            "           'series of simultaneous outbreaks of psittacosis (parrot fever) '\n",
            "           'which, accelerated by the breeding and transportation of birds in '\n",
            "           'crowded containers for the purpose of trade, was initially seen to '\n",
            "           'have its origin in parrots from South America. It was shortly '\n",
            "           'found to have spread from several species of birds from several '\n",
            "           'countries worldwide to humans between mid 1929 and early 1930. '\n",
            "           'Diagnosed by its clinical features and link to birds, it affected '\n",
            "           'around 750 to 800 people globally, with a mortality of 15%. Its '\n",
            "           'mode of transmission to humans by mouth-to-beak contact or '\n",
            "           'inhaling dried bird secretions and droppings was not known at the '\n",
            "           'time. The cause, Chlamydia psittaci, which usually remains dormant '\n",
            "           'in birds until activated by stress of capture and confinement, was '\n",
            "           'discovered after the pandemic.\\n'\n",
            "           'Cases were reported in mid 1929, in Birmingham, United Kingdom, '\n",
            "           'and linked to parrots from Buenos Aires, Argentina, where an '\n",
            "           'ongoing outbreak of the disease had led to cautioning bird owners '\n",
            "           'to declare their sick parrots. The origin of the outbreak in the '\n",
            "           'Argentine city of Córdoba was traced to an import of 5,000 parrots '\n",
            "           'from Brazil. Although the Argentine parrot trade was stopped, a '\n",
            "           'number of birds were illegally sold on to visitors to its '\n",
            "           'seaports, with the consequence that psittacosis was transmitted to '\n",
            "           'several countries.\\n'\n",
            "           'In November 1929, reports of cases among an Argentine theatrical '\n",
            "           'group in Córdoba made it into the local press. In January 1930, '\n",
            "           'when cases of an atypical pneumonia in one family, with the death '\n",
            "           'of their parrot, appeared in Maryland, United States, a link was '\n",
            "           'made to the story of the theatrical group, and \"parrot fever\" made '\n",
            "           'headlines in the American press. Following further cases, bans on '\n",
            "           'parrot trades were implemented, and subsequently cases were '\n",
            "           'reported in several other countries, including Germany, France and '\n",
            "           'Australia. The origin was understood to have been the importation '\n",
            "           'of green Amazon parrots from South America. Later, the principal '\n",
            "           'source of the disease in the U.S. was domestic lovebirds raised in '\n",
            "           'Californian aviaries, and sold to mainly housewives and widows.\\n'\n",
            "           'The impact of the outbreak on the U.S. Hygienic Laboratory, with '\n",
            "           '16 of its workers affected, including two deaths, led to the '\n",
            "           'formation of the National Institute of Health.',\n",
            "   'title': '1929–1930 psittacosis pandemic',\n",
            "   'url': 'https://en.wikipedia.org/wiki/1929%E2%80%931930_psittacosis_pandemic'},\n",
            "  34.90028)]\n"
          ]
        }
      ]
    }
  ]
}