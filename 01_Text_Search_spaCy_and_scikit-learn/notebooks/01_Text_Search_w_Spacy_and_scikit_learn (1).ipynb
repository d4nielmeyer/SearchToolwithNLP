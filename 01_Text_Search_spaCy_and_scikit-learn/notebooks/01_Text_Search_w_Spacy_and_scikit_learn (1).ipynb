{
  "nbformat": 4,
  "nbformat_minor": 0,
  "metadata": {
    "kernelspec": {
      "display_name": "searchenv",
      "language": "python",
      "name": "searchenv"
    },
    "language_info": {
      "codemirror_mode": {
        "name": "ipython",
        "version": 3
      },
      "file_extension": ".py",
      "mimetype": "text/x-python",
      "name": "python",
      "nbconvert_exporter": "python",
      "pygments_lexer": "ipython3",
      "version": "3.6.11"
    },
    "colab": {
      "name": "01 Text Search w/ Spacy and scikit-learn.ipynb",
      "provenance": [],
      "collapsed_sections": []
    }
  },
  "cells": [
    {
      "cell_type": "markdown",
      "metadata": {
        "id": "a2jji3LQ0LAp"
      },
      "source": [
        "# **Milestone 1:**\n",
        "Text Search using Spacy and Scikit-Learn\n"
      ]
    },
    {
      "cell_type": "markdown",
      "metadata": {
        "id": "OCZ64HgIoKrE"
      },
      "source": [
        "### **Setting up the environment**"
      ]
    },
    {
      "cell_type": "code",
      "metadata": {
        "id": "vC5NiKQsnE0X",
        "colab": {
          "base_uri": "https://localhost:8080/"
        },
        "outputId": "0462a27f-6077-4990-9dea-2065130b83e3"
      },
      "source": [
        "from google.colab import drive\n",
        "drive.mount('/content/drive', force_remount=True)"
      ],
      "execution_count": 1,
      "outputs": [
        {
          "output_type": "stream",
          "name": "stdout",
          "text": [
            "Mounted at /content/drive\n"
          ]
        }
      ]
    },
    {
      "cell_type": "markdown",
      "metadata": {
        "id": "nDLDjeBwrxDk"
      },
      "source": [
        "###**Importing the required modules**"
      ]
    },
    {
      "cell_type": "code",
      "metadata": {
        "id": "KF2VkBMxzqmr"
      },
      "source": [
        "# import libraries\n",
        "from collections import Counter\n",
        "from collections import defaultdict\n",
        "import itertools\n",
        "import json\n",
        "import numpy as np\n",
        "from sklearn.feature_extraction.text import CountVectorizer\n",
        "from sklearn.feature_extraction.text import TfidfVectorizer\n",
        "from sklearn.metrics.pairwise import cosine_similarity\n",
        "import spacy"
      ],
      "execution_count": 2,
      "outputs": []
    },
    {
      "cell_type": "markdown",
      "metadata": {
        "id": "Ou6WJYn28B_B"
      },
      "source": [
        "### **Getting the data**"
      ]
    },
    {
      "cell_type": "code",
      "metadata": {
        "id": "dVzHTT4Y8YBx"
      },
      "source": [
        "DATA_DIR = '/content/drive/MyDrive/SearchToolwNLP/01_Text_Search_spaCy_and_scikit-learn/data/'"
      ],
      "execution_count": 3,
      "outputs": []
    },
    {
      "cell_type": "code",
      "metadata": {
        "id": "tPzUDFeDXNSj"
      },
      "source": [
        "# load a spacy language model\n",
        "nlp = spacy.load(\"en_core_web_sm\")"
      ],
      "execution_count": 4,
      "outputs": []
    },
    {
      "cell_type": "code",
      "metadata": {
        "scrolled": true,
        "id": "Jlya41XkXNSj"
      },
      "source": [
        "# load the json file\n",
        "with open(DATA_DIR + 'data.json', 'r') as outfile:\n",
        "    summaries = json.load(outfile)"
      ],
      "execution_count": 5,
      "outputs": []
    },
    {
      "cell_type": "markdown",
      "metadata": {
        "id": "IF-hGN80XNSk"
      },
      "source": [
        "### **Inspecting the dataset**"
      ]
    },
    {
      "cell_type": "code",
      "metadata": {
        "colab": {
          "base_uri": "https://localhost:8080/"
        },
        "id": "IOFVl5wPtadG",
        "outputId": "eb60ad78-1285-4eb5-ef69-9ce534fadd03"
      },
      "source": [
        "# len of the list\n",
        "print(f'The dataset comprises a list of {len(summaries)} dicts')"
      ],
      "execution_count": 6,
      "outputs": [
        {
          "output_type": "stream",
          "name": "stdout",
          "text": [
            "The dataset comprises a list of 26 dicts\n"
          ]
        }
      ]
    },
    {
      "cell_type": "code",
      "metadata": {
        "colab": {
          "base_uri": "https://localhost:8080/"
        },
        "id": "kSaJ7eiuvFC5",
        "outputId": "75588bc1-9a2c-48d5-abc5-61873e9964d2"
      },
      "source": [
        "# get the keys\n",
        "print(f'Each entry contains the following {summaries[0].keys()}')"
      ],
      "execution_count": 7,
      "outputs": [
        {
          "output_type": "stream",
          "name": "stdout",
          "text": [
            "Each entry contains the following dict_keys(['title', 'text', 'url'])\n"
          ]
        }
      ]
    },
    {
      "cell_type": "code",
      "metadata": {
        "colab": {
          "base_uri": "https://localhost:8080/"
        },
        "id": "zlrZ6cSidPlm",
        "outputId": "017605ba-df18-454c-c377-883057d6f92b"
      },
      "source": [
        "# print the first entry\n",
        "print(summaries[0]['title'])\n",
        "print('---')\n",
        "print(summaries[0]['text'])\n",
        "print('---')\n",
        "print(summaries[0]['url'])"
      ],
      "execution_count": 8,
      "outputs": [
        {
          "output_type": "stream",
          "name": "stdout",
          "text": [
            "Pandemic\n",
            "---\n",
            "A pandemic (from Greek πᾶν, pan, \"all\" and δῆμος, demos, \"people\") is an epidemic of an infectious disease that has spread across a large region, for instance multiple continents or worldwide, affecting a substantial number of people. A widespread endemic disease with a stable number of infected people is not a pandemic. Widespread endemic diseases with a stable number of infected people such as recurrences of seasonal influenza are generally excluded as they occur simultaneously in large regions of the globe rather than being spread worldwide.\n",
            "Throughout human history, there have been a number of pandemics of diseases such as smallpox and tuberculosis. The most fatal pandemic in recorded history was the Black Death (also known as The Plague), which killed an estimated 75–200 million people in the 14th century. The term was not used yet but was for later pandemics including the 1918 influenza pandemic (Spanish flu). Current pandemics include COVID-19 (SARS-CoV-2) and HIV/AIDS.\n",
            "---\n",
            "https://en.wikipedia.org/wiki/Pandemic\n"
          ]
        }
      ]
    },
    {
      "cell_type": "markdown",
      "metadata": {
        "id": "owXXULdKqSaz"
      },
      "source": [
        "### **Cleaning the dataset**"
      ]
    },
    {
      "cell_type": "code",
      "metadata": {
        "colab": {
          "base_uri": "https://localhost:8080/"
        },
        "id": "iLivFG1vXNSl",
        "outputId": "b7a4cdc7-999a-4e21-86b7-14cc06cc54b3"
      },
      "source": [
        "# get the text content\n",
        "text = summaries[0]['text']\n",
        "\n",
        "# create a doc object\n",
        "doc = nlp(text.lower())\n",
        "\n",
        "# explore the attributes of each token returned spacy\n",
        "print(doc[:20])\n",
        "print('--------------------------------')\n",
        "for token in doc[:5]:\n",
        "    print(token.text) \n",
        "    print(token.pos_) \n",
        "    print(token.dep_)\n",
        "    print('---')"
      ],
      "execution_count": 9,
      "outputs": [
        {
          "output_type": "stream",
          "name": "stdout",
          "text": [
            "a pandemic (from greek πᾶν, pan, \"all\" and δῆμος, demos, \"people\"\n",
            "--------------------------------\n",
            "a\n",
            "DET\n",
            "det\n",
            "---\n",
            "pandemic\n",
            "NOUN\n",
            "nsubj\n",
            "---\n",
            "(\n",
            "PUNCT\n",
            "punct\n",
            "---\n",
            "from\n",
            "ADP\n",
            "prep\n",
            "---\n",
            "greek\n",
            "ADJ\n",
            "amod\n",
            "---\n"
          ]
        }
      ]
    },
    {
      "cell_type": "code",
      "metadata": {
        "colab": {
          "base_uri": "https://localhost:8080/"
        },
        "id": "FCFjXk9IdpUF",
        "outputId": "66ad784b-6f4c-49a4-d5c9-f66b63c4bcbd"
      },
      "source": [
        "# identify unclassified tokens\n",
        "unclassified_tokens = [(token.lemma_, token.dep_) for token in doc if token.dep_ is '']\n",
        "unclassified_tokens[:10]"
      ],
      "execution_count": 10,
      "outputs": [
        {
          "output_type": "execute_result",
          "data": {
            "text/plain": [
              "[('\\n', '')]"
            ]
          },
          "metadata": {},
          "execution_count": 10
        }
      ]
    },
    {
      "cell_type": "code",
      "metadata": {
        "colab": {
          "base_uri": "https://localhost:8080/"
        },
        "id": "DyLRRLZYXNSm",
        "outputId": "5d59697d-0525-41f8-81dd-09ed17367cbe"
      },
      "source": [
        "# remove stop words and punctuation\n",
        "token_without_sw = [word for word in doc if not word.is_stop and not word.is_punct]\n",
        "token_without_sw[:10]"
      ],
      "execution_count": 11,
      "outputs": [
        {
          "output_type": "execute_result",
          "data": {
            "text/plain": [
              "[pandemic,\n",
              " greek,\n",
              " πᾶν,\n",
              " pan,\n",
              " δῆμος,\n",
              " demos,\n",
              " people,\n",
              " epidemic,\n",
              " infectious,\n",
              " disease]"
            ]
          },
          "metadata": {},
          "execution_count": 11
        }
      ]
    },
    {
      "cell_type": "code",
      "metadata": {
        "colab": {
          "base_uri": "https://localhost:8080/"
        },
        "id": "mjxqLr0tXNSn",
        "outputId": "3e2f9fbd-ea26-4721-b84d-00e01bbc518c"
      },
      "source": [
        "# lemmatize (tokenize) the texts\n",
        "token_lemmas = [token.lemma_ for token in token_without_sw if token.dep_]\n",
        "token_lemmas[:10]"
      ],
      "execution_count": 12,
      "outputs": [
        {
          "output_type": "execute_result",
          "data": {
            "text/plain": [
              "['pandemic',\n",
              " 'greek',\n",
              " 'πᾶν',\n",
              " 'pan',\n",
              " 'δῆμος',\n",
              " 'demos',\n",
              " 'people',\n",
              " 'epidemic',\n",
              " 'infectious',\n",
              " 'disease']"
            ]
          },
          "metadata": {},
          "execution_count": 12
        }
      ]
    },
    {
      "cell_type": "code",
      "metadata": {
        "id": "IkOXYy6RXNSo"
      },
      "source": [
        "# build a tokenizer function\n",
        "def tokenizer(document):\n",
        "    \"\"\"\n",
        "    this function accepts a text string and:\n",
        "    1. lowercases it\n",
        "    2. removes redundant tokens\n",
        "    3. performs token lemmatization\n",
        "    \"\"\"\n",
        "    doc = nlp(document.lower())\n",
        "    token_without_sw = [word for word in doc if not word.is_stop and not word.is_punct]\n",
        "    token_lemmas = [token.lemma_ for token in token_without_sw if token.dep_]  \n",
        "\n",
        "    return token_lemmas"
      ],
      "execution_count": 13,
      "outputs": []
    },
    {
      "cell_type": "code",
      "source": [
        "# apply the tokenizer function\n",
        "for s in summaries:\n",
        "  s['tokenized_text'] = tokenizer(s['text']) "
      ],
      "metadata": {
        "id": "zQBNPLqUZyVD"
      },
      "execution_count": 14,
      "outputs": []
    },
    {
      "cell_type": "markdown",
      "metadata": {
        "id": "QTuUsyFAwSHh"
      },
      "source": [
        "### **Saving the dataset**"
      ]
    },
    {
      "cell_type": "code",
      "metadata": {
        "id": "jwCvC-1dXNSo"
      },
      "source": [
        "# save the tokenized texts to file:\n",
        "with open(DATA_DIR + 'summaries.json', 'w') as outfile:\n",
        "    json.dump(summaries, outfile)"
      ],
      "execution_count": 15,
      "outputs": []
    },
    {
      "cell_type": "markdown",
      "metadata": {
        "id": "RjelDQW3YSRL"
      },
      "source": [
        "### **Loading the dataset**"
      ]
    },
    {
      "cell_type": "code",
      "metadata": {
        "scrolled": true,
        "id": "Ba858XrfYZ6H"
      },
      "source": [
        "# load the tokenized dataset\n",
        "with open(DATA_DIR + 'summaries.json', 'r') as outfile:\n",
        "    summaries = json.load(outfile)"
      ],
      "execution_count": 16,
      "outputs": []
    },
    {
      "cell_type": "markdown",
      "metadata": {
        "id": "ppxFWH1pIdbN"
      },
      "source": [
        "### **Building a corpus vocabulary**"
      ]
    },
    {
      "cell_type": "code",
      "execution_count": 17,
      "metadata": {
        "id": "X_Qf4lFpIdbO",
        "colab": {
          "base_uri": "https://localhost:8080/"
        },
        "outputId": "419b53df-27fe-413b-f587-a9c41d909b7a"
      },
      "outputs": [
        {
          "output_type": "stream",
          "name": "stdout",
          "text": [
            "[['pandemic', 'greek', 'πᾶν', 'pan', 'δῆμος', 'demos', 'people', 'epidemic', 'infectious', 'disease', 'spread', 'large', 'region', 'instance', 'multiple', 'continent', 'worldwide', 'affect', 'substantial', 'number', 'people', 'widespread', 'endemic', 'disease', 'stable', 'number', 'infected', 'people', 'pandemic', 'widespread', 'endemic', 'disease', 'stable', 'number', 'infected', 'people', 'recurrence', 'seasonal', 'influenza', 'generally', 'exclude', 'occur', 'simultaneously', 'large', 'region', 'globe', 'spread', 'worldwide', 'human', 'history', 'number', 'pandemic', 'disease', 'smallpox', 'tuberculosis', 'fatal', 'pandemic', 'record', 'history', 'black', 'death', 'know', 'plague', 'kill', 'estimate', '75–200', 'million', 'people', '14th', 'century', 'term', 'later', 'pandemic', 'include', '1918', 'influenza', 'pandemic', 'spanish', 'flu', 'current', 'pandemic', 'include', 'covid-19', 'sars', 'cov-2', 'hiv', 'aids'], ['hiv', 'aids', 'human', 'immunodeficiency', 'virus', 'consider', 'author', 'global', 'pandemic', 'currently', 'use', 'term', 'global', 'epidemic', 'describe', 'hiv', '2018', 'approximately', '37.9', 'million', 'people', 'infect', 'hiv', 'globally.there', '770,000', 'death', 'aids', '2018.the', '2015', 'global', 'burden', 'disease', 'study', 'report', 'publish', 'lancet', 'estimate', 'global', 'incidence', 'hiv', 'infection', 'peak', '1997', '3.3', 'million', 'year', 'global', 'incidence', 'fall', 'rapidly', '1997', '2005', '2.6', 'million', 'year', 'remain', 'stable', '2005', '2015.sub', 'saharan', 'africa', 'region', 'affected', '2018', 'estimate', '61', 'new', 'hiv', 'infection', 'occur', 'region', 'prevalence', 'ratio', 'western', 'central', 'europe', 'north', 'america', 'low', 'decline', 'incidence', 'hiv', 'mortality', 'people', 'infect', 'hiv', '17', 'year', 'see', 'incidence', 'prevalence', 'ratio', 'fall', '0.06', '2000', '0.03', '2017', 'strong', 'steady', 'reduction', 'new', 'hiv', 'infection', 'mortality', 'people', 'infect', 'hiv', 'eastern', 'southern', 'africa', 'push', 'ratio', '0.11', '2000', '0.04', '2017', 'progress', 'gradual', 'asia', 'pacific', '0.05', '2017', 'latin', 'america', '0.06', '2017', 'caribbean', '0.05', '2017', 'western', 'central', 'africa', '0.06', '2017', 'incidence', 'prevalence', 'ratio', 'middle', 'east', 'north', 'africa', '0.08', '2017', 'eastern', 'europe', 'central', 'asia', '0.09', '2017', 'south', 'africa', 'large', 'population', 'people', 'hiv', 'country', 'world', '7.06', 'million', '2017', 'tanzania', 'hiv', 'aids', 'report', 'prevalence', '4.5', 'tanzanian', 'adult', 'age', '15–49', '2017.south', 'south', 'east', 'asia', 'region', '2', 'billion', 'people', '2010', '30', 'global', 'population', 'estimate', '4', 'million', 'case', '12', 'people', 'infect', 'hiv', '250,000', 'death', '2010', 'approximately', '2.5', 'million', 'case', 'india', 'prevalence', '0.3', 'somewhat', 'high', 'find', 'western', 'central', 'europe', 'canada', 'prevalence', 'low', 'east', 'asia', '0.1%.in', '2017', 'approximately', '1', 'million', 'people', 'united', 'states', 'hiv', '14', 'realize', 'infected.in', '2017', '93,385', 'people', '64,472', 'man', '28,877', 'woman', 'live', 'diagnose', 'hiv', 'infection', 'receive', 'hiv', 'care', 'uk', '428', 'death', '42,739', 'nearly', '50', 'gay', 'bisexual', 'small', 'segment', 'overall', 'population', 'australia', '2017', '27,545', 'case', 'canada', '2016', '63,110', 'cases.a', 'reconstruction', 'genetic', 'history', 'show', 'hiv', 'pandemic', 'certainly', 'originate', 'kinshasa', 'capital', 'democratic', 'republic', 'congo', '1920', 'aids', 'recognize', '1981', '1983', 'hiv', 'virus', 'discover', 'identify', 'cause', 'aids', '2009', 'aids', 'cause', 'nearly', '30', 'million', 'death'], ['antonine', 'plague', '165', '180', 'ad', 'know', 'plague', 'galen', 'galen', 'physician', 'describe', 'ancient', 'pandemic', 'bring', 'roman', 'empire', 'troop', 'return', 'campaign', 'near', 'east', 'scholar', 'suspect', 'smallpox', 'measle', 'plague', 'claim', 'life', 'roman', 'emperor', 'lucius', 'verus', 'die', '169', 'co', 'regent', 'marcus', 'aurelius', 'antoninus', 'family', 'antoninus', 'associate', 'pandemic', 'ancient', 'source', 'agree', 'plague', 'appear', 'roman', 'siege', 'mesopotamian', 'city', 'seleucia', 'winter', '165–166', 'ammianus', 'marcellinus', 'report', 'plague', 'spread', 'gaul', 'legion', 'rhine', 'eutropius', 'state', 'large', 'population', 'die', 'empire', 'accord', 'contemporary', 'roman', 'historian', 'cassius', 'dio', 'disease', 'break', 'year', 'later', '189', 'ad', 'cause', '2,000', 'death', 'day', 'rome', 'quarter', 'affect', 'total', 'death', 'count', 'estimate', '5', 'million', 'disease', 'kill', 'population', 'area', 'devastate', 'roman', 'army.australian', 'sinologist', 'historian', 'rafe', 'de', 'crespigny', 'speculate', 'plague', 'break', 'eastern', 'han', 'china', '166', 'notice', 'plague', 'chinese', 'record', 'plague', 'affect', 'roman', 'culture', 'literature', 'severely', 'affect', 'indo', 'roman', 'trade', 'relation', 'indian', 'ocean'], ['epidemiology', 'basic', 'reproduction', 'number', 'basic', 'reproductive', 'number', 'call', 'basic', 'reproduction', 'ratio', 'basic', 'reproductive', 'rate', 'denote', 'r', '0', '\\\\displaystyle', 'r_{0', 'pronounce', 'r', 'nought', 'r', 'zero', 'infection', 'think', 'expected', 'number', 'case', 'directly', 'generate', 'case', 'population', 'individual', 'susceptible', 'infection', 'definition', 'describe', 'state', 'individual', 'infect', 'immunize', 'naturally', 'vaccination', 'definition', 'australian', 'department', 'health', 'add', 'absence', 'deliberate', 'intervention', 'disease', 'transmission', 'basic', 'reproduction', 'number', 'confuse', 'effective', 'reproduction', 'number', 'r', '\\\\displaystyle', 'r', 'usually', 'write', 'r', 't', '\\\\displaystyle', 'r_{t', 't', 'time', 'r', 'e', '\\\\displaystyle', 'r_{e', 'number', 'case', 'generate', 'current', 'state', 'population', 'uninfected', 'state', 'important', 'note', 'r', '0', '\\\\displaystyle', 'r_{0', 'dimensionless', 'number', 'rate', 'unit', 'time−1', 'unit', 'time', 'like', 'double', 'time', 'r', '0', '\\\\displaystyle', 'r_{0', 'biological', 'constant', 'pathogen', 'affect', 'factor', 'environmental', 'condition', 'behaviour', 'infected', 'population', 'furthermore', 'r', '0', '\\\\displaystyle', 'r_{0', 'value', 'usually', 'estimate', 'mathematical', 'model', 'estimate', 'value', 'dependent', 'model', 'value', 'parameter', 'value', 'give', 'literature', 'sense', 'give', 'context', 'recommend', 'use', 'obsolete', 'value', 'compare', 'value', 'base', 'different', 'model', 'r', '0', '\\\\displaystyle', 'r_{0', 'estimate', 'fast', 'infection', 'spread', 'population', 'important', 'use', 'r', '0', '\\\\displaystyle', 'r_{0', 'determine', 'emerge', 'infectious', 'disease', 'spread', 'population', 'determine', 'proportion', 'population', 'immunize', 'vaccination', 'eradicate', 'disease', 'commonly', 'infection', 'model', 'r', '0', '>', '1', '\\\\displaystyle', 'r_{0}>1', 'infection', 'able', 'start', 'spread', 'population', 'r', '0', '<', '1', '\\\\displaystyle', 'r_{0}<1', 'generally', 'large', 'value', 'r', '0', '\\\\displaystyle', 'r_{0', 'hard', 'control', 'epidemic', 'simple', 'model', 'proportion', 'population', 'need', 'effectively', 'immunize', 'mean', 'susceptible', 'infection', 'prevent', 'sustained', 'spread', 'infection', 'large', '1', '−', '1', 'r', '0', '\\\\displaystyle', '1', '1', 'r_{0', 'conversely', 'proportion', 'population', 'remain', 'susceptible', 'infection', 'endemic', 'equilibrium', '1', 'r', '0', '\\\\displaystyle', '1', 'r_{0', 'basic', 'reproduction', 'number', 'affect', 'factor', 'include', 'duration', 'infectivity', 'affected', 'people', 'infectiousness', 'microorganism', 'number', 'susceptible', 'people', 'population', 'infected', 'people', 'contact'], ['bill', 'mortality', 'weekly', 'mortality', 'statistic', 'london', 'design', 'monitor', 'burial', '1592', '1595', 'continuously', '1603', 'responsibility', 'produce', 'statistic', 'charter', '1611', 'worshipful', 'company', 'parish', 'clerk', 'bill', 'cover', 'area', 'start', 'expand', 'london', 'grow', 'city', 'london', 'reach', 'maximum', 'extent', '1636', 'new', 'parish', 'add', 'ancient', 'parish', 'area', 'divide', 'factor', 'use', 'suburban', 'cemetery', 'outside', 'area', 'exemption', 'extra', 'parochial', 'place', 'area', 'wide', 'growth', 'metropolis', 'record', 'burial', 'death', 'render', 'datum', 'incomplete', 'production', 'bill', 'go', 'decline', '1819', 'parish', 'cease', 'provide', 'return', 'survive', 'weekly', 'bill', 'date', '1858', 'supersede', 'weekly', 'return', 'registrar', 'general', '1840', 'take', 'parish', '1847', 'area', 'district', 'metropolitan', 'board', 'works', '1855', 'county', 'london', '1889', 'inner', 'london', '1965'], ['cholera', 'infection', 'small', 'intestine', 'strain', 'bacterium', 'vibrio', 'cholerae', 'symptom', 'range', 'mild', 'severe', 'classic', 'symptom', 'large', 'amount', 'watery', 'diarrhea', 'last', 'day', 'vomiting', 'muscle', 'cramp', 'occur', 'diarrhea', 'severe', 'lead', 'hour', 'severe', 'dehydration', 'electrolyte', 'imbalance', 'result', 'sink', 'eye', 'cold', 'skin', 'decrease', 'skin', 'elasticity', 'wrinkling', 'hand', 'foot', 'dehydration', 'cause', 'skin', 'turn', 'bluish', 'symptom', 'start', 'hour', 'day', 'exposure.cholera', 'cause', 'number', 'type', 'vibrio', 'cholerae', 'type', 'produce', 'severe', 'disease', 'spread', 'unsafe', 'water', 'unsafe', 'food', 'contaminate', 'human', 'fece', 'contain', 'bacteria', 'undercooked', 'seafood', 'common', 'source', 'human', 'animal', 'affect', 'risk', 'factor', 'disease', 'include', 'poor', 'sanitation', 'clean', 'drinking', 'water', 'poverty', 'concern', 'rise', 'sea', 'level', 'increase', 'rate', 'disease', 'cholera', 'diagnose', 'stool', 'test', 'rapid', 'dipstick', 'test', 'available', 'accurate.prevention', 'method', 'cholera', 'include', 'improve', 'sanitation', 'access', 'clean', 'water', 'cholera', 'vaccine', 'give', 'mouth', 'provide', 'reasonable', 'protection', 'month', 'add', 'benefit', 'protect', 'type', 'diarrhea', 'cause', 'e.', 'coli', 'primary', 'treatment', 'oral', 'rehydration', 'therapy', 'replacement', 'fluid', 'slightly', 'sweet', 'salty', 'solution', 'rice', 'base', 'solution', 'prefer', 'zinc', 'supplementation', 'useful', 'child', 'severe', 'case', 'intravenous', 'fluid', 'ringer', 'lactate', 'require', 'antibiotic', 'beneficial', 'test', 'antibiotic', 'cholera', 'susceptible', 'help', 'guide', 'choice.cholera', 'affect', 'estimate', '3–5', 'million', 'people', 'worldwide', 'cause', '28,800–130,000', 'death', 'year', 'classify', 'pandemic', '2010', 'rare', 'developed', 'world', 'child', 'affect', 'cholera', 'occur', 'outbreak', 'chronically', 'certain', 'area', 'area', 'ongoing', 'risk', 'disease', 'include', 'africa', 'southeast', 'asia', 'risk', 'death', 'affect', 'usually', '5', 'high', '50', 'access', 'treatment', 'result', 'high', 'death', 'rate', 'description', 'cholera', 'find', 'early', '5th', 'century', 'bc', 'sanskrit', 'study', 'cholera', 'england', 'john', 'snow', '1849', '1854', 'lead', 'significant', 'advance', 'field', 'epidemiology', 'seven', 'large', 'outbreak', 'occur', '200', 'year', 'million', 'death'], ['covid-19', 'pandemic', 'know', 'coronavirus', 'pandemic', 'ongoing', 'pandemic', 'coronavirus', 'disease', '2019', 'covid-19', 'cause', 'severe', 'acute', 'respiratory', 'syndrome', 'coronavirus', '2', 'sars', 'cov-2', 'disease', 'identify', 'december', '2019', 'wuhan', 'china', 'outbreak', 'declare', 'public', 'health', 'emergency', 'international', 'concern', 'january', '2020', 'pandemic', 'march', '2020', '17', 'october', '2020', '39.5', 'million', 'case', 'confirm', '1.1', 'million', 'death', 'attribute', 'covid-19', 'common', 'symptom', 'include', 'fever', 'cough', 'fatigue', 'breathe', 'difficulty', 'loss', 'smell', 'complication', 'include', 'pneumonia', 'acute', 'respiratory', 'distress', 'syndrome', 'incubation', 'period', 'typically', 'day', 'range', '14', 'day', 'vaccine', 'candidate', 'development', 'prove', 'safety', 'efficacy', 'know', 'specific', 'antiviral', 'medication', 'primary', 'treatment', 'currently', 'symptomatic', 'recommend', 'preventive', 'measure', 'include', 'hand', 'washing', 'cover', 'mouth', 'wear', 'face', 'mask', 'sneeze', 'cough', 'social', 'distancing', 'disinfect', 'surface', 'ventilation', 'air', 'filtering', 'monitoring', 'self', 'isolation', 'expose', 'symptomatic', 'travel', 'restriction', 'lockdown', 'workplace', 'hazard', 'control', 'facility', 'closure', 'implement', 'place', 'work', 'increase', 'testing', 'capacity', 'trace', 'contact', 'infect', 'cause', 'social', 'economic', 'disruption', 'include', 'large', 'global', 'recession', 'great', 'depression', 'extreme', 'poverty', 'global', 'famine', 'affect', 'hundred', 'million', 'inflame', 'supply', 'shortage', 'event', 'environment', 'education', 'system', 'affect', 'misinformation', 'virus', 'circulate', 'globally', 'incident', 'xenophobia', 'racism', 'chinese', 'people', 'perceive', 'chinese', 'area', 'high', 'infection', 'rate'], ['crimson', 'contagion', 'joint', 'exercise', 'conduct', 'january', 'august', '2019', 'numerous', 'national', 'state', 'local', 'private', 'public', 'organization', 'participate', 'order', 'test', 'capacity', 'federal', 'government', 'state', 'respond', 'severe', 'pandemic', 'influenza', 'originating', 'china', 'simulation', 'conduct', 'month', 'prior', 'start', 'covid-19', 'pandemic', 'involve', 'scenario', 'tourist', 'return', 'china', 'spread', 'respiratory', 'virus', 'united', 'states', 'begin', 'chicago', 'month', 'virus', 'infect', '110', 'million', 'americans', 'kill', 'half', 'million', 'report', 'issue', 'conclusion', 'exercise', 'outline', 'government', 'limited', 'capacity', 'respond', 'pandemic', 'federal', 'agency', 'lack', 'fund', 'coordination', 'resource', 'facilitate', 'effective', 'response', 'virus'], ['disease', 'x', 'placeholder', 'adopt', 'world', 'health', 'organization', 'february', '2018', 'shortlist', 'blueprint', 'priority', 'disease', 'represent', 'hypothetical', 'unknown', 'pathogen', 'cause', 'future', 'epidemic', 'adopt', 'placeholder', 'ensure', 'planning', 'sufficiently', 'flexible', 'adapt', 'unknown', 'pathogen', 'e.g.', 'broad', 'vaccine', 'manufacture', 'facility', 'director', 'national', 'institute', 'allergy', 'infectious', 'disease', 'anthony', 'fauci', 'state', 'concept', 'disease', 'x', 'encourage', 'project', 'focus', 'research', 'effort', 'entire', 'class', 'virus', 'e.g.', 'flavivirus', 'instead', 'individual', 'strain', 'e.g.', 'zika', 'virus', 'improve', 'capability', 'respond', 'unforeseen', 'strain', '2020', 'speculate', 'include', 'expert', 'advisor', 'covid-19', 'cause', 'sars', 'cov-2', 'virus', 'strain', 'meet', 'requirement', 'disease', 'x.'], ['johns', 'hopkins', 'center', 'health', 'security', 'abbreviate', 'chs', 'previously', 'upmc', 'center', 'health', 'security', 'center', 'biosecurity', 'upmc', 'johns', 'hopkins', 'center', 'civilian', 'biodefense', 'strategy', 'independent', 'nonprofit', 'organization', 'johns', 'hopkins', 'bloomberg', 'school', 'public', 'health', 'environmental', 'health', 'engineering', 'department', 'concerned', 'area', 'health', 'consequence', 'epidemic', 'disaster', 'avert', 'biological', 'weapon', 'development', 'implication', 'biosecurity', 'bioeconomy', 'think', 'tank', 'policy', 'research', 'give', 'policy', 'recommendation', 'united', 'states', 'government', 'world', 'health', 'organization', 'un', 'biological', 'weapon', 'convention'], ['human', 'immunodeficiency', 'virus', 'infection', 'acquire', 'immune', 'deficiency', 'syndrome', 'hiv', 'aids', 'spectrum', 'condition', 'cause', 'infection', 'human', 'immunodeficiency', 'virus', 'hiv', 'follow', 'initial', 'infection', 'person', 'notice', 'symptom', 'experience', 'brief', 'period', 'influenza', 'like', 'illness', 'typically', 'follow', 'prolonged', 'period', 'symptom', 'infection', 'progress', 'interfere', 'immune', 'system', 'increase', 'risk', 'develop', 'common', 'infection', 'tuberculosis', 'opportunistic', 'infection', 'tumor', 'rare', 'people', 'normal', 'immune', 'function', 'late', 'symptom', 'infection', 'refer', 'acquire', 'immunodeficiency', 'syndrome', 'aids', 'stage', 'associate', 'unintended', 'weight', 'loss.hiv', 'spread', 'primarily', 'unprotected', 'sex', 'include', 'anal', 'oral', 'sex', 'contaminate', 'blood', 'transfusion', 'hypodermic', 'needle', 'mother', 'child', 'pregnancy', 'delivery', 'breastfeeding', 'bodily', 'fluid', 'saliva', 'sweat', 'tear', 'transmit', 'virus', 'hiv', 'member', 'group', 'virus', 'know', 'retroviruses.method', 'prevention', 'include', 'safe', 'sex', 'needle', 'exchange', 'program', 'treat', 'infect', 'pre-', 'post', 'exposure', 'prophylaxis', 'disease', 'baby', 'prevent', 'give', 'mother', 'child', 'antiretroviral', 'medication', 'cure', 'vaccine', 'antiretroviral', 'treatment', 'slow', 'course', 'disease', 'lead', 'near', 'normal', 'life', 'expectancy', 'treatment', 'recommend', 'soon', 'diagnosis', 'treatment', 'average', 'survival', 'time', 'infection', '11', 'years.in', '2018', '37.9', 'million', 'people', 'live', 'hiv', 'result', '770,000', 'death', 'estimate', '20.6', 'million', 'live', 'eastern', 'southern', 'africa', 'time', 'aids', 'identify', 'early', '1980s', '2018', 'disease', 'cause', 'estimate', '32', 'million', 'death', 'worldwide', 'hiv', 'aids', 'consider', 'pandemic', 'disease', 'outbreak', 'present', 'large', 'area', 'actively', 'spreading.hiv', 'jump', 'primate', 'human', 'west', 'central', 'africa', 'early', 'mid', '20th', 'century', 'aids', 'recognize', 'united', 'states', 'centers', 'disease', 'control', 'prevention', 'cdc', '1981', 'cause', 'hiv', 'infection', 'identify', 'early', 'decade', 'hiv', 'aids', 'large', 'impact', 'society', 'illness', 'source', 'discrimination', 'disease', 'large', 'economic', 'impact', 'misconception', 'hiv', 'aids', 'belief', 'transmit', 'casual', 'non', 'sexual', 'contact', 'disease', 'subject', 'controversy', 'involve', 'religion', 'include', 'catholic', 'church', 'position', 'support', 'condom', 'use', 'prevention', 'attract', 'international', 'medical', 'political', 'attention', 'large', 'scale', 'funding', 'identify', '1980s'], ['people', 'republic', 'china', 'report', 'aids', 'case', 'identify', '1985', 'die', 'tourist', '1989', 'indigenous', 'case', 'report', 'outbreak', '146', 'infected', 'heroin', 'user', 'yunnan', 'province', 'near', 'china', 'southwest', 'border.yunnan', 'area', 'affect', 'hiv', 'aids', 'china', '1989', 'infection', 'appear', 'needle', 'sharing', 'drug', 'user', 'near', 'burmese', 'border', '1993', 'disease', 'remain', 'problem', 'border', 'area', 'mobile', 'people', 'truck', 'driver', 'construction', 'migrant', 'worker', 'traveler', 'bring', 'virus', 'country', '1995', 'province', 'sichuan', 'xinjiang', 'report', 'hiv', 'case', '1998', 'virus', 'spread', 'china', 'low', 'awareness', 'disease', 'china', 'general', 'population', 'appear', 'major', 'culprit', 'chinese', 'consider', 'hiv', 'aids', 'foreign', 'issue', 'educate', 'people', 'knowledgeable', 'virus', 'transmission', 'prevention', 'people', 'country', 'recently', 'use', 'condom', 'common', 'sex', 'worker', 'client', 'result', 'epidemic', 'spread', 'high', 'risk', 'group', 'drug', 'user', 'sex', 'worker', 'unsafe', 'blood', 'donor', 'general', 'population'], ['pandemic', 'prevention', 'organization', 'management', 'preventive', 'measure', 'pandemic', 'include', 'measure', 'reduce', 'cause', 'new', 'infectious', 'disease', 'measure', 'prevent', 'outbreak', 'epidemic', 'pandemic', 'mistake', 'pandemic', 'preparedness', 'pandemic', 'mitigation', 'largely', 'seek', 'mitigate', 'magnitude', 'negative', 'effect', 'pandemic', 'overlap', 'pandemic', 'prevention', 'respect'], ['pandemic', 'severity', 'assessment', 'framework', 'psaf', 'evaluation', 'framework', 'use', 'quadrant', 'evaluate', 'transmissibility', 'clinical', 'severity', 'pandemic', 'combine', 'overall', 'impact', 'estimate', 'clinical', 'severity', 'calculate', 'multiple', 'measure', 'include', 'case', 'fatality', 'rate', 'case', 'hospitalization', 'ratio', 'death', 'hospitalization', 'ratio', 'viral', 'transmissibility', 'measure', 'available', 'datum', 'secondary', 'household', 'attack', 'rate', 'school', 'attack', 'rate', 'workplace', 'attack', 'rate', 'community', 'attack', 'rate', 'rate', 'emergency', 'department', 'outpatient', 'visit', 'influenza', 'like', 'illness.the', 'psaf', 'supersede', '2007', 'linear', 'pandemic', 'severity', 'index', 'psi', 'assume', '30', 'spread', 'measure', 'case', 'fatality', 'rate', 'cfr', 'assess', 'severity', 'evolution', 'pandemic', 'united', 'states', 'centers', 'disease', 'control', 'prevention', 'cdc', 'adopt', 'psaf', 'official', 'pandemic', 'severity', 'assessment', 'tool', '2014', 'official', 'pandemic', 'severity', 'assessment', 'tool', 'list', 'cdc', 'national', 'pandemic', 'strategy', 'time', 'covid-19', 'pandemic'], ['pandemic', 'severity', 'index', 'psi', 'propose', 'classification', 'scale', 'report', 'severity', 'influenza', 'pandemic', 'united', 'states', 'psi', 'accompany', 'set', 'guideline', 'intend', 'help', 'communicate', 'appropriate', 'action', 'community', 'follow', 'potential', 'pandemic', 'situation', 'release', 'united', 'states', 'department', 'health', 'human', 'service', 'hhs', 'february', '1', '2007', 'psi', 'design', 'resemble', 'saffir', 'simpson', 'hurricane', 'scale', 'classification', 'scheme', 'index', 'replace', 'pandemic', 'severity', 'assessment', 'framework', '2014', 'use', 'quadrant', 'base', 'transmissibility', 'clinical', 'severity', 'linear', 'scale'], ['plague', 'cyprian', 'pandemic', 'afflict', 'roman', 'empire', 'ad', '249', '262', 'plague', 'think', 'cause', 'widespread', 'manpower', 'shortage', 'food', 'production', 'roman', 'army', 'severely', 'weaken', 'empire', 'crisis', 'century', 'modern', 'commemorate', 'st', 'cyprian', 'bishop', 'carthage', 'early', 'christian', 'writer', 'witness', 'describe', 'plague', 'agent', 'plague', 'highly', 'speculative', 'sparse', 'sourcing', 'suspect', 'include', 'smallpox', 'pandemic', 'influenza', 'viral', 'hemorrhagic', 'fever', 'filovirus', 'like', 'ebola', 'virus'], ['predict', 'epidemiological', 'research', 'program', 'fund', 'united', 'states', 'agency', 'international', 'development', 'usaid', 'grant', 'launch', '2009', 'program', 'describe', 'early', 'warning', 'pandemic', 'system'], ['1929–1930', 'psittacosis', 'pandemic', 'know', 'psittacosis', 'outbreak', '1929–1930', 'great', 'parrot', 'fever', 'pandemic', 'series', 'simultaneous', 'outbreak', 'psittacosis', 'parrot', 'fever', 'accelerate', 'breeding', 'transportation', 'bird', 'crowded', 'container', 'purpose', 'trade', 'initially', 'see', 'origin', 'parrot', 'south', 'america', 'shortly', 'find', 'spread', 'specie', 'bird', 'country', 'worldwide', 'human', 'mid', '1929', 'early', '1930', 'diagnose', 'clinical', 'feature', 'link', 'bird', 'affect', '750', '800', 'people', 'globally', 'mortality', '15', 'mode', 'transmission', 'human', 'mouth', 'beak', 'contact', 'inhaling', 'dry', 'bird', 'secretion', 'dropping', 'know', 'time', 'cause', 'chlamydia', 'psittaci', 'usually', 'remain', 'dormant', 'bird', 'activate', 'stress', 'capture', 'confinement', 'discover', 'pandemic', 'case', 'report', 'mid', '1929', 'birmingham', 'united', 'kingdom', 'link', 'parrot', 'buenos', 'aire', 'argentina', 'ongoing', 'outbreak', 'disease', 'lead', 'caution', 'bird', 'owner', 'declare', 'sick', 'parrot', 'origin', 'outbreak', 'argentine', 'city', 'córdoba', 'trace', 'import', '5,000', 'parrot', 'brazil', 'argentine', 'parrot', 'trade', 'stop', 'number', 'bird', 'illegally', 'sell', 'visitor', 'seaport', 'consequence', 'psittacosis', 'transmit', 'country', 'november', '1929', 'report', 'case', 'argentine', 'theatrical', 'group', 'córdoba', 'local', 'press', 'january', '1930', 'case', 'atypical', 'pneumonia', 'family', 'death', 'parrot', 'appear', 'maryland', 'united', 'states', 'link', 'story', 'theatrical', 'group', 'parrot', 'fever', 'headline', 'american', 'press', 'follow', 'case', 'ban', 'parrot', 'trade', 'implement', 'subsequently', 'case', 'report', 'country', 'include', 'germany', 'france', 'australia', 'origin', 'understand', 'importation', 'green', 'amazon', 'parrot', 'south', 'america', 'later', 'principal', 'source', 'disease', 'u.s', 'domestic', 'lovebird', 'raise', 'californian', 'aviary', 'sell', 'mainly', 'housewife', 'widow', 'impact', 'outbreak', 'u.s', 'hygienic', 'laboratory', '16', 'worker', 'affect', 'include', 'death', 'lead', 'formation', 'national', 'institute', 'health'], ['science', 'diplomacy', 'collaborative', 'effort', 'local', 'global', 'entity', 'solve', 'global', 'issue', 'science', 'technology', 'base', 'science', 'diplomacy', 'collaboration', 'take', 'place', 'advance', 'science', 'science', 'facilitate', 'diplomatic', 'relation', 'allow', 'conflict', 'nation', 'come', 'science', 'find', 'solution', 'global', 'issue', 'global', 'organization', 'researcher', 'public', 'health', 'official', 'country', 'government', 'official', 'clinician', 'previously', 'work', 'create', 'effective', 'measure', 'infection', 'control', 'subsequent', 'treatment', 'continue', 'sharing', 'resource', 'research', 'datum', 'idea', 'put', 'effect', 'law', 'regulation', 'advance', 'scientific', 'research', 'collaborative', 'effort', 'entity', 'world', 'vaccine', 'treatment', 'possess', 'disease', 'consider', 'deadly', 'tuberculosis', 'tetanus', 'polio', 'influenza', 'etc', 'historically', 'science', 'diplomacy', 'prove', 'successful', 'disease', 'sars', 'ebola', 'zika', 'continue', 'relevant', 'covid-19', 'pandemic', 'today'], ['spanish', 'flu', 'know', '1918', 'flu', 'pandemic', 'unusually', 'deadly', 'influenza', 'pandemic', 'cause', 'h1n1', 'influenza', 'virus', 'last', 'february', '1918', 'april', '1920', 'infect', '500', 'million', 'people', 'world', 'population', 'time', 'successive', 'wave', 'death', 'toll', 'typically', 'estimate', '17', 'million', '50', 'million', 'possibly', 'high', '100', 'million', 'make', 'deadly', 'pandemic', 'human', 'history.the', 'observation', 'illness', 'mortality', 'document', 'united', 'states', 'fort', 'riley', 'haskell', 'county', 'kansas', 'new', 'york', 'city', 'france', 'brest', 'germany', 'united', 'kingdom', 'maintain', 'morale', 'world', 'war', 'censor', 'minimize', 'early', 'report', 'newspaper', 'free', 'report', 'epidemic', 'effect', 'neutral', 'spain', 'grave', 'illness', 'king', 'alfonso', 'xiii', 'story', 'create', 'false', 'impression', 'spain', 'especially', 'hard', 'hit', 'give', 'rise', 'spanish', 'flu', 'historical', 'epidemiological', 'datum', 'inadequate', 'identify', 'certainty', 'pandemic', 'geographic', 'origin', 'vary', 'view', 'location', 'influenza', 'outbreak', 'disproportionately', 'kill', 'young', 'old', 'high', 'survival', 'rate', 'spanish', 'flu', 'pandemic', 'result', 'high', 'expect', 'mortality', 'rate', 'young', 'adult', 'scientist', 'offer', 'possible', 'explanation', 'high', 'mortality', 'rate', '1918', 'influenza', 'pandemic', 'analysis', 'show', 'virus', 'particularly', 'deadly', 'trigger', 'cytokine', 'storm', 'ravage', 'strong', 'immune', 'system', 'young', 'adult', 'contrast', '2007', 'analysis', 'medical', 'journal', 'period', 'pandemic', 'find', 'viral', 'infection', 'aggressive', 'previous', 'influenza', 'strain', 'instead', 'malnourishment', 'overcrowded', 'medical', 'camp', 'hospital', 'poor', 'hygiene', 'exacerbate', 'recent', 'war', 'promote', 'bacterial', 'superinfection', 'superinfection', 'kill', 'victim', 'typically', 'somewhat', 'prolonged', 'death', 'bed.the', '1918', 'spanish', 'flu', 'pandemic', 'cause', 'h1n1', 'influenza', 'virus', 'second', '2009', 'swine', 'flu', 'pandemic'], ['superspreader', 'unusually', 'contagious', 'organism', 'infect', 'disease', 'context', 'human', 'borne', 'illness', 'superspreader', 'individual', 'likely', 'infect', 'compare', 'typical', 'infected', 'person', 'superspreader', 'particular', 'concern', 'epidemiology', 'case', 'superspreade', 'conform', '80/20', 'rule', 'approximately', '20', 'infect', 'individual', 'responsible', '80', 'transmission', 'superspreading', 'say', 'occur', 'superspreader', 'account', 'high', 'low', 'percentage', 'transmission', 'epidemic', 'superspreader', 'event', 'ssev', 'majority', 'individual', 'infect', 'relatively', 'secondary', 'contacts.ssev', 'shape', 'multiple', 'factor', 'include', 'decline', 'herd', 'immunity', 'nosocomial', 'infection', 'virulence', 'viral', 'load', 'misdiagnosis', 'airflow', 'dynamic', 'immune', 'suppression', 'co', 'infection', 'pathogen'], ['swine', 'influenza', 'infection', 'cause', 'type', 'swine', 'influenza', 'virus', 'swine', 'influenza', 'virus', 'siv', 'swine', 'origin', 'influenza', 'virus', 's', 'oiv', 'strain', 'influenza', 'family', 'virus', 'endemic', 'pig', '2009', 'know', 'siv', 'strain', 'include', 'influenza', 'c', 'subtype', 'influenza', 'know', 'h1n1', 'h1n2', 'h2n1', 'h3n1', 'h3n2', 'h2n3', 'swine', 'influenza', 'virus', 'common', 'pig', 'population', 'worldwide', 'transmission', 'virus', 'pig', 'human', 'common', 'lead', 'human', 'flu', 'result', 'production', 'antibody', 'blood', 'transmission', 'cause', 'human', 'flu', 'call', 'zoonotic', 'swine', 'flu', 'people', 'regular', 'exposure', 'pig', 'increase', 'risk', 'swine', 'flu', 'infection', 'mid-20th', 'century', 'identification', 'influenza', 'subtype', 'possible', 'allow', 'accurate', 'diagnosis', 'transmission', 'human', '50', 'transmission', 'confirm', 'strain', 'swine', 'flu', 'rarely', 'pass', 'human', 'human', 'symptom', 'zoonotic', 'swine', 'flu', 'human', 'similar', 'influenza', 'influenza', 'like', 'illness', 'general', 'chill', 'fever', 'sore', 'throat', 'muscle', 'pain', 'severe', 'headache', 'coughing', 'weakness', 'shortness', 'breath', 'general', 'discomfort', 'estimate', '2009', 'flu', 'pandemic', '11–21', 'global', 'population', '6.8', 'billion', '700', 'million', '1.4', 'billion', 'people', 'contract', 'illness', 'absolute', 'term', 'spanish', 'flu', 'pandemic', 'actual', 'fatality', 'range', '12,000', '18,000', '2012', 'study', 'cdc', 'estimate', '284,000', 'possible', 'fatality', 'worldwide', 'range', '150,000', '575,000', 'august', '2010', 'world', 'health', 'organization', 'declare', 'swine', 'flu', 'pandemic', 'officially', 'over.subsequent', 'case', 'swine', 'flu', 'report', 'india', '2015', '31,156', 'positive', 'test', 'case', '1,841', 'death', 'march', '2015'], ['target', 'immunization', 'strategy', 'approach', 'design', 'increase', 'immunization', 'level', 'population', 'decrease', 'chance', 'epidemic', 'outbreak', 'regard', 'use', 'healthcare', 'practice', 'administration', 'vaccines', 'prevent', 'biological', 'epidemic', 'outbreak', 'strategy', 'refer', 'general', 'immunization', 'scheme', 'complex', 'network', 'biological', 'social', 'artificial', 'nature', 'identification', 'risk', 'group', 'individual', 'high', 'odd', 'spread', 'disease', 'play', 'important', 'role', 'strategy'], ['unified', 'victim', 'identification', 'system', 'uvis', 'internet', 'enable', 'database', 'system', 'develop', 'office', 'chief', 'medical', 'examiner', 'city', 'new', 'york', 'ocme', 'aftermath', 'september', '11', 'attack', 'new', 'york', 'city', 'crash', 'american', 'airlines', 'flight', '587', 'intend', 'handle', 'critical', 'fatality', 'management', 'function', 'necessary', 'major', 'disaster', 'uvis', 'strong', 'flexible', 'role', 'base', 'application', 'permission', 'control', 'dynamically.in', 'event', 'mass', 'casualty', 'event', 'initially', 'new', 'york', 'city', '311', 'center', 'operator', 'new', 'york', 'police', 'department', 'ocme', 'gather', 'key', 'information', 'facilitate', 'compile', 'accurate', 'list', 'miss', 'person', 'uvis', 'ocme', 'track', 'decedent', 'collect', 'postmortem', 'finding', 'facilitate', 'identification', 'process', 'disaster', 'uvis', 'contain', 'pandemic', 'flu', 'module', 'prepare', 'eventuality', 'uvis', 'strong', 'flexible', 'role', 'base', 'application', 'permission', 'control', 'dynamically', 'uvis', 'build', 'ocme', 'nihilent', 'consulting', 'solution', 'integration', 'company', 'lead', 'design', 'thinking', 'company', 'know', 'icra', 'sapphire).developed', 'public', 'fund', 'uvis', 'available', 'municipality', 'county', 'state', 'governmental', 'agency', 'charge', 'license', 'new', 'york', 'city', 'currently', 'uvis', 'use', 'office', 'chief', 'medical', 'examiner', 'city', 'new', 'york', 'ocme', 'state', 'new', 'jersey', 'ocsme'], ['viral', 'load', 'know', 'viral', 'burden', 'viral', 'titre', 'viral', 'titer', 'numerical', 'expression', 'quantity', 'virus', 'give', 'volume', 'fluid', 'sputum', 'blood', 'plasma', 'bodily', 'fluid', 'example', 'viral', 'load', 'norovirus', 'determine', 'run', 'water', 'garden', 'produce', 'norovirus', 'prolong', 'viral', 'shedding', 'ability', 'survive', 'environment', 'minuscule', 'infectious', 'dose', 'require', 'produce', 'infection', 'human', '100', 'viral', 'particles.viral', 'load', 'express', 'viral', 'particle', 'infectious', 'particle', 'ml', 'depend', 'type', 'assay', 'high', 'viral', 'burden', 'titre', 'viral', 'load', 'correlate', 'severity', 'active', 'viral', 'infection', 'quantity', 'virus', 'ml', 'calculate', 'estimate', 'live', 'virus', 'involved', 'fluid', 'example', 'give', 'rna', 'copy', 'millilitre', 'blood', 'plasma', 'track', 'viral', 'load', 'monitor', 'therapy', 'chronic', 'viral', 'infection', 'immunocompromise', 'patient', 'recover', 'bone', 'marrow', 'solid', 'organ', 'transplantation', 'currently', 'routine', 'testing', 'available', 'hiv-1', 'cytomegalovirus', 'hepatitis', 'b', 'virus', 'hepatitis', 'c', 'virus', 'viral', 'load', 'monitoring', 'hiv', 'particular', 'interest', 'treatment', 'people', 'hiv', 'continually', 'discuss', 'context', 'management', 'hiv', 'aids'], ['virus', 'submicroscopic', 'infectious', 'agent', 'replicate', 'inside', 'live', 'cell', 'organism', 'virus', 'infect', 'type', 'life', 'form', 'animal', 'plant', 'microorganism', 'include', 'bacteria', 'archaea', 'dmitri', 'ivanovsky', '1892', 'article', 'describe', 'non', 'bacterial', 'pathogen', 'infect', 'tobacco', 'plant', 'discovery', 'tobacco', 'mosaic', 'virus', 'martinus', 'beijerinck', '1898', '6,000', 'virus', 'specie', 'describe', 'detail', 'million', 'type', 'virus', 'environment', 'virus', 'find', 'ecosystem', 'earth', 'numerous', 'type', 'biological', 'entity', 'study', 'virus', 'know', 'virology', 'subspeciality', 'microbiology', 'infect', 'host', 'cell', 'force', 'rapidly', 'produce', 'thousand', 'identical', 'copy', 'original', 'virus', 'inside', 'infected', 'cell', 'process', 'infect', 'cell', 'virus', 'exist', 'form', 'independent', 'particle', 'virion', 'consist', 'genetic', 'material', 'i.e.', 'long', 'molecule', 'dna', 'rna', 'encode', 'structure', 'protein', 'virus', 'act', 'ii', 'protein', 'coat', 'capsid', 'surround', 'protect', 'genetic', 'material', 'case', 'iii', 'outside', 'envelope', 'lipid', 'shape', 'virus', 'particle', 'range', 'simple', 'helical', 'icosahedral', 'form', 'complex', 'structure', 'virus', 'specie', 'virion', 'small', 'see', 'optical', 'microscope', 'hundredth', 'size', 'bacteria', 'origin', 'virus', 'evolutionary', 'history', 'life', 'unclear', 'evolve', 'plasmid', 'piece', 'dna', 'cell', 'evolve', 'bacteria', 'evolution', 'virus', 'important', 'mean', 'horizontal', 'gene', 'transfer', 'increase', 'genetic', 'diversity', 'way', 'analogous', 'sexual', 'reproduction', 'virus', 'consider', 'biologist', 'life', 'form', 'carry', 'genetic', 'material', 'reproduce', 'evolve', 'natural', 'selection', 'lack', 'key', 'characteristic', 'cell', 'structure', 'generally', 'consider', 'necessary', 'criterion', 'life', 'possess', 'quality', 'virus', 'describe', 'organism', 'edge', 'life', 'self-replicators.viruses', 'spread', 'way', 'transmission', 'pathway', 'disease', 'bear', 'organism', 'know', 'vector', 'example', 'virus', 'transmit', 'plant', 'plant', 'insect', 'feed', 'plant', 'sap', 'aphid', 'virus', 'animal', 'carry', 'blood', 'suck', 'insect', 'influenza', 'virus', 'spread', 'cough', 'sneezing', 'norovirus', 'rotavirus', 'common', 'cause', 'viral', 'gastroenteritis', 'transmit', 'faecal', 'oral', 'route', 'pass', 'hand', 'mouth', 'contact', 'food', 'water', 'infectious', 'dose', 'norovirus', 'require', 'produce', 'infection', 'human', '100', 'particle', 'hiv', 'virus', 'transmit', 'sexual', 'contact', 'exposure', 'infect', 'blood', 'variety', 'host', 'cell', 'virus', 'infect', 'call', 'host', 'range', 'narrow', 'mean', 'virus', 'capable', 'infect', 'specie', 'broad', 'mean', 'capable', 'infect', 'many.viral', 'infection', 'animal', 'provoke', 'immune', 'response', 'usually', 'eliminate', 'infect', 'virus', 'immune', 'response', 'produce', 'vaccine', 'confer', 'artificially', 'acquire', 'immunity', 'specific', 'viral', 'infection', 'virus', 'include', 'cause', 'aids', 'hpv', 'infection', 'viral', 'hepatitis', 'evade', 'immune', 'response', 'result', 'chronic', 'infection', 'antiviral', 'drug', 'develop']]\n",
            "['siege', 'snow', 'hit', 'psaf', 'attention', '3.3', 'world', 'cov-2', 'factor', 'east', 'field', 'positive', 'provoke', 'consulting', 'artificially', '1889', 'think', '1847', 'hygiene', 'marcellinus', 'exacerbate', 'catholic', 'cases.a', '50', 'ravage', 'critical', 'swine', 'hundredth', 'fatal', 'fall', 'censor', 'design', 'sell', 'hemorrhagic', 'norovirus', 'young', 'seleucia', 'continue', 'plasma', 'europe', 'segment', '93,385', 'cough', '28,800–130,000', 'behaviour', '16', 'overcrowded', 'large', 'uk', 'cdc', 'exemption', 'herd', 'condom', 'generally', 'disease', 'uvis', 'hurricane', 'level', 'affect', 'scholar', 'medical', 'metropolis', '0.04', 'typical', 'bisexual', 'distancing', 'substantial', '1.4', '6,000', 'ratio', 'practice', 'contact', 'client', 'decedent', '63,110', 'caution', 'narrow', 'law', 'consist', 'burmese', 'member', 'δῆμος', 'miss', 'wear', '1854', 'πᾶν', 'unit', 'advisor', 'patient', 'weakness', 'ecosystem', 'bodily', 'respiratory', 'numerical', 'devastate', 'initially', 'throat', 'parochial', 'realize', 'divide', 'diplomatic', 'target', 'antonine', 'estimate', 'airlines', 'manufacture', 'relation', 'dehydration', 'expression', 'ii', 'incomplete', 'states', 'sink', 'treat', 'neutral', 'class', 'originating', 'sneezing', '2.6', 'mitigate', 'emperor', 'st', '5,000', '1849', 'available', 'expand', 'play', 'weaken', 'ancient', 'equilibrium', 'biosecurity', 'nought', 'claim', 'intervention', 'deficiency', 'october', 'contemporary', '428', 'skin', 'actively', 'ensure', 'respond', 'church', 'turn', 'fece', 'department', 'new', 'notice', 'poverty', 'upmc', 'dio', 'epidemic', 'chief', 'joint', 'hygienic', 'ammianus', 'mid-20th', 'metropolitan', '3–5', 'origin', 'crowded', 'experience', 'southwest', 'virus', 'sense', 'extent', 'dynamically', 'director', 'diagnose', 'anal', 'tobacco', 'consider', 'surround', 'relevant', 'h2n3', 'zero', 'handle', 'key', 'track', 'rarely', 'southern', 'development', 'small', 'dry', 'civilian', 'instead', 'diversity', 'prolong', 'half', 'witness', 'scientific', 'infectious', 'nosocomial', 'beak', 'type', '0.09', 'blood', 'funding', 'prepare', 'birmingham', 'attribute', 'dipstick', 'misinformation', '20th', 'sweet', 'trigger', 'solid', 'border', 'decrease', 'writer', 'thinking', 'unintended', 'see', 'amount', '1855', 'scheme', 'lancet', 'dose', 'event', 'different', 'un', 'workplace', 'traveler', 'dynamically.in', 'titre', 'worker', 'susceptible', 'application', 'dimensionless', 'day', 'kinshasa', 'avert', 'spreading.hiv', 'minimize', 'christian', 'subsequently', 'helical', 'argentine', 'outside', 'dynamic', 'die', 'report', 'accord', 'evade', 'action', 'disruption', 'principal', 'security', 'access', 'certain', 'primarily', 'previous', 'render', 'london', 'carry', '2020', 'icosahedral', 'system', 'tank', 'heroin', '1636', 'september', '64,472', 'australia', 'sufficiently', 'republic', 'population', 'knowledgeable', 'cause', 'classify', 'finding', 'thousand', 'tanzania', 'seaport', 'aurelius', 'meet', 'guideline', 'cholera', 'decade', '500', 'insect', 'increase', 'sichuan', 'protection', 'integration', 'international', 'place', 'casualty', 'pandemic', 'begin', 'needle', 'seasonal', 'smallpox', 'author', 'flu', 'august', 'vary', 'recently', 'donor', 'supersede', 'war', '2012', 'recurrence', 'capability', 'adapt', 'acute', 'inside', 'pan', 'centers', '12', 'say', 'conform', 'candidate', 'regulation', 'negative', 'study', 'describe', 'rate', 'free', 'operator', '2018.the', 'chlamydia', 'confer', 'parameter', 'sparse', 'supply', 'volume', 'diplomacy', 'mode', 'man', 'encode', 'interfere', 'involved', '20.6', 'central', 'company', 'observation', 'breeding', 'nature', 'compile', 'set', 'effectively', 'hiv', 'iii', '14th', 'facilitate', 'continuously', 'sex', 'improve', 'coordination', 'researcher', 'safe', '1929–1930', '284,000', 'spanish', 'local', 'assessment', 'recommend', 'rome', 'religion', 'border.yunnan', 'shortness', 'accurate.prevention', '2015.sub', 'cover', 'early', 'covid-19', 'burial', 'police', 'strong', '4', 'zinc', 'political', 'effort', 'delivery', 'infection', 'superinfection', 'example', 'index', 'complex', 'april', 'sore', 'virion', 'clinical', 'culprit', '11–21', 'natural', 'spectrum', 'shortlist', 'infectivity', 'actual', 'percentage', 'significant', '2.5', 'nonprofit', 'december', 'mild', 'acquire', 'dormant', 'slow', '80', 'drinking', 'geographic', 'develop', 'tool', 'coli', 'restriction', 'warning', 'north', 'legion', 'demos', 'typically', 'bed.the', 'express', 'non', 'fever', 'owner', 'córdoba', 'seven', 'conclusion', 'ocsme', 'private', 'importation', '249', 'campaign', 'unclear', 'foreign', 'commonly', 'middle', 'originate', '80/20', 'protein', 'reconstruction', 'lack', '12,000', 'millilitre', 'march', 'superspreading', '1595', 'therapy', 'microorganism', 'air', 'pneumonia', 'last', 'organism', 'empire', 'run', 'proportion', 'vibrio', 'aftermath', 'directly', 'wide', '0.08', 'environmental', 'similar', 'preparedness', 'million', 'inflame', 'lovebird', 'eliminate', 'loss', 'illness', 'weekly', 'headache', 'assess', 'simultaneously', 'month', 'gaul', 'add', 'associate', 'usually', 'psittacosis', 'minuscule', '2009', 'contrast', 'hepatitis', 'gene', 'exchange', 'malnourishment', 'culture', 'hard', 'program', 'brest', 'emerge', 'xiii', 'support', 'controversy', 'elasticity', 'transmissibility', 'sexual', '5', 'shortly', '5th', 'unprotected', 'framework', 'capacity', 'pregnancy', 'saliva', 'communicate', 'rehydration', 'promote', 'martinus', '14', 'stop', 'h2n1', 'mathematical', 'preventive', 'immunodeficiency', 'ongoing', 'x.', 'management', 'overlap', 'raise', 'infect', 'billion', 'chronically', 'anthony', 'h1n1', 'relatively', 'polio', 'crisis', 'argentina', 'plant', 'archaea', 'way', 'flavivirus', 'poor', 'facility', 'earth', 'horizontal', 'medication', 'evolve', 'province', 'choice.cholera', 'watery', 'survive', 'commemorate', 'capable', 'hypothetical', 'globally.there', 'calculate', 'biologist', 'outpatient', '15–49', 'people', 'naturally', 'global', 'approach', 'stable', 'purpose', 'policy', 'reproduction', 'pass', 'rare', 'fluid', '2014', 'receive', 'identical', '1603', 'broad', 'chronic', 'contagious', 'france', 'airflow', 'truck', '0.06', 'examiner', 'subtype', 'feature', 'cease', 'assay', 'refer', 'care', 'electrolyte', 'recent', 'postmortem', 'ssev', 'garden', 'ability', 'exercise', 'scenario', 'especially', '262', 'western', 'time', 'hospital', 'nihilent', '15', '30', 'supplementation', 'racism', 'attract', 'statistic', 'fatigue', 'pacific', 'virulence', '0.1%.in', 'like', 'issue', '165', 'active', '587', 'c', 'rise', 'effective', 'capture', 'strategy', 'testing', 'highly', 'currently', 'diarrhea', 'monitoring', 'collaboration', 'domestic', 'national', '1611', 'grant', 'government', 'misdiagnosis', 'hour', '0', 'school', 'aggressive', 'determine', 'england', 'genetic', '575,000', 'monitor', 'king', 'pain', 'produce', 'placeholder', 'cramp', 'infected.in', 'discrimination', 'grow', 'country', 'account', 'regard', 'average', 'bacterial', 'hypodermic', 'old', 'particle', 'morale', 'confinement', 'science', 'shortage', 'zika', 'accurate', 'route', 'assume', 'famine', 'reach', 'bear', 'dependent', 'antiretroviral', 'parish', 'parrot', 'theatrical', '700', 'advance', 'peak', 'function', 'chinese', 'criterion', 'result', 'administration', 'casual', 'cell', 'location', 'winter', 'bacterium', 'sneeze', 'group', 'outbreak', 'fund', 'vomiting', 'black', 'congo', 'link', 'cytomegalovirus', 'complication', 'protect', 'xinjiang', 'clerk', 'stage', 'current', 'basic', 'child', 'guide', 'saharan', 'bring', 'source', 'constant', 'aphid', 'context', 'speculative', 'idea', 'initial', 'certainly', 'immunize', 'ivanovsky', 'r_{0', 'bill', 'educate', 'artificial', 'californian', 'linear', 'united', 'allow', 'immunity', 'wrinkling', 'aire', 'caribbean', 'predict', 'deadly', 'officially', 'model', 'possess', 'discuss', 'molecule', 'dna', 'smell', '1819', 'exist', 'count', 'import', 'high', 'successive', '18,000', 'exposure', 'registrar', 'conflict', '1985', 'bone', 'years.in', 'return', 'inner', '0.03', 'burden', 'animal', 'transfusion', 'psittaci', 'publish', 'recommendation', 'range', 'eventuality', 'gather', 'impression', 'e.g.', 'symptom', '146', '1.1', 'beneficial', 'yunnan', 'disaster', 'filovirus', 'maintain', 'double', 'absolute', '2010', 'ml', 'regent', 'i.e.', 'federal', 'headline', 'gay', 'america', 'successful', 'vaccine', 'afflict', 'future', 'rhine', '0.11', 'infectiousness', 'adult', 'board', 'stress', 'host', 'breastfeeding', 'secretion', '2016', 'symptomatic', 'variety', 'west', 'order', '750', 'multiple', 'occur', 'sustained', 'aviary', 'tetanus', 'gastroenteritis', 'isolation', 'approximately', 'eye', 'contaminate', 'biodefense', 'human', 'indian', 'slightly', '1930', 'individual', 'tanzanian', 'primary', 'mean', 'call', '2,000', 'emergency', 'water', 'act', 'dmitri', 'public', 'absence', 'illness.the', 'institute', 'superspreade', 'denote', 'hand', 'series', 'user', 'sapphire).developed', 'organization', 'common', 'endemic', 'response', '200', 'recession', 'capital', 'mosaic', 'majority', 'kill', 'beijerinck', 'quadrant', 'state', 'r_{0}>1', 'american', 'bacteria', '42,739', '1920', 'weapon', 'sputum', 'prior', 'internet', 'late', '1,841', 'reproductive', 'worshipful', 'buenos', 'overall', 'attack', 'safety', 'drug', 't', 'construction', 'cfr', 'antibiotic', 'spread', 'reproduce', 'use', 'continent', 'mother', 'regular', 'classification', 'crespigny', 'troop', 'specie', 'appear', 'syndrome', 'largely', 'psi', 'sweat', 'han', 'ebola', 'green', '1965', 'americans', 'major', 'magnitude', 'quality', 'h3n2', 'service', 'project', 'circulate', 'accelerate', 'r_{0}<1', 'structure', 'riley', 'tumor', '1995', 'cassius', 'ringer', 'prophylaxis', 'requirement', 'greek', 'fort', 'victim', '17', 'value', 'galen', 'prevent', 'mistake', 'furthermore', 'depend', 'r', 'person', 'south', 'disproportionately', 'reduction', 'solve', 'lockdown', 'time−1', '2', 'measure', 'period', 'latin', 'priority', 'false', 'prefer', 'cure', 'important', 'suspect', 'housewife', 'survival', 'press', 'municipality', 'process', 'tuberculosis', 'cemetery', 'expect', 'tourist', 'possible', 'charter', 'today', 'license', 'salty', 'inadequate', 'virology', 'aids', '37.9', 'pathway', 'zoonotic', 'influenza', 'prevalence', 'role', 'transfer', 'live', 'allergy', 'dropping', 'e.', '1998', 'formation', 'h1n2', 'view', 'feed', 'contagion', 'newspaper', 'atypical', 'combine', 'unsafe', 'army.australian', 'chs', 'date', '27,545', 'hiv-1', 'death', 'epidemiological', 'responsibility', 'imbalance', 'release', 'measle', 'instance', '1980s', 'cholerae', 'incidence', '1989', 'show', 'come', 'microscope', 'likely', 'hpv', 'breathe', 'region', 'intend', 'help', '75–200', 'unusually', 'age', 'particles.viral', 'immune', 'recognize', 'pronounce', 'load', 'county', 'nation', '1918', 'low', 'r_{t', '110', 'exposure.cholera', 'concerned', 'mid', 'city', 'marrow', 'adopt', 'disinfect', 'eastern', 'evaluate', 'push', 'food', 'family', 'bluish', 'convention', '165–166', 'faecal', 'crash', 'york', 'description', 'viral', 'blueprint', 'history.the', 'piece', 'need', '7.06', 'put', 'record', 'rotavirus', 'coughing', 'steady', 'correlate', 'uninfected', 'simulation', 'strain', '1997', 'eutropius', 'manpower', 'incubation', 'chicago', 'production', '−', 'duration', '1892', 'situation', 'ocme', '\\\\displaystyle', 'definition', 'southeast', 'accompany', '0.3', 'agree', 'second', 'over.subsequent', 'jersey', 'technology', 'mesopotamian', 'collect', '2017.south', 'alfonso', 'titer', 'chance', 'e', 'australian', 'form', 'agent', 'widow', 'break', 'simpson', 'research', 'independent', '166', 'awareness', 'evaluation', 'rafe', 'indo', 'make', 'confirm', 'risk', 'pathogen', 'suppression', 'mask', 'discovery', 'database', 'container', 'seafood', 'mortality', 'term', 'conversely', 'certainty', 'encourage', 'intravenous', '2007', 'severe', 'democratic', 'obsolete', 'position', 'nearly', 'routine', 'focus', 'worldwide', 'lucius', 'identification', 'transmission', 'effect', 'replace', 'borne', 'recover', 'retroviruses.method', 'washing', 'pre-', 'army', 'remain', 'carthage', 'journal', 'china', 'module', 'transplantation', 'participate', 'require', 'transportation', 'illegally', 'enable', 'kingdom', '32', 'analysis', 'loss.hiv', 'concern', 'simple', 'replacement', 'self-replicators.viruses', 'list', 'lactate', 'contacts.ssev', 'widespread', 'generate', 'historical', 'pig', 'breath', 'closure', 'evolution', '180', 'contain', 'suburban', 'siv', 'present', 'r_{e', 'sanitation', 'health', 'johns', 'possibly', 'near', 'undercooked', 'hhs', 'number', 'growth', 'face', 'able', '28,877', 'great', 'outline', 'base', 'visitor', 'coat', '<', 'haskell', 'mouth', 'year', '2019', 'bloomberg', 'rapidly', 'gradual', 'jump', 'consequence', 'envelope', 'subject', 'capsid', 'prevention', 'perceive', 'weight', 'rapid', 'bishop', 'grave', 'reasonable', 'household', '1', 'brazil', 'potential', 'agency', 'shedding', 'network', 'charge', 'mobile', 'later', 'exclude', 'life', '1993', 'difficulty', 'fast', 'bc', '2000', 'sars', 'microbiology', 'de', 'useful', 'biological', 'canada', 'optical', 'trace', 'mass', 'scale', 'area', 'confuse', 'oiv', 'characteristic', 'create', '2005', '1929', 'unforeseen', 'entity', 'identify', 'africa', 'physician', 'governmental', 'activate', 'material', 'necessary', 'hospitalization', 'ad', 'offer', 'john', 'implication', 'bird', 'immunization', 'compare', 'vaccination', 'icra', 'diagnosis', 'b', 'sea', 'laboratory', 'history', '2015', 'propose', 'condition', 'flight', '250,000', 'oral', 'marcus', 'superspreader', '>', 'prolonged', 'mainly', 'official', 'continually', 'conduct', '39.5', 'explanation', 'expose', 'rice', 'literature', 'somewhat', 'permission', 'lead', 'discomfort', 'antiviral', 'resource', 'sinologist', 'vaccines', '1898', 'saffir', 'solution', 'camp', 'economic', 'hopkins', 'muscle', 'general', 'eradicate', 'incident', '31,156', 'force', 'flexible', 'plasmid', 'district', 'detail', 'decline', 'h3n1', 'january', 'discover', 'organ', 'toll', 'secondary', 'travel', 'particularly', 'speculate', 'misconception', 'quarter', 'provide', 'severely', 'society', 'storm', 'u.s', 'crimson', 'efficacy', 'fauci', 'kansas', 'declare', 'surface', 'bioeconomy', 'chill', 'original', 'launch', 'post', 'progress', 'germany', 'normal', 'sick', 'expected', 'submicroscopic', 'follow', 'wave', 'subsequent', 'developed', 'usaid', 'ban', 'ocean', 'represent', 'driver', 'indigenous', 'respect', 'take', 'engineering', 'entire', 'numerous', 'wuhan', '189', 'severity', 'primate', 'include', 'limited', 'globally', '61', 'maximum', '800', 'contract', 'woman', 'expectancy', 'filtering', 'treatment', 'unknown', 's', 'etc', 'cold', 'vector', 'distress', 'baby', 'epidemiology', 'know', 'odd', '169', 'particular', 'transmit', '770,000', 'foot', 'benefit', 'write', 'specific', 'social', '6.8', 'intestine', 'involve', 'rule', 'problem', 'suck', 'india', 'education', 'copy', 'deliberate', 'shape', 'size', 'visit', 'inhaling', 'soon', 'cytokine', 'immunocompromise', 'rna', 'healthcare', 'historian', 'affected', 'work', 'analogous', 'scientist', 'cyprian', 'trade', '100', 'opportunistic', 'course', 'clinician', 'resemble', 'selection', '1840', 'migrant', 'antibody', 'globe', 'hundred', 'simultaneous', '311', 'self', 'extreme', 'ventilation', 'reduce', 'sap', 'classic', 'replicate', 'asia', 'unified', 'appropriate', '1983', 'roman', 'sourcing', 'office', 'community', 'antoninus', 'collaborative', '11', 'amazon', 'tear', 'mitigation', 'quantity', 'information', 'go', 'xenophobia', 'spain', 'note', 'long', '1981', 'historically', 'many.viral', 'impact', '1858', 'hazard', '150,000', 'infected', 'verus', 'evolutionary', 'century', 'concept', 'datum', 'implement', '1592', 'case', 'interest', 'fatality', 'maryland', 'brief', 'test', '20', 'previously', 'control', 'clean', 'depression', '0.05', 'start', 'subspeciality', 'sharing', 'method', '2018', 'center', 'article', 'modern', 'total', '2017', 'february', 'belief', 'works', 'abbreviate', 'planning', 'expert', 'seek', 'stool', 'x', '4.5', 'give', 'prove', 'find', 'build', 'edge', 'sanskrit', 'responsible', 'lipid', 'document', 'story', 'plague', 'environment', 'extra', 'co', 'coronavirus', 'november', 'understand']\n"
          ]
        }
      ],
      "source": [
        "# concatenate all tokenized texts into a single list\n",
        "tokenized_texts = [s[\"tokenized_text\"] for s in summaries]\n",
        "print(tokenized_texts)\n",
        "\n",
        "# flatten the list of lists (use itertools.chain)\n",
        "vocab = list(itertools.chain(*tokenized_texts))\n",
        "\n",
        "# remove duplicates\n",
        "vocab = list(set(vocab)) \n",
        "print(vocab)"
      ]
    },
    {
      "cell_type": "code",
      "execution_count": 18,
      "metadata": {
        "id": "RowPIk9VIdbP"
      },
      "outputs": [],
      "source": [
        "# save the vocabulary as a json file\n",
        "with open(DATA_DIR + 'vocab.json', 'w') as outfile:\n",
        "    json.dump(vocab, outfile)"
      ]
    },
    {
      "cell_type": "markdown",
      "source": [
        "### **Calculating term and document frequency**"
      ],
      "metadata": {
        "id": "el47uvcRhA4F"
      }
    },
    {
      "cell_type": "code",
      "execution_count": 19,
      "metadata": {
        "id": "pnRtMop3IdbQ",
        "colab": {
          "base_uri": "https://localhost:8080/"
        },
        "outputId": "27755e84-1f2f-4d49-e90c-ca2d2ccbc531"
      },
      "outputs": [
        {
          "output_type": "stream",
          "name": "stdout",
          "text": [
            "[Counter({'pandemic': 7, 'people': 5, 'disease': 4, 'number': 4, 'spread': 2, 'large': 2, 'region': 2, 'worldwide': 2, 'widespread': 2, 'endemic': 2, 'stable': 2, 'infected': 2, 'influenza': 2, 'history': 2, 'include': 2, 'greek': 1, 'πᾶν': 1, 'pan': 1, 'δῆμος': 1, 'demos': 1, 'epidemic': 1, 'infectious': 1, 'instance': 1, 'multiple': 1, 'continent': 1, 'affect': 1, 'substantial': 1, 'recurrence': 1, 'seasonal': 1, 'generally': 1, 'exclude': 1, 'occur': 1, 'simultaneously': 1, 'globe': 1, 'human': 1, 'smallpox': 1, 'tuberculosis': 1, 'fatal': 1, 'record': 1, 'black': 1, 'death': 1, 'know': 1, 'plague': 1, 'kill': 1, 'estimate': 1, '75–200': 1, 'million': 1, '14th': 1, 'century': 1, 'term': 1, 'later': 1, '1918': 1, 'spanish': 1, 'flu': 1, 'current': 1, 'covid-19': 1, 'sars': 1, 'cov-2': 1, 'hiv': 1, 'aids': 1}), Counter({'hiv': 17, '2017': 12, 'million': 8, 'people': 8, 'aids': 6, 'global': 6, 'prevalence': 6, 'incidence': 5, 'africa': 5, 'infect': 4, 'death': 4, 'infection': 4, 'ratio': 4, 'central': 4, 'asia': 4, 'approximately': 3, 'estimate': 3, 'year': 3, 'region': 3, 'western': 3, 'europe': 3, '0.06': 3, 'east': 3, 'population': 3, 'case': 3, 'virus': 2, 'pandemic': 2, '2018': 2, 'report': 2, '1997': 2, 'fall': 2, '2005': 2, 'new': 2, 'north': 2, 'america': 2, 'low': 2, 'mortality': 2, '2000': 2, 'eastern': 2, '0.05': 2, 'south': 2, '2010': 2, '30': 2, 'canada': 2, 'nearly': 2, 'cause': 2, 'human': 1, 'immunodeficiency': 1, 'consider': 1, 'author': 1, 'currently': 1, 'use': 1, 'term': 1, 'epidemic': 1, 'describe': 1, '37.9': 1, 'globally.there': 1, '770,000': 1, '2018.the': 1, '2015': 1, 'burden': 1, 'disease': 1, 'study': 1, 'publish': 1, 'lancet': 1, 'peak': 1, '3.3': 1, 'rapidly': 1, '2.6': 1, 'remain': 1, 'stable': 1, '2015.sub': 1, 'saharan': 1, 'affected': 1, '61': 1, 'occur': 1, 'decline': 1, '17': 1, 'see': 1, '0.03': 1, 'strong': 1, 'steady': 1, 'reduction': 1, 'southern': 1, 'push': 1, '0.11': 1, '0.04': 1, 'progress': 1, 'gradual': 1, 'pacific': 1, 'latin': 1, 'caribbean': 1, 'middle': 1, '0.08': 1, '0.09': 1, 'large': 1, 'country': 1, 'world': 1, '7.06': 1, 'tanzania': 1, '4.5': 1, 'tanzanian': 1, 'adult': 1, 'age': 1, '15–49': 1, '2017.south': 1, '2': 1, 'billion': 1, '4': 1, '12': 1, '250,000': 1, '2.5': 1, 'india': 1, '0.3': 1, 'somewhat': 1, 'high': 1, 'find': 1, '0.1%.in': 1, '1': 1, 'united': 1, 'states': 1, '14': 1, 'realize': 1, 'infected.in': 1, '93,385': 1, '64,472': 1, 'man': 1, '28,877': 1, 'woman': 1, 'live': 1, 'diagnose': 1, 'receive': 1, 'care': 1, 'uk': 1, '428': 1, '42,739': 1, '50': 1, 'gay': 1, 'bisexual': 1, 'small': 1, 'segment': 1, 'overall': 1, 'australia': 1, '27,545': 1, '2016': 1, '63,110': 1, 'cases.a': 1, 'reconstruction': 1, 'genetic': 1, 'history': 1, 'show': 1, 'certainly': 1, 'originate': 1, 'kinshasa': 1, 'capital': 1, 'democratic': 1, 'republic': 1, 'congo': 1, '1920': 1, 'recognize': 1, '1981': 1, '1983': 1, 'discover': 1, 'identify': 1, '2009': 1}), Counter({'plague': 8, 'roman': 7, 'affect': 3, 'ad': 2, 'galen': 2, 'ancient': 2, 'pandemic': 2, 'empire': 2, 'die': 2, 'antoninus': 2, 'population': 2, 'historian': 2, 'disease': 2, 'break': 2, 'death': 2, 'antonine': 1, '165': 1, '180': 1, 'know': 1, 'physician': 1, 'describe': 1, 'bring': 1, 'troop': 1, 'return': 1, 'campaign': 1, 'near': 1, 'east': 1, 'scholar': 1, 'suspect': 1, 'smallpox': 1, 'measle': 1, 'claim': 1, 'life': 1, 'emperor': 1, 'lucius': 1, 'verus': 1, '169': 1, 'co': 1, 'regent': 1, 'marcus': 1, 'aurelius': 1, 'family': 1, 'associate': 1, 'source': 1, 'agree': 1, 'appear': 1, 'siege': 1, 'mesopotamian': 1, 'city': 1, 'seleucia': 1, 'winter': 1, '165–166': 1, 'ammianus': 1, 'marcellinus': 1, 'report': 1, 'spread': 1, 'gaul': 1, 'legion': 1, 'rhine': 1, 'eutropius': 1, 'state': 1, 'large': 1, 'accord': 1, 'contemporary': 1, 'cassius': 1, 'dio': 1, 'year': 1, 'later': 1, '189': 1, 'cause': 1, '2,000': 1, 'day': 1, 'rome': 1, 'quarter': 1, 'total': 1, 'count': 1, 'estimate': 1, '5': 1, 'million': 1, 'kill': 1, 'area': 1, 'devastate': 1, 'army.australian': 1, 'sinologist': 1, 'rafe': 1, 'de': 1, 'crespigny': 1, 'speculate': 1, 'eastern': 1, 'han': 1, 'china': 1, '166': 1, 'notice': 1, 'chinese': 1, 'record': 1, 'culture': 1, 'literature': 1, 'severely': 1, 'indo': 1, 'trade': 1, 'relation': 1, 'indian': 1, 'ocean': 1}), Counter({'r': 17, '\\\\displaystyle': 14, '0': 11, 'population': 10, 'number': 9, 'r_{0': 9, 'infection': 8, '1': 8, 'value': 7, 'basic': 6, 'reproduction': 5, 'model': 5, 'susceptible': 4, 'spread': 4, 'case': 3, 'state': 3, 'immunize': 3, 'disease': 3, 'time': 3, 'estimate': 3, 'proportion': 3, 'people': 3, 'reproductive': 2, 'rate': 2, 'generate': 2, 'individual': 2, 'definition': 2, 'vaccination': 2, 'usually': 2, 't': 2, 'important': 2, 'unit': 2, 'affect': 2, 'factor': 2, 'infected': 2, 'give': 2, 'use': 2, 'determine': 2, 'large': 2, 'epidemiology': 1, 'call': 1, 'ratio': 1, 'denote': 1, 'pronounce': 1, 'nought': 1, 'zero': 1, 'think': 1, 'expected': 1, 'directly': 1, 'describe': 1, 'infect': 1, 'naturally': 1, 'australian': 1, 'department': 1, 'health': 1, 'add': 1, 'absence': 1, 'deliberate': 1, 'intervention': 1, 'transmission': 1, 'confuse': 1, 'effective': 1, 'write': 1, 'r_{t': 1, 'e': 1, 'r_{e': 1, 'current': 1, 'uninfected': 1, 'note': 1, 'dimensionless': 1, 'time−1': 1, 'like': 1, 'double': 1, 'biological': 1, 'constant': 1, 'pathogen': 1, 'environmental': 1, 'condition': 1, 'behaviour': 1, 'furthermore': 1, 'mathematical': 1, 'dependent': 1, 'parameter': 1, 'literature': 1, 'sense': 1, 'context': 1, 'recommend': 1, 'obsolete': 1, 'compare': 1, 'base': 1, 'different': 1, 'fast': 1, 'emerge': 1, 'infectious': 1, 'eradicate': 1, 'commonly': 1, '>': 1, 'r_{0}>1': 1, 'able': 1, 'start': 1, '<': 1, 'r_{0}<1': 1, 'generally': 1, 'hard': 1, 'control': 1, 'epidemic': 1, 'simple': 1, 'need': 1, 'effectively': 1, 'mean': 1, 'prevent': 1, 'sustained': 1, '−': 1, 'conversely': 1, 'remain': 1, 'endemic': 1, 'equilibrium': 1, 'include': 1, 'duration': 1, 'infectivity': 1, 'affected': 1, 'infectiousness': 1, 'microorganism': 1, 'contact': 1}), Counter({'london': 5, 'parish': 5, 'area': 5, 'bill': 4, 'weekly': 3, 'mortality': 2, 'statistic': 2, 'burial': 2, 'return': 2, 'design': 1, 'monitor': 1, '1592': 1, '1595': 1, 'continuously': 1, '1603': 1, 'responsibility': 1, 'produce': 1, 'charter': 1, '1611': 1, 'worshipful': 1, 'company': 1, 'clerk': 1, 'cover': 1, 'start': 1, 'expand': 1, 'grow': 1, 'city': 1, 'reach': 1, 'maximum': 1, 'extent': 1, '1636': 1, 'new': 1, 'add': 1, 'ancient': 1, 'divide': 1, 'factor': 1, 'use': 1, 'suburban': 1, 'cemetery': 1, 'outside': 1, 'exemption': 1, 'extra': 1, 'parochial': 1, 'place': 1, 'wide': 1, 'growth': 1, 'metropolis': 1, 'record': 1, 'death': 1, 'render': 1, 'datum': 1, 'incomplete': 1, 'production': 1, 'go': 1, 'decline': 1, '1819': 1, 'cease': 1, 'provide': 1, 'survive': 1, 'date': 1, '1858': 1, 'supersede': 1, 'registrar': 1, 'general': 1, '1840': 1, 'take': 1, '1847': 1, 'district': 1, 'metropolitan': 1, 'board': 1, 'works': 1, '1855': 1, 'county': 1, '1889': 1, 'inner': 1, '1965': 1}), Counter({'cholera': 8, 'severe': 5, 'cause': 4, 'disease': 4, 'affect': 4, 'death': 4, 'symptom': 3, 'diarrhea': 3, 'occur': 3, 'skin': 3, 'type': 3, 'water': 3, 'risk': 3, 'include': 3, 'test': 3, 'vibrio': 2, 'cholerae': 2, 'large': 2, 'day': 2, 'lead': 2, 'hour': 2, 'dehydration': 2, 'result': 2, 'unsafe': 2, 'human': 2, 'sanitation': 2, 'clean': 2, 'rate': 2, 'access': 2, 'treatment': 2, 'fluid': 2, 'solution': 2, 'child': 2, 'antibiotic': 2, 'million': 2, 'year': 2, 'outbreak': 2, 'area': 2, 'high': 2, 'infection': 1, 'small': 1, 'intestine': 1, 'strain': 1, 'bacterium': 1, 'range': 1, 'mild': 1, 'classic': 1, 'amount': 1, 'watery': 1, 'last': 1, 'vomiting': 1, 'muscle': 1, 'cramp': 1, 'electrolyte': 1, 'imbalance': 1, 'sink': 1, 'eye': 1, 'cold': 1, 'decrease': 1, 'elasticity': 1, 'wrinkling': 1, 'hand': 1, 'foot': 1, 'turn': 1, 'bluish': 1, 'start': 1, 'exposure.cholera': 1, 'number': 1, 'produce': 1, 'spread': 1, 'food': 1, 'contaminate': 1, 'fece': 1, 'contain': 1, 'bacteria': 1, 'undercooked': 1, 'seafood': 1, 'common': 1, 'source': 1, 'animal': 1, 'factor': 1, 'poor': 1, 'drinking': 1, 'poverty': 1, 'concern': 1, 'rise': 1, 'sea': 1, 'level': 1, 'increase': 1, 'diagnose': 1, 'stool': 1, 'rapid': 1, 'dipstick': 1, 'available': 1, 'accurate.prevention': 1, 'method': 1, 'improve': 1, 'vaccine': 1, 'give': 1, 'mouth': 1, 'provide': 1, 'reasonable': 1, 'protection': 1, 'month': 1, 'add': 1, 'benefit': 1, 'protect': 1, 'e.': 1, 'coli': 1, 'primary': 1, 'oral': 1, 'rehydration': 1, 'therapy': 1, 'replacement': 1, 'slightly': 1, 'sweet': 1, 'salty': 1, 'rice': 1, 'base': 1, 'prefer': 1, 'zinc': 1, 'supplementation': 1, 'useful': 1, 'case': 1, 'intravenous': 1, 'ringer': 1, 'lactate': 1, 'require': 1, 'beneficial': 1, 'susceptible': 1, 'help': 1, 'guide': 1, 'choice.cholera': 1, 'estimate': 1, '3–5': 1, 'people': 1, 'worldwide': 1, '28,800–130,000': 1, 'classify': 1, 'pandemic': 1, '2010': 1, 'rare': 1, 'developed': 1, 'world': 1, 'chronically': 1, 'certain': 1, 'ongoing': 1, 'africa': 1, 'southeast': 1, 'asia': 1, 'usually': 1, '5': 1, '50': 1, 'description': 1, 'find': 1, 'early': 1, '5th': 1, 'century': 1, 'bc': 1, 'sanskrit': 1, 'study': 1, 'england': 1, 'john': 1, 'snow': 1, '1849': 1, '1854': 1, 'significant': 1, 'advance': 1, 'field': 1, 'epidemiology': 1, 'seven': 1, '200': 1}), Counter({'pandemic': 4, 'include': 4, 'covid-19': 3, 'coronavirus': 3, '2020': 3, 'million': 3, 'know': 2, 'disease': 2, '2019': 2, 'cause': 2, 'acute': 2, 'respiratory': 2, 'syndrome': 2, 'cough': 2, 'day': 2, 'symptomatic': 2, 'social': 2, 'global': 2, 'affect': 2, 'chinese': 2, 'ongoing': 1, 'severe': 1, '2': 1, 'sars': 1, 'cov-2': 1, 'identify': 1, 'december': 1, 'wuhan': 1, 'china': 1, 'outbreak': 1, 'declare': 1, 'public': 1, 'health': 1, 'emergency': 1, 'international': 1, 'concern': 1, 'january': 1, 'march': 1, '17': 1, 'october': 1, '39.5': 1, 'case': 1, 'confirm': 1, '1.1': 1, 'death': 1, 'attribute': 1, 'common': 1, 'symptom': 1, 'fever': 1, 'fatigue': 1, 'breathe': 1, 'difficulty': 1, 'loss': 1, 'smell': 1, 'complication': 1, 'pneumonia': 1, 'distress': 1, 'incubation': 1, 'period': 1, 'typically': 1, 'range': 1, '14': 1, 'vaccine': 1, 'candidate': 1, 'development': 1, 'prove': 1, 'safety': 1, 'efficacy': 1, 'specific': 1, 'antiviral': 1, 'medication': 1, 'primary': 1, 'treatment': 1, 'currently': 1, 'recommend': 1, 'preventive': 1, 'measure': 1, 'hand': 1, 'washing': 1, 'cover': 1, 'mouth': 1, 'wear': 1, 'face': 1, 'mask': 1, 'sneeze': 1, 'distancing': 1, 'disinfect': 1, 'surface': 1, 'ventilation': 1, 'air': 1, 'filtering': 1, 'monitoring': 1, 'self': 1, 'isolation': 1, 'expose': 1, 'travel': 1, 'restriction': 1, 'lockdown': 1, 'workplace': 1, 'hazard': 1, 'control': 1, 'facility': 1, 'closure': 1, 'implement': 1, 'place': 1, 'work': 1, 'increase': 1, 'testing': 1, 'capacity': 1, 'trace': 1, 'contact': 1, 'infect': 1, 'economic': 1, 'disruption': 1, 'large': 1, 'recession': 1, 'great': 1, 'depression': 1, 'extreme': 1, 'poverty': 1, 'famine': 1, 'hundred': 1, 'inflame': 1, 'supply': 1, 'shortage': 1, 'event': 1, 'environment': 1, 'education': 1, 'system': 1, 'misinformation': 1, 'virus': 1, 'circulate': 1, 'globally': 1, 'incident': 1, 'xenophobia': 1, 'racism': 1, 'people': 1, 'perceive': 1, 'area': 1, 'high': 1, 'infection': 1, 'rate': 1}), Counter({'pandemic': 3, 'virus': 3, 'exercise': 2, 'conduct': 2, 'state': 2, 'capacity': 2, 'federal': 2, 'government': 2, 'respond': 2, 'china': 2, 'month': 2, 'million': 2, 'crimson': 1, 'contagion': 1, 'joint': 1, 'january': 1, 'august': 1, '2019': 1, 'numerous': 1, 'national': 1, 'local': 1, 'private': 1, 'public': 1, 'organization': 1, 'participate': 1, 'order': 1, 'test': 1, 'severe': 1, 'influenza': 1, 'originating': 1, 'simulation': 1, 'prior': 1, 'start': 1, 'covid-19': 1, 'involve': 1, 'scenario': 1, 'tourist': 1, 'return': 1, 'spread': 1, 'respiratory': 1, 'united': 1, 'states': 1, 'begin': 1, 'chicago': 1, 'infect': 1, '110': 1, 'americans': 1, 'kill': 1, 'half': 1, 'report': 1, 'issue': 1, 'conclusion': 1, 'outline': 1, 'limited': 1, 'agency': 1, 'lack': 1, 'fund': 1, 'coordination': 1, 'resource': 1, 'facilitate': 1, 'effective': 1, 'response': 1}), Counter({'disease': 5, 'e.g.': 3, 'virus': 3, 'strain': 3, 'x': 2, 'placeholder': 2, 'adopt': 2, 'unknown': 2, 'pathogen': 2, 'cause': 2, 'world': 1, 'health': 1, 'organization': 1, 'february': 1, '2018': 1, 'shortlist': 1, 'blueprint': 1, 'priority': 1, 'represent': 1, 'hypothetical': 1, 'future': 1, 'epidemic': 1, 'ensure': 1, 'planning': 1, 'sufficiently': 1, 'flexible': 1, 'adapt': 1, 'broad': 1, 'vaccine': 1, 'manufacture': 1, 'facility': 1, 'director': 1, 'national': 1, 'institute': 1, 'allergy': 1, 'infectious': 1, 'anthony': 1, 'fauci': 1, 'state': 1, 'concept': 1, 'encourage': 1, 'project': 1, 'focus': 1, 'research': 1, 'effort': 1, 'entire': 1, 'class': 1, 'flavivirus': 1, 'instead': 1, 'individual': 1, 'zika': 1, 'improve': 1, 'capability': 1, 'respond': 1, 'unforeseen': 1, '2020': 1, 'speculate': 1, 'include': 1, 'expert': 1, 'advisor': 1, 'covid-19': 1, 'sars': 1, 'cov-2': 1, 'meet': 1, 'requirement': 1, 'x.': 1}), Counter({'health': 6, 'center': 4, 'johns': 3, 'hopkins': 3, 'security': 2, 'upmc': 2, 'biosecurity': 2, 'organization': 2, 'biological': 2, 'weapon': 2, 'policy': 2, 'abbreviate': 1, 'chs': 1, 'previously': 1, 'civilian': 1, 'biodefense': 1, 'strategy': 1, 'independent': 1, 'nonprofit': 1, 'bloomberg': 1, 'school': 1, 'public': 1, 'environmental': 1, 'engineering': 1, 'department': 1, 'concerned': 1, 'area': 1, 'consequence': 1, 'epidemic': 1, 'disaster': 1, 'avert': 1, 'development': 1, 'implication': 1, 'bioeconomy': 1, 'think': 1, 'tank': 1, 'research': 1, 'give': 1, 'recommendation': 1, 'united': 1, 'states': 1, 'government': 1, 'world': 1, 'un': 1, 'convention': 1}), Counter({'infection': 9, 'hiv': 8, 'aids': 7, 'disease': 7, 'virus': 4, 'large': 4, 'human': 3, 'immunodeficiency': 3, 'immune': 3, 'cause': 3, 'symptom': 3, 'sex': 3, 'include': 3, 'prevention': 3, 'treatment': 3, 'million': 3, 'identify': 3, 'early': 3, 'acquire': 2, 'syndrome': 2, 'follow': 2, 'period': 2, 'illness': 2, 'people': 2, 'normal': 2, 'needle': 2, 'mother': 2, 'child': 2, 'transmit': 2, 'antiretroviral': 2, 'time': 2, '2018': 2, 'live': 2, 'death': 2, 'estimate': 2, 'africa': 2, '1980s': 2, 'impact': 2, 'deficiency': 1, 'spectrum': 1, 'condition': 1, 'initial': 1, 'person': 1, 'notice': 1, 'experience': 1, 'brief': 1, 'influenza': 1, 'like': 1, 'typically': 1, 'prolonged': 1, 'progress': 1, 'interfere': 1, 'system': 1, 'increase': 1, 'risk': 1, 'develop': 1, 'common': 1, 'tuberculosis': 1, 'opportunistic': 1, 'tumor': 1, 'rare': 1, 'function': 1, 'late': 1, 'refer': 1, 'stage': 1, 'associate': 1, 'unintended': 1, 'weight': 1, 'loss.hiv': 1, 'spread': 1, 'primarily': 1, 'unprotected': 1, 'anal': 1, 'oral': 1, 'contaminate': 1, 'blood': 1, 'transfusion': 1, 'hypodermic': 1, 'pregnancy': 1, 'delivery': 1, 'breastfeeding': 1, 'bodily': 1, 'fluid': 1, 'saliva': 1, 'sweat': 1, 'tear': 1, 'member': 1, 'group': 1, 'know': 1, 'retroviruses.method': 1, 'safe': 1, 'exchange': 1, 'program': 1, 'treat': 1, 'infect': 1, 'pre-': 1, 'post': 1, 'exposure': 1, 'prophylaxis': 1, 'baby': 1, 'prevent': 1, 'give': 1, 'medication': 1, 'cure': 1, 'vaccine': 1, 'slow': 1, 'course': 1, 'lead': 1, 'near': 1, 'life': 1, 'expectancy': 1, 'recommend': 1, 'soon': 1, 'diagnosis': 1, 'average': 1, 'survival': 1, '11': 1, 'years.in': 1, '37.9': 1, 'result': 1, '770,000': 1, '20.6': 1, 'eastern': 1, 'southern': 1, '32': 1, 'worldwide': 1, 'consider': 1, 'pandemic': 1, 'outbreak': 1, 'present': 1, 'area': 1, 'actively': 1, 'spreading.hiv': 1, 'jump': 1, 'primate': 1, 'west': 1, 'central': 1, 'mid': 1, '20th': 1, 'century': 1, 'recognize': 1, 'united': 1, 'states': 1, 'centers': 1, 'control': 1, 'cdc': 1, '1981': 1, 'decade': 1, 'society': 1, 'source': 1, 'discrimination': 1, 'economic': 1, 'misconception': 1, 'belief': 1, 'casual': 1, 'non': 1, 'sexual': 1, 'contact': 1, 'subject': 1, 'controversy': 1, 'involve': 1, 'religion': 1, 'catholic': 1, 'church': 1, 'position': 1, 'support': 1, 'condom': 1, 'use': 1, 'attract': 1, 'international': 1, 'medical': 1, 'political': 1, 'attention': 1, 'scale': 1, 'funding': 1}), Counter({'china': 5, 'people': 4, 'report': 3, 'aids': 3, 'case': 3, 'user': 3, 'hiv': 3, 'worker': 3, 'virus': 3, '1989': 2, 'province': 2, 'near': 2, 'area': 2, 'appear': 2, 'drug': 2, 'border': 2, 'disease': 2, 'country': 2, 'spread': 2, 'general': 2, 'population': 2, 'sex': 2, 'republic': 1, 'identify': 1, '1985': 1, 'die': 1, 'tourist': 1, 'indigenous': 1, 'outbreak': 1, '146': 1, 'infected': 1, 'heroin': 1, 'yunnan': 1, 'southwest': 1, 'border.yunnan': 1, 'affect': 1, 'infection': 1, 'needle': 1, 'sharing': 1, 'burmese': 1, '1993': 1, 'remain': 1, 'problem': 1, 'mobile': 1, 'truck': 1, 'driver': 1, 'construction': 1, 'migrant': 1, 'traveler': 1, 'bring': 1, '1995': 1, 'sichuan': 1, 'xinjiang': 1, '1998': 1, 'low': 1, 'awareness': 1, 'major': 1, 'culprit': 1, 'chinese': 1, 'consider': 1, 'foreign': 1, 'issue': 1, 'educate': 1, 'knowledgeable': 1, 'transmission': 1, 'prevention': 1, 'recently': 1, 'use': 1, 'condom': 1, 'common': 1, 'client': 1, 'result': 1, 'epidemic': 1, 'high': 1, 'risk': 1, 'group': 1, 'unsafe': 1, 'blood': 1, 'donor': 1}), Counter({'pandemic': 7, 'measure': 3, 'prevention': 2, 'organization': 1, 'management': 1, 'preventive': 1, 'include': 1, 'reduce': 1, 'cause': 1, 'new': 1, 'infectious': 1, 'disease': 1, 'prevent': 1, 'outbreak': 1, 'epidemic': 1, 'mistake': 1, 'preparedness': 1, 'mitigation': 1, 'largely': 1, 'seek': 1, 'mitigate': 1, 'magnitude': 1, 'negative': 1, 'effect': 1, 'overlap': 1, 'respect': 1}), Counter({'pandemic': 8, 'severity': 7, 'rate': 7, 'attack': 4, 'assessment': 3, 'psaf': 3, 'measure': 3, 'case': 3, 'framework': 2, 'transmissibility': 2, 'clinical': 2, 'fatality': 2, 'hospitalization': 2, 'ratio': 2, 'cdc': 2, 'official': 2, 'tool': 2, 'evaluation': 1, 'use': 1, 'quadrant': 1, 'evaluate': 1, 'combine': 1, 'overall': 1, 'impact': 1, 'estimate': 1, 'calculate': 1, 'multiple': 1, 'include': 1, 'death': 1, 'viral': 1, 'available': 1, 'datum': 1, 'secondary': 1, 'household': 1, 'school': 1, 'workplace': 1, 'community': 1, 'emergency': 1, 'department': 1, 'outpatient': 1, 'visit': 1, 'influenza': 1, 'like': 1, 'illness.the': 1, 'supersede': 1, '2007': 1, 'linear': 1, 'index': 1, 'psi': 1, 'assume': 1, '30': 1, 'spread': 1, 'cfr': 1, 'assess': 1, 'evolution': 1, 'united': 1, 'states': 1, 'centers': 1, 'disease': 1, 'control': 1, 'prevention': 1, 'adopt': 1, '2014': 1, 'list': 1, 'national': 1, 'strategy': 1, 'time': 1, 'covid-19': 1}), Counter({'pandemic': 4, 'severity': 4, 'psi': 3, 'scale': 3, 'index': 2, 'classification': 2, 'united': 2, 'states': 2, 'propose': 1, 'report': 1, 'influenza': 1, 'accompany': 1, 'set': 1, 'guideline': 1, 'intend': 1, 'help': 1, 'communicate': 1, 'appropriate': 1, 'action': 1, 'community': 1, 'follow': 1, 'potential': 1, 'situation': 1, 'release': 1, 'department': 1, 'health': 1, 'human': 1, 'service': 1, 'hhs': 1, 'february': 1, '1': 1, '2007': 1, 'design': 1, 'resemble': 1, 'saffir': 1, 'simpson': 1, 'hurricane': 1, 'scheme': 1, 'replace': 1, 'assessment': 1, 'framework': 1, '2014': 1, 'use': 1, 'quadrant': 1, 'base': 1, 'transmissibility': 1, 'clinical': 1, 'linear': 1}), Counter({'plague': 4, 'cyprian': 2, 'pandemic': 2, 'roman': 2, 'empire': 2, 'afflict': 1, 'ad': 1, '249': 1, '262': 1, 'think': 1, 'cause': 1, 'widespread': 1, 'manpower': 1, 'shortage': 1, 'food': 1, 'production': 1, 'army': 1, 'severely': 1, 'weaken': 1, 'crisis': 1, 'century': 1, 'modern': 1, 'commemorate': 1, 'st': 1, 'bishop': 1, 'carthage': 1, 'early': 1, 'christian': 1, 'writer': 1, 'witness': 1, 'describe': 1, 'agent': 1, 'highly': 1, 'speculative': 1, 'sparse': 1, 'sourcing': 1, 'suspect': 1, 'include': 1, 'smallpox': 1, 'influenza': 1, 'viral': 1, 'hemorrhagic': 1, 'fever': 1, 'filovirus': 1, 'like': 1, 'ebola': 1, 'virus': 1}), Counter({'program': 2, 'predict': 1, 'epidemiological': 1, 'research': 1, 'fund': 1, 'united': 1, 'states': 1, 'agency': 1, 'international': 1, 'development': 1, 'usaid': 1, 'grant': 1, 'launch': 1, '2009': 1, 'describe': 1, 'early': 1, 'warning': 1, 'pandemic': 1, 'system': 1}), Counter({'parrot': 11, 'bird': 7, 'outbreak': 5, 'case': 5, 'psittacosis': 4, 'pandemic': 3, 'fever': 3, 'trade': 3, 'origin': 3, 'country': 3, '1929': 3, 'link': 3, 'report': 3, 'argentine': 3, '1929–1930': 2, 'know': 2, 'south': 2, 'america': 2, 'human': 2, 'mid': 2, '1930': 2, 'affect': 2, 'united': 2, 'disease': 2, 'lead': 2, 'córdoba': 2, 'sell': 2, 'theatrical': 2, 'group': 2, 'press': 2, 'death': 2, 'include': 2, 'u.s': 2, 'great': 1, 'series': 1, 'simultaneous': 1, 'accelerate': 1, 'breeding': 1, 'transportation': 1, 'crowded': 1, 'container': 1, 'purpose': 1, 'initially': 1, 'see': 1, 'shortly': 1, 'find': 1, 'spread': 1, 'specie': 1, 'worldwide': 1, 'early': 1, 'diagnose': 1, 'clinical': 1, 'feature': 1, '750': 1, '800': 1, 'people': 1, 'globally': 1, 'mortality': 1, '15': 1, 'mode': 1, 'transmission': 1, 'mouth': 1, 'beak': 1, 'contact': 1, 'inhaling': 1, 'dry': 1, 'secretion': 1, 'dropping': 1, 'time': 1, 'cause': 1, 'chlamydia': 1, 'psittaci': 1, 'usually': 1, 'remain': 1, 'dormant': 1, 'activate': 1, 'stress': 1, 'capture': 1, 'confinement': 1, 'discover': 1, 'birmingham': 1, 'kingdom': 1, 'buenos': 1, 'aire': 1, 'argentina': 1, 'ongoing': 1, 'caution': 1, 'owner': 1, 'declare': 1, 'sick': 1, 'city': 1, 'trace': 1, 'import': 1, '5,000': 1, 'brazil': 1, 'stop': 1, 'number': 1, 'illegally': 1, 'visitor': 1, 'seaport': 1, 'consequence': 1, 'transmit': 1, 'november': 1, 'local': 1, 'january': 1, 'atypical': 1, 'pneumonia': 1, 'family': 1, 'appear': 1, 'maryland': 1, 'states': 1, 'story': 1, 'headline': 1, 'american': 1, 'follow': 1, 'ban': 1, 'implement': 1, 'subsequently': 1, 'germany': 1, 'france': 1, 'australia': 1, 'understand': 1, 'importation': 1, 'green': 1, 'amazon': 1, 'later': 1, 'principal': 1, 'source': 1, 'domestic': 1, 'lovebird': 1, 'raise': 1, 'californian': 1, 'aviary': 1, 'mainly': 1, 'housewife': 1, 'widow': 1, 'impact': 1, 'hygienic': 1, 'laboratory': 1, '16': 1, 'worker': 1, 'formation': 1, 'national': 1, 'institute': 1, 'health': 1}), Counter({'science': 7, 'global': 4, 'diplomacy': 3, 'collaborative': 2, 'effort': 2, 'entity': 2, 'issue': 2, 'advance': 2, 'official': 2, 'treatment': 2, 'continue': 2, 'research': 2, 'disease': 2, 'local': 1, 'solve': 1, 'technology': 1, 'base': 1, 'collaboration': 1, 'take': 1, 'place': 1, 'facilitate': 1, 'diplomatic': 1, 'relation': 1, 'allow': 1, 'conflict': 1, 'nation': 1, 'come': 1, 'find': 1, 'solution': 1, 'organization': 1, 'researcher': 1, 'public': 1, 'health': 1, 'country': 1, 'government': 1, 'clinician': 1, 'previously': 1, 'work': 1, 'create': 1, 'effective': 1, 'measure': 1, 'infection': 1, 'control': 1, 'subsequent': 1, 'sharing': 1, 'resource': 1, 'datum': 1, 'idea': 1, 'put': 1, 'effect': 1, 'law': 1, 'regulation': 1, 'scientific': 1, 'world': 1, 'vaccine': 1, 'possess': 1, 'consider': 1, 'deadly': 1, 'tuberculosis': 1, 'tetanus': 1, 'polio': 1, 'influenza': 1, 'etc': 1, 'historically': 1, 'prove': 1, 'successful': 1, 'sars': 1, 'ebola': 1, 'zika': 1, 'relevant': 1, 'covid-19': 1, 'pandemic': 1, 'today': 1}), Counter({'pandemic': 9, 'flu': 6, 'influenza': 6, 'spanish': 4, '1918': 4, 'million': 4, 'high': 4, 'deadly': 3, 'virus': 3, 'mortality': 3, 'young': 3, 'rate': 3, 'cause': 2, 'h1n1': 2, 'world': 2, 'death': 2, 'typically': 2, 'illness': 2, 'united': 2, 'war': 2, 'report': 2, 'spain': 2, 'kill': 2, 'adult': 2, 'analysis': 2, 'medical': 2, 'superinfection': 2, 'know': 1, 'unusually': 1, 'last': 1, 'february': 1, 'april': 1, '1920': 1, 'infect': 1, '500': 1, 'people': 1, 'population': 1, 'time': 1, 'successive': 1, 'wave': 1, 'toll': 1, 'estimate': 1, '17': 1, '50': 1, 'possibly': 1, '100': 1, 'make': 1, 'human': 1, 'history.the': 1, 'observation': 1, 'document': 1, 'states': 1, 'fort': 1, 'riley': 1, 'haskell': 1, 'county': 1, 'kansas': 1, 'new': 1, 'york': 1, 'city': 1, 'france': 1, 'brest': 1, 'germany': 1, 'kingdom': 1, 'maintain': 1, 'morale': 1, 'censor': 1, 'minimize': 1, 'early': 1, 'newspaper': 1, 'free': 1, 'epidemic': 1, 'effect': 1, 'neutral': 1, 'grave': 1, 'king': 1, 'alfonso': 1, 'xiii': 1, 'story': 1, 'create': 1, 'false': 1, 'impression': 1, 'especially': 1, 'hard': 1, 'hit': 1, 'give': 1, 'rise': 1, 'historical': 1, 'epidemiological': 1, 'datum': 1, 'inadequate': 1, 'identify': 1, 'certainty': 1, 'geographic': 1, 'origin': 1, 'vary': 1, 'view': 1, 'location': 1, 'outbreak': 1, 'disproportionately': 1, 'old': 1, 'survival': 1, 'result': 1, 'expect': 1, 'scientist': 1, 'offer': 1, 'possible': 1, 'explanation': 1, 'show': 1, 'particularly': 1, 'trigger': 1, 'cytokine': 1, 'storm': 1, 'ravage': 1, 'strong': 1, 'immune': 1, 'system': 1, 'contrast': 1, '2007': 1, 'journal': 1, 'period': 1, 'find': 1, 'viral': 1, 'infection': 1, 'aggressive': 1, 'previous': 1, 'strain': 1, 'instead': 1, 'malnourishment': 1, 'overcrowded': 1, 'camp': 1, 'hospital': 1, 'poor': 1, 'hygiene': 1, 'exacerbate': 1, 'recent': 1, 'promote': 1, 'bacterial': 1, 'victim': 1, 'somewhat': 1, 'prolonged': 1, 'bed.the': 1, 'second': 1, '2009': 1, 'swine': 1}), Counter({'superspreader': 5, 'infect': 4, 'individual': 3, 'transmission': 2, 'infection': 2, 'unusually': 1, 'contagious': 1, 'organism': 1, 'disease': 1, 'context': 1, 'human': 1, 'borne': 1, 'illness': 1, 'likely': 1, 'compare': 1, 'typical': 1, 'infected': 1, 'person': 1, 'particular': 1, 'concern': 1, 'epidemiology': 1, 'case': 1, 'superspreade': 1, 'conform': 1, '80/20': 1, 'rule': 1, 'approximately': 1, '20': 1, 'responsible': 1, '80': 1, 'superspreading': 1, 'say': 1, 'occur': 1, 'account': 1, 'high': 1, 'low': 1, 'percentage': 1, 'epidemic': 1, 'event': 1, 'ssev': 1, 'majority': 1, 'relatively': 1, 'secondary': 1, 'contacts.ssev': 1, 'shape': 1, 'multiple': 1, 'factor': 1, 'include': 1, 'decline': 1, 'herd': 1, 'immunity': 1, 'nosocomial': 1, 'virulence': 1, 'viral': 1, 'load': 1, 'misdiagnosis': 1, 'airflow': 1, 'dynamic': 1, 'immune': 1, 'suppression': 1, 'co': 1, 'pathogen': 1}), Counter({'swine': 11, 'influenza': 11, 'flu': 10, 'human': 7, 'virus': 6, 'pig': 4, 'transmission': 4, 'strain': 3, 'pandemic': 3, 'infection': 2, 'cause': 2, 'siv': 2, '2009': 2, 'know': 2, 'subtype': 2, 'common': 2, 'population': 2, 'worldwide': 2, 'zoonotic': 2, 'people': 2, 'possible': 2, 'illness': 2, 'general': 2, 'estimate': 2, 'billion': 2, 'fatality': 2, 'range': 2, 'case': 2, '2015': 2, 'type': 1, 'origin': 1, 's': 1, 'oiv': 1, 'family': 1, 'endemic': 1, 'include': 1, 'c': 1, 'h1n1': 1, 'h1n2': 1, 'h2n1': 1, 'h3n1': 1, 'h3n2': 1, 'h2n3': 1, 'lead': 1, 'result': 1, 'production': 1, 'antibody': 1, 'blood': 1, 'call': 1, 'regular': 1, 'exposure': 1, 'increase': 1, 'risk': 1, 'mid-20th': 1, 'century': 1, 'identification': 1, 'allow': 1, 'accurate': 1, 'diagnosis': 1, '50': 1, 'confirm': 1, 'rarely': 1, 'pass': 1, 'symptom': 1, 'similar': 1, 'like': 1, 'chill': 1, 'fever': 1, 'sore': 1, 'throat': 1, 'muscle': 1, 'pain': 1, 'severe': 1, 'headache': 1, 'coughing': 1, 'weakness': 1, 'shortness': 1, 'breath': 1, 'discomfort': 1, '11–21': 1, 'global': 1, '6.8': 1, '700': 1, 'million': 1, '1.4': 1, 'contract': 1, 'absolute': 1, 'term': 1, 'spanish': 1, 'actual': 1, '12,000': 1, '18,000': 1, '2012': 1, 'study': 1, 'cdc': 1, '284,000': 1, '150,000': 1, '575,000': 1, 'august': 1, '2010': 1, 'world': 1, 'health': 1, 'organization': 1, 'declare': 1, 'officially': 1, 'over.subsequent': 1, 'report': 1, 'india': 1, '31,156': 1, 'positive': 1, 'test': 1, '1,841': 1, 'death': 1, 'march': 1}), Counter({'immunization': 3, 'strategy': 3, 'epidemic': 2, 'outbreak': 2, 'biological': 2, 'target': 1, 'approach': 1, 'design': 1, 'increase': 1, 'level': 1, 'population': 1, 'decrease': 1, 'chance': 1, 'regard': 1, 'use': 1, 'healthcare': 1, 'practice': 1, 'administration': 1, 'vaccines': 1, 'prevent': 1, 'refer': 1, 'general': 1, 'scheme': 1, 'complex': 1, 'network': 1, 'social': 1, 'artificial': 1, 'nature': 1, 'identification': 1, 'risk': 1, 'group': 1, 'individual': 1, 'high': 1, 'odd': 1, 'spread': 1, 'disease': 1, 'play': 1, 'important': 1, 'role': 1}), Counter({'uvis': 8, 'new': 7, 'york': 6, 'city': 5, 'ocme': 5, 'identification': 2, 'system': 2, 'office': 2, 'chief': 2, 'medical': 2, 'examiner': 2, 'disaster': 2, 'strong': 2, 'flexible': 2, 'role': 2, 'base': 2, 'application': 2, 'permission': 2, 'control': 2, 'event': 2, 'facilitate': 2, 'company': 2, 'state': 2, 'unified': 1, 'victim': 1, 'internet': 1, 'enable': 1, 'database': 1, 'develop': 1, 'aftermath': 1, 'september': 1, '11': 1, 'attack': 1, 'crash': 1, 'american': 1, 'airlines': 1, 'flight': 1, '587': 1, 'intend': 1, 'handle': 1, 'critical': 1, 'fatality': 1, 'management': 1, 'function': 1, 'necessary': 1, 'major': 1, 'dynamically.in': 1, 'mass': 1, 'casualty': 1, 'initially': 1, '311': 1, 'center': 1, 'operator': 1, 'police': 1, 'department': 1, 'gather': 1, 'key': 1, 'information': 1, 'compile': 1, 'accurate': 1, 'list': 1, 'miss': 1, 'person': 1, 'track': 1, 'decedent': 1, 'collect': 1, 'postmortem': 1, 'finding': 1, 'process': 1, 'contain': 1, 'pandemic': 1, 'flu': 1, 'module': 1, 'prepare': 1, 'eventuality': 1, 'dynamically': 1, 'build': 1, 'nihilent': 1, 'consulting': 1, 'solution': 1, 'integration': 1, 'lead': 1, 'design': 1, 'thinking': 1, 'know': 1, 'icra': 1, 'sapphire).developed': 1, 'public': 1, 'fund': 1, 'available': 1, 'municipality': 1, 'county': 1, 'governmental': 1, 'agency': 1, 'charge': 1, 'license': 1, 'currently': 1, 'use': 1, 'jersey': 1, 'ocsme': 1}), Counter({'viral': 14, 'load': 6, 'virus': 5, 'fluid': 3, 'infection': 3, 'hiv': 3, 'burden': 2, 'titre': 2, 'quantity': 2, 'give': 2, 'blood': 2, 'plasma': 2, 'example': 2, 'norovirus': 2, 'produce': 2, 'infectious': 2, 'particle': 2, 'ml': 2, 'hepatitis': 2, 'know': 1, 'titer': 1, 'numerical': 1, 'expression': 1, 'volume': 1, 'sputum': 1, 'bodily': 1, 'determine': 1, 'run': 1, 'water': 1, 'garden': 1, 'prolong': 1, 'shedding': 1, 'ability': 1, 'survive': 1, 'environment': 1, 'minuscule': 1, 'dose': 1, 'require': 1, 'human': 1, '100': 1, 'particles.viral': 1, 'express': 1, 'depend': 1, 'type': 1, 'assay': 1, 'high': 1, 'correlate': 1, 'severity': 1, 'active': 1, 'calculate': 1, 'estimate': 1, 'live': 1, 'involved': 1, 'rna': 1, 'copy': 1, 'millilitre': 1, 'track': 1, 'monitor': 1, 'therapy': 1, 'chronic': 1, 'immunocompromise': 1, 'patient': 1, 'recover': 1, 'bone': 1, 'marrow': 1, 'solid': 1, 'organ': 1, 'transplantation': 1, 'currently': 1, 'routine': 1, 'testing': 1, 'available': 1, 'hiv-1': 1, 'cytomegalovirus': 1, 'b': 1, 'c': 1, 'monitoring': 1, 'particular': 1, 'interest': 1, 'treatment': 1, 'people': 1, 'continually': 1, 'discuss': 1, 'context': 1, 'management': 1, 'aids': 1}), Counter({'virus': 24, 'infect': 9, 'cell': 7, 'life': 5, 'plant': 5, 'infection': 5, 'form': 4, 'genetic': 4, 'organism': 3, 'type': 3, 'animal': 3, 'bacteria': 3, 'describe': 3, 'specie': 3, 'host': 3, 'produce': 3, 'particle': 3, 'material': 3, 'structure': 3, 'evolve': 3, 'mean': 3, 'transmit': 3, 'viral': 3, 'immune': 3, 'response': 3, 'infectious': 2, 'inside': 2, 'include': 2, 'tobacco': 2, 'know': 2, 'virion': 2, 'dna': 2, 'protein': 2, 'range': 2, 'way': 2, 'sexual': 2, 'consider': 2, 'carry': 2, 'spread': 2, 'insect': 2, 'blood': 2, 'norovirus': 2, 'cause': 2, 'contact': 2, 'capable': 2, 'submicroscopic': 1, 'agent': 1, 'replicate': 1, 'live': 1, 'microorganism': 1, 'archaea': 1, 'dmitri': 1, 'ivanovsky': 1, '1892': 1, 'article': 1, 'non': 1, 'bacterial': 1, 'pathogen': 1, 'discovery': 1, 'mosaic': 1, 'martinus': 1, 'beijerinck': 1, '1898': 1, '6,000': 1, 'detail': 1, 'million': 1, 'environment': 1, 'find': 1, 'ecosystem': 1, 'earth': 1, 'numerous': 1, 'biological': 1, 'entity': 1, 'study': 1, 'virology': 1, 'subspeciality': 1, 'microbiology': 1, 'force': 1, 'rapidly': 1, 'thousand': 1, 'identical': 1, 'copy': 1, 'original': 1, 'infected': 1, 'process': 1, 'exist': 1, 'independent': 1, 'consist': 1, 'i.e.': 1, 'long': 1, 'molecule': 1, 'rna': 1, 'encode': 1, 'act': 1, 'ii': 1, 'coat': 1, 'capsid': 1, 'surround': 1, 'protect': 1, 'case': 1, 'iii': 1, 'outside': 1, 'envelope': 1, 'lipid': 1, 'shape': 1, 'simple': 1, 'helical': 1, 'icosahedral': 1, 'complex': 1, 'small': 1, 'see': 1, 'optical': 1, 'microscope': 1, 'hundredth': 1, 'size': 1, 'origin': 1, 'evolutionary': 1, 'history': 1, 'unclear': 1, 'plasmid': 1, 'piece': 1, 'evolution': 1, 'important': 1, 'horizontal': 1, 'gene': 1, 'transfer': 1, 'increase': 1, 'diversity': 1, 'analogous': 1, 'reproduction': 1, 'biologist': 1, 'reproduce': 1, 'natural': 1, 'selection': 1, 'lack': 1, 'key': 1, 'characteristic': 1, 'generally': 1, 'necessary': 1, 'criterion': 1, 'possess': 1, 'quality': 1, 'edge': 1, 'self-replicators.viruses': 1, 'transmission': 1, 'pathway': 1, 'disease': 1, 'bear': 1, 'vector': 1, 'example': 1, 'feed': 1, 'sap': 1, 'aphid': 1, 'suck': 1, 'influenza': 1, 'cough': 1, 'sneezing': 1, 'rotavirus': 1, 'common': 1, 'gastroenteritis': 1, 'faecal': 1, 'oral': 1, 'route': 1, 'pass': 1, 'hand': 1, 'mouth': 1, 'food': 1, 'water': 1, 'dose': 1, 'require': 1, 'human': 1, '100': 1, 'hiv': 1, 'exposure': 1, 'variety': 1, 'call': 1, 'narrow': 1, 'broad': 1, 'many.viral': 1, 'provoke': 1, 'usually': 1, 'eliminate': 1, 'vaccine': 1, 'confer': 1, 'artificially': 1, 'acquire': 1, 'immunity': 1, 'specific': 1, 'aids': 1, 'hpv': 1, 'hepatitis': 1, 'evade': 1, 'result': 1, 'chronic': 1, 'antiviral': 1, 'drug': 1, 'develop': 1})]\n"
          ]
        }
      ],
      "source": [
        "# count how many times each token occurs in a document\n",
        "docs_token_counter = []\n",
        "for s in summaries:\n",
        "    # for each document, count how many of each token they have\n",
        "    docs_token_counter.append(Counter(s['tokenized_text']))\n",
        "print(docs_token_counter)\n",
        "\n",
        "# alternatively use scikit-learns CountVectorizer\n",
        "# vectorizer = CountVectorizer()"
      ]
    },
    {
      "cell_type": "code",
      "execution_count": 20,
      "metadata": {
        "id": "PAaa-ALXIdbR",
        "colab": {
          "base_uri": "https://localhost:8080/"
        },
        "outputId": "0295184f-9455-427e-e4f9-bf9d09022a09"
      },
      "outputs": [
        {
          "output_type": "stream",
          "name": "stdout",
          "text": [
            "17\n"
          ]
        }
      ],
      "source": [
        "# count the number of appearances of each token over all documents\n",
        "number_docs_with_token  = {}\n",
        "for token in vocab:\n",
        "   # for each token in corpus vocabulary, count in how many documents it occurs\n",
        "   count_docs = sum([1 for d in docs_token_counter if token in d.keys()])\n",
        "   number_docs_with_token[token] = count_docs\n",
        "print(number_docs_with_token['pandemic'])"
      ]
    },
    {
      "cell_type": "code",
      "source": [
        "# compute tfidf\n",
        "for i, s in enumerate(docs_token_counter):\n",
        "  doc_length = len(s)\n",
        "  tfidf_vec = []\n",
        "  for token in vocab:\n",
        "    tf = s[token] / len(summaries[i]['tokenized_text'])\n",
        "    idf = np.log(len(summaries) / number_docs_with_token[token])\n",
        "\n",
        "    tfidf = tf * idf\n",
        "    tfidf_vec.append(tfidf)\n",
        "  \n",
        "  # add tfidf-vector to the dictionaries\n",
        "  summaries[i]['tfidf'] = tfidf_vec\n",
        "\n",
        "# alternatively use scikit-learns TfidfVectorizer \n",
        "# vectorizer = TfidfVectorizer()"
      ],
      "metadata": {
        "id": "6DyfliUhjod-"
      },
      "execution_count": 21,
      "outputs": []
    },
    {
      "cell_type": "code",
      "source": [
        "# save an updated summaries version with computed tfidf-vectors\n",
        "with open(DATA_DIR + 'summaries.json', 'w') as outfile:\n",
        "    json.dump(summaries, outfile)"
      ],
      "metadata": {
        "id": "ebo7XdL27X5u"
      },
      "execution_count": 22,
      "outputs": []
    },
    {
      "cell_type": "markdown",
      "metadata": {
        "id": "nFyJijwxIdbT"
      },
      "source": [
        "### **Vectorize query**"
      ]
    },
    {
      "cell_type": "code",
      "execution_count": 23,
      "metadata": {
        "id": "4oblMyBvIdbU"
      },
      "outputs": [],
      "source": [
        "# build a vectorizer function for search queries\n",
        "def vectorize(query, vocab=vocab):\n",
        "    query_tokenized = tokenizer(query)\n",
        "    query_token_counter = Counter(query_tokenized)\n",
        "    query_vec = []\n",
        "    for token in vocab:\n",
        "        tf = query_token_counter[token] / len(query_tokenized)\n",
        "        idf = np.log(len(summaries) / number_docs_with_token[token])\n",
        "        tfidf = tf * idf\n",
        "        query_vec.append(tfidf)\n",
        "            \n",
        "    return query_vec"
      ]
    },
    {
      "cell_type": "markdown",
      "metadata": {
        "id": "stsW6-zSIdbU"
      },
      "source": [
        "### **Search documents with scikit-learn**"
      ]
    },
    {
      "cell_type": "code",
      "execution_count": 24,
      "metadata": {
        "id": "Tlhgeft3IdbU"
      },
      "outputs": [],
      "source": [
        "# build a search function\n",
        "def search_tfidf(query, summaries):\n",
        "    \n",
        "    # vectorize query\n",
        "    query_vec = vectorize(query)\n",
        "    query_arr = np.array(query_vec)\n",
        "    \n",
        "    # build a list of results using scitkit-learns cosine_similarity function\n",
        "    results = []\n",
        "    for s in summaries:\n",
        "        # compute cosine similarity\n",
        "        s_result = {}\n",
        "        s_arr = np.array(s['tfidf'])\n",
        "        result = cosine_similarity(query_arr.reshape(1,-1), s_arr.reshape(1,-1))[0][0]\n",
        "        if result > 0:\n",
        "            # list of dictionaries with 'title' and 'result'\n",
        "            s_result['title'] = s['title']\n",
        "            s_result['result'] = result\n",
        "            results.append(s_result)\n",
        "\n",
        "    # sort search results by cosine similarity scores \n",
        "    return sorted(results, key=lambda k: k['result'], reverse=True)"
      ]
    },
    {
      "cell_type": "code",
      "execution_count": 25,
      "metadata": {
        "id": "dDmEpIS8IdbV",
        "outputId": "ae0fcfc1-2fba-4b7a-c353-46f96e6228bb",
        "colab": {
          "base_uri": "https://localhost:8080/"
        }
      },
      "outputs": [
        {
          "output_type": "execute_result",
          "data": {
            "text/plain": [
              "[{'result': 0.11754261855142299, 'title': 'Plague of Cyprian'},\n",
              " {'result': 0.071125289564604, 'title': 'Science diplomacy and pandemics'}]"
            ]
          },
          "metadata": {},
          "execution_count": 25
        }
      ],
      "source": [
        "# test the function\n",
        "search_tfidf(\"ebola\", summaries)"
      ]
    },
    {
      "cell_type": "code",
      "execution_count": 26,
      "metadata": {
        "id": "OiKy1sVxIdbX",
        "outputId": "1b6b01ac-f089-4b94-8adc-61846f4593ef",
        "colab": {
          "base_uri": "https://localhost:8080/"
        }
      },
      "outputs": [
        {
          "output_type": "stream",
          "name": "stdout",
          "text": [
            "['The Plague of Cyprian was a pandemic that afflicted the Roman Empire about from AD 249 to 262. The plague is thought to have caused widespread manpower shortages for food production and the Roman army, severely weakening the empire during the Crisis of the Third Century. Its modern name commemorates St. Cyprian, bishop of Carthage, an early Christian writer who witnessed and described the plague. The agent of the plague is highly speculative because of sparse sourcing, but suspects have included smallpox, pandemic influenza and viral hemorrhagic fever (filoviruses) like the Ebola virus.']\n"
          ]
        }
      ],
      "source": [
        "# check if the article 'Plague of Cyprian' has a word \"ebola\" in it\n",
        "print([s[\"text\"] for s in summaries if s[\"title\"] == 'Plague of Cyprian'])"
      ]
    },
    {
      "cell_type": "markdown",
      "metadata": {
        "id": "kjmqdjPDtQse"
      },
      "source": [
        "### **Build an inverted index**"
      ]
    },
    {
      "cell_type": "code",
      "source": [
        "inverted_index = {}\n",
        "\n",
        "for i, word in enumerate(vocab):\n",
        "  inverted_index[word] = []\n",
        "\n",
        "  for s in summaries:\n",
        "    # list all articles each word in the corpus vocab occurs in + the corresponding word's tfidf-score for this article\n",
        "    if s['tfidf'][i]!=0:\n",
        "      inverted_index[word].append((s['title'], s['tfidf'][i]))"
      ],
      "metadata": {
        "id": "-tvBYYcqsmeL"
      },
      "execution_count": 27,
      "outputs": []
    },
    {
      "cell_type": "code",
      "source": [
        "# print a sample\n",
        "inverted_index[\"ebola\"]"
      ],
      "metadata": {
        "colab": {
          "base_uri": "https://localhost:8080/"
        },
        "id": "Xd8UGcS1vMBQ",
        "outputId": "724ec0f0-ea0e-4fab-927f-51f2d1a11fcc"
      },
      "execution_count": 28,
      "outputs": [
        {
          "output_type": "execute_result",
          "data": {
            "text/plain": [
              "[('Plague of Cyprian', 0.047499062175213644),\n",
              " ('Science diplomacy and pandemics', 0.027286695292144007)]"
            ]
          },
          "metadata": {},
          "execution_count": 28
        }
      ]
    },
    {
      "cell_type": "code",
      "source": [
        "# check if \"ebola\" is indeed in the article\n",
        "print([s[\"text\"] for s in summaries if s[\"title\"] == \"Plague of Cyprian\"])"
      ],
      "metadata": {
        "colab": {
          "base_uri": "https://localhost:8080/"
        },
        "id": "HXv7mCZIwXhG",
        "outputId": "4c278374-278e-44ca-9239-cf91672f8902"
      },
      "execution_count": 29,
      "outputs": [
        {
          "output_type": "stream",
          "name": "stdout",
          "text": [
            "['The Plague of Cyprian was a pandemic that afflicted the Roman Empire about from AD 249 to 262. The plague is thought to have caused widespread manpower shortages for food production and the Roman army, severely weakening the empire during the Crisis of the Third Century. Its modern name commemorates St. Cyprian, bishop of Carthage, an early Christian writer who witnessed and described the plague. The agent of the plague is highly speculative because of sparse sourcing, but suspects have included smallpox, pandemic influenza and viral hemorrhagic fever (filoviruses) like the Ebola virus.']\n"
          ]
        }
      ]
    },
    {
      "cell_type": "markdown",
      "metadata": {
        "id": "f7I-PbZ9xdUm"
      },
      "source": [
        "### **Search inverted index**"
      ]
    },
    {
      "cell_type": "code",
      "source": [
        "# build a search function\n",
        "def search(query, index=inverted_index):\n",
        "  query = tokenizer(query)\n",
        "\n",
        "  # lookup all query tokens in the inverted index\n",
        "  # build a list of articles including them\n",
        "  # creates a list of tuples with titles and tfidf score\n",
        "  token_list = []\n",
        "  for token in query:\n",
        "    try:\n",
        "      token_list.extend(inverted_index[token])\n",
        "    except KeyError:\n",
        "      print(\"Please enter a query containing words from the vocab and try again...\")\n",
        "\n",
        "  # create a dict with compound tfidf scores\n",
        "  results_dict = defaultdict(int)\n",
        "\n",
        "  # for each token take the score and accumulate it\n",
        "  for k, v in token_list:\n",
        "    results_dict[k] += v\n",
        "  results = [(x, y) for x, y in results_dict.items()]\n",
        "\n",
        "  # sort search results by tfidf scores\n",
        "  return sorted(results, key = lambda x: x[1], reverse=True)\n"
      ],
      "metadata": {
        "id": "BIDuE1BHxc9b"
      },
      "execution_count": 30,
      "outputs": []
    },
    {
      "cell_type": "code",
      "source": [
        "# check a multi-word query\n",
        "search(\"is the ebola virus serious?\")"
      ],
      "metadata": {
        "colab": {
          "base_uri": "https://localhost:8080/"
        },
        "id": "J_pFLdHy1qu5",
        "outputId": "b6edc405-e8e1-44be-8bd7-0312e8cb0fd1"
      },
      "execution_count": 31,
      "outputs": [
        {
          "output_type": "execute_result",
          "data": {
            "text/plain": [
              "[('Virus', 0.06746676589985189),\n",
              " ('Plague of Cyprian', 0.0634287152349009),\n",
              " ('Crimson Contagion', 0.0339553131009123),\n",
              " ('Viral load', 0.03386619154421699),\n",
              " ('Disease X', 0.031470777995967494),\n",
              " ('Swine influenza', 0.028050041257275376),\n",
              " ('Science diplomacy and pandemics', 0.027286695292144007),\n",
              " ('HIV/AIDS in Yunnan', 0.022837201731587032),\n",
              " ('HIV/AIDS', 0.013653988336874786),\n",
              " ('Spanish flu', 0.012903018978346673),\n",
              " ('Epidemiology of HIV/AIDS', 0.005973619897382719),\n",
              " ('COVID-19 pandemic', 0.005060007442488892)]"
            ]
          },
          "metadata": {},
          "execution_count": 31
        }
      ]
    }
  ]
}